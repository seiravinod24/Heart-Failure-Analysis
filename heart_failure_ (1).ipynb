{
  "nbformat": 4,
  "nbformat_minor": 0,
  "metadata": {
    "colab": {
      "name": "heart failure .ipynb",
      "provenance": []
    },
    "kernelspec": {
      "display_name": "Python 3",
      "name": "python3"
    },
    "language_info": {
      "name": "python"
    }
  },
  "cells": [
    {
      "cell_type": "markdown",
      "metadata": {
        "id": "-8JMwN-JeH15"
      },
      "source": [
        "## **Heart failure Analysis using pandas, numpy,matpotlib**\n"
      ]
    },
    {
      "cell_type": "code",
      "metadata": {
        "id": "UeZ2zNE3eWcj"
      },
      "source": [
        "import pandas as pd\n",
        "import numpy as np\n",
        "import matplotlib.pyplot as plt\n",
        "%matplotlib inline\n",
        "import warnings\n",
        "import seaborn as sns\n",
        "import plotly.figure_factory as ff\n",
        "import plotly.express as px\n",
        "import plotly.graph_objs as go\n",
        "from plotly.offline import iplot\n",
        "import plotly.express as px\n",
        "\n"
      ],
      "execution_count": 2,
      "outputs": []
    },
    {
      "cell_type": "code",
      "metadata": {
        "colab": {
          "resources": {
            "http://localhost:8080/nbextensions/google.colab/files.js": {
              "data": "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",
              "ok": true,
              "headers": [
                [
                  "content-type",
                  "application/javascript"
                ]
              ],
              "status": 200,
              "status_text": ""
            }
          },
          "base_uri": "https://localhost:8080/",
          "height": 258
        },
        "id": "lC-vuH9ye75G",
        "outputId": "e6184f11-3993-4c8f-f3c7-8e4fbe29dfa8"
      },
      "source": [
        "\n",
        "from google.colab import files\n",
        "  \n",
        "  \n",
        "uploaded = files.upload()\n",
        "\n",
        "import io\n",
        "\n",
        "\n",
        "df=pd.read_csv(io.BytesIO(uploaded['heart_failure_clinical_records_dataset.csv']))\n",
        "df.head()"
      ],
      "execution_count": 3,
      "outputs": [
        {
          "output_type": "display_data",
          "data": {
            "text/html": [
              "\n",
              "     <input type=\"file\" id=\"files-98b6aa8b-ff34-4291-b0d9-abbf5748acad\" name=\"files[]\" multiple disabled\n",
              "        style=\"border:none\" />\n",
              "     <output id=\"result-98b6aa8b-ff34-4291-b0d9-abbf5748acad\">\n",
              "      Upload widget is only available when the cell has been executed in the\n",
              "      current browser session. Please rerun this cell to enable.\n",
              "      </output>\n",
              "      <script src=\"/nbextensions/google.colab/files.js\"></script> "
            ],
            "text/plain": [
              "<IPython.core.display.HTML object>"
            ]
          },
          "metadata": {}
        },
        {
          "output_type": "stream",
          "name": "stdout",
          "text": [
            "Saving heart_failure_clinical_records_dataset.csv to heart_failure_clinical_records_dataset.csv\n"
          ]
        },
        {
          "output_type": "execute_result",
          "data": {
            "text/html": [
              "<div>\n",
              "<style scoped>\n",
              "    .dataframe tbody tr th:only-of-type {\n",
              "        vertical-align: middle;\n",
              "    }\n",
              "\n",
              "    .dataframe tbody tr th {\n",
              "        vertical-align: top;\n",
              "    }\n",
              "\n",
              "    .dataframe thead th {\n",
              "        text-align: right;\n",
              "    }\n",
              "</style>\n",
              "<table border=\"1\" class=\"dataframe\">\n",
              "  <thead>\n",
              "    <tr style=\"text-align: right;\">\n",
              "      <th></th>\n",
              "      <th>age</th>\n",
              "      <th>anaemia</th>\n",
              "      <th>creatinine_phosphokinase</th>\n",
              "      <th>diabetes</th>\n",
              "      <th>ejection_fraction</th>\n",
              "      <th>high_blood_pressure</th>\n",
              "      <th>platelets</th>\n",
              "      <th>serum_creatinine</th>\n",
              "      <th>serum_sodium</th>\n",
              "      <th>sex</th>\n",
              "      <th>smoking</th>\n",
              "      <th>time</th>\n",
              "      <th>DEATH_EVENT</th>\n",
              "    </tr>\n",
              "  </thead>\n",
              "  <tbody>\n",
              "    <tr>\n",
              "      <th>0</th>\n",
              "      <td>75.0</td>\n",
              "      <td>0</td>\n",
              "      <td>582</td>\n",
              "      <td>0</td>\n",
              "      <td>20</td>\n",
              "      <td>1</td>\n",
              "      <td>265000.00</td>\n",
              "      <td>1.9</td>\n",
              "      <td>130</td>\n",
              "      <td>1</td>\n",
              "      <td>0</td>\n",
              "      <td>4</td>\n",
              "      <td>1</td>\n",
              "    </tr>\n",
              "    <tr>\n",
              "      <th>1</th>\n",
              "      <td>55.0</td>\n",
              "      <td>0</td>\n",
              "      <td>7861</td>\n",
              "      <td>0</td>\n",
              "      <td>38</td>\n",
              "      <td>0</td>\n",
              "      <td>263358.03</td>\n",
              "      <td>1.1</td>\n",
              "      <td>136</td>\n",
              "      <td>1</td>\n",
              "      <td>0</td>\n",
              "      <td>6</td>\n",
              "      <td>1</td>\n",
              "    </tr>\n",
              "    <tr>\n",
              "      <th>2</th>\n",
              "      <td>65.0</td>\n",
              "      <td>0</td>\n",
              "      <td>146</td>\n",
              "      <td>0</td>\n",
              "      <td>20</td>\n",
              "      <td>0</td>\n",
              "      <td>162000.00</td>\n",
              "      <td>1.3</td>\n",
              "      <td>129</td>\n",
              "      <td>1</td>\n",
              "      <td>1</td>\n",
              "      <td>7</td>\n",
              "      <td>1</td>\n",
              "    </tr>\n",
              "    <tr>\n",
              "      <th>3</th>\n",
              "      <td>50.0</td>\n",
              "      <td>1</td>\n",
              "      <td>111</td>\n",
              "      <td>0</td>\n",
              "      <td>20</td>\n",
              "      <td>0</td>\n",
              "      <td>210000.00</td>\n",
              "      <td>1.9</td>\n",
              "      <td>137</td>\n",
              "      <td>1</td>\n",
              "      <td>0</td>\n",
              "      <td>7</td>\n",
              "      <td>1</td>\n",
              "    </tr>\n",
              "    <tr>\n",
              "      <th>4</th>\n",
              "      <td>65.0</td>\n",
              "      <td>1</td>\n",
              "      <td>160</td>\n",
              "      <td>1</td>\n",
              "      <td>20</td>\n",
              "      <td>0</td>\n",
              "      <td>327000.00</td>\n",
              "      <td>2.7</td>\n",
              "      <td>116</td>\n",
              "      <td>0</td>\n",
              "      <td>0</td>\n",
              "      <td>8</td>\n",
              "      <td>1</td>\n",
              "    </tr>\n",
              "  </tbody>\n",
              "</table>\n",
              "</div>"
            ],
            "text/plain": [
              "    age  anaemia  creatinine_phosphokinase  ...  smoking  time  DEATH_EVENT\n",
              "0  75.0        0                       582  ...        0     4            1\n",
              "1  55.0        0                      7861  ...        0     6            1\n",
              "2  65.0        0                       146  ...        1     7            1\n",
              "3  50.0        1                       111  ...        0     7            1\n",
              "4  65.0        1                       160  ...        0     8            1\n",
              "\n",
              "[5 rows x 13 columns]"
            ]
          },
          "metadata": {},
          "execution_count": 3
        }
      ]
    },
    {
      "cell_type": "code",
      "metadata": {
        "colab": {
          "base_uri": "https://localhost:8080/"
        },
        "id": "-FdUB5GajtVE",
        "outputId": "da1e0a55-c0ad-458b-f09f-fd13e6424d34"
      },
      "source": [
        "df.isnull().sum()\n"
      ],
      "execution_count": null,
      "outputs": [
        {
          "data": {
            "text/plain": [
              "age                         0\n",
              "anaemia                     0\n",
              "creatinine_phosphokinase    0\n",
              "diabetes                    0\n",
              "ejection_fraction           0\n",
              "high_blood_pressure         0\n",
              "platelets                   0\n",
              "serum_creatinine            0\n",
              "serum_sodium                0\n",
              "sex                         0\n",
              "smoking                     0\n",
              "time                        0\n",
              "DEATH_EVENT                 0\n",
              "dtype: int64"
            ]
          },
          "execution_count": 8,
          "metadata": {},
          "output_type": "execute_result"
        }
      ]
    },
    {
      "cell_type": "code",
      "metadata": {
        "colab": {
          "base_uri": "https://localhost:8080/"
        },
        "id": "nkTSB6QakFux",
        "outputId": "d4ad847a-9194-40cb-f22a-32f09fe0203b"
      },
      "source": [
        "df.info()\n"
      ],
      "execution_count": null,
      "outputs": [
        {
          "name": "stdout",
          "output_type": "stream",
          "text": [
            "<class 'pandas.core.frame.DataFrame'>\n",
            "RangeIndex: 299 entries, 0 to 298\n",
            "Data columns (total 13 columns):\n",
            " #   Column                    Non-Null Count  Dtype  \n",
            "---  ------                    --------------  -----  \n",
            " 0   age                       299 non-null    float64\n",
            " 1   anaemia                   299 non-null    int64  \n",
            " 2   creatinine_phosphokinase  299 non-null    int64  \n",
            " 3   diabetes                  299 non-null    int64  \n",
            " 4   ejection_fraction         299 non-null    int64  \n",
            " 5   high_blood_pressure       299 non-null    int64  \n",
            " 6   platelets                 299 non-null    float64\n",
            " 7   serum_creatinine          299 non-null    float64\n",
            " 8   serum_sodium              299 non-null    int64  \n",
            " 9   sex                       299 non-null    int64  \n",
            " 10  smoking                   299 non-null    int64  \n",
            " 11  time                      299 non-null    int64  \n",
            " 12  DEATH_EVENT               299 non-null    int64  \n",
            "dtypes: float64(3), int64(10)\n",
            "memory usage: 30.5 KB\n"
          ]
        }
      ]
    },
    {
      "cell_type": "code",
      "metadata": {
        "colab": {
          "base_uri": "https://localhost:8080/",
          "height": 315
        },
        "id": "ugxZIdfqZ_cE",
        "outputId": "b2fabc3f-6566-4446-b5cc-4f1fe6dd1f64"
      },
      "source": [
        "df.describe()"
      ],
      "execution_count": 5,
      "outputs": [
        {
          "output_type": "execute_result",
          "data": {
            "text/html": [
              "<div>\n",
              "<style scoped>\n",
              "    .dataframe tbody tr th:only-of-type {\n",
              "        vertical-align: middle;\n",
              "    }\n",
              "\n",
              "    .dataframe tbody tr th {\n",
              "        vertical-align: top;\n",
              "    }\n",
              "\n",
              "    .dataframe thead th {\n",
              "        text-align: right;\n",
              "    }\n",
              "</style>\n",
              "<table border=\"1\" class=\"dataframe\">\n",
              "  <thead>\n",
              "    <tr style=\"text-align: right;\">\n",
              "      <th></th>\n",
              "      <th>age</th>\n",
              "      <th>anaemia</th>\n",
              "      <th>creatinine_phosphokinase</th>\n",
              "      <th>diabetes</th>\n",
              "      <th>ejection_fraction</th>\n",
              "      <th>high_blood_pressure</th>\n",
              "      <th>platelets</th>\n",
              "      <th>serum_creatinine</th>\n",
              "      <th>serum_sodium</th>\n",
              "      <th>sex</th>\n",
              "      <th>smoking</th>\n",
              "      <th>time</th>\n",
              "      <th>DEATH_EVENT</th>\n",
              "    </tr>\n",
              "  </thead>\n",
              "  <tbody>\n",
              "    <tr>\n",
              "      <th>count</th>\n",
              "      <td>299.000000</td>\n",
              "      <td>299.000000</td>\n",
              "      <td>299.000000</td>\n",
              "      <td>299.000000</td>\n",
              "      <td>299.000000</td>\n",
              "      <td>299.000000</td>\n",
              "      <td>299.000000</td>\n",
              "      <td>299.00000</td>\n",
              "      <td>299.000000</td>\n",
              "      <td>299.000000</td>\n",
              "      <td>299.00000</td>\n",
              "      <td>299.000000</td>\n",
              "      <td>299.00000</td>\n",
              "    </tr>\n",
              "    <tr>\n",
              "      <th>mean</th>\n",
              "      <td>60.833893</td>\n",
              "      <td>0.431438</td>\n",
              "      <td>581.839465</td>\n",
              "      <td>0.418060</td>\n",
              "      <td>38.083612</td>\n",
              "      <td>0.351171</td>\n",
              "      <td>263358.029264</td>\n",
              "      <td>1.39388</td>\n",
              "      <td>136.625418</td>\n",
              "      <td>0.648829</td>\n",
              "      <td>0.32107</td>\n",
              "      <td>130.260870</td>\n",
              "      <td>0.32107</td>\n",
              "    </tr>\n",
              "    <tr>\n",
              "      <th>std</th>\n",
              "      <td>11.894809</td>\n",
              "      <td>0.496107</td>\n",
              "      <td>970.287881</td>\n",
              "      <td>0.494067</td>\n",
              "      <td>11.834841</td>\n",
              "      <td>0.478136</td>\n",
              "      <td>97804.236869</td>\n",
              "      <td>1.03451</td>\n",
              "      <td>4.412477</td>\n",
              "      <td>0.478136</td>\n",
              "      <td>0.46767</td>\n",
              "      <td>77.614208</td>\n",
              "      <td>0.46767</td>\n",
              "    </tr>\n",
              "    <tr>\n",
              "      <th>min</th>\n",
              "      <td>40.000000</td>\n",
              "      <td>0.000000</td>\n",
              "      <td>23.000000</td>\n",
              "      <td>0.000000</td>\n",
              "      <td>14.000000</td>\n",
              "      <td>0.000000</td>\n",
              "      <td>25100.000000</td>\n",
              "      <td>0.50000</td>\n",
              "      <td>113.000000</td>\n",
              "      <td>0.000000</td>\n",
              "      <td>0.00000</td>\n",
              "      <td>4.000000</td>\n",
              "      <td>0.00000</td>\n",
              "    </tr>\n",
              "    <tr>\n",
              "      <th>25%</th>\n",
              "      <td>51.000000</td>\n",
              "      <td>0.000000</td>\n",
              "      <td>116.500000</td>\n",
              "      <td>0.000000</td>\n",
              "      <td>30.000000</td>\n",
              "      <td>0.000000</td>\n",
              "      <td>212500.000000</td>\n",
              "      <td>0.90000</td>\n",
              "      <td>134.000000</td>\n",
              "      <td>0.000000</td>\n",
              "      <td>0.00000</td>\n",
              "      <td>73.000000</td>\n",
              "      <td>0.00000</td>\n",
              "    </tr>\n",
              "    <tr>\n",
              "      <th>50%</th>\n",
              "      <td>60.000000</td>\n",
              "      <td>0.000000</td>\n",
              "      <td>250.000000</td>\n",
              "      <td>0.000000</td>\n",
              "      <td>38.000000</td>\n",
              "      <td>0.000000</td>\n",
              "      <td>262000.000000</td>\n",
              "      <td>1.10000</td>\n",
              "      <td>137.000000</td>\n",
              "      <td>1.000000</td>\n",
              "      <td>0.00000</td>\n",
              "      <td>115.000000</td>\n",
              "      <td>0.00000</td>\n",
              "    </tr>\n",
              "    <tr>\n",
              "      <th>75%</th>\n",
              "      <td>70.000000</td>\n",
              "      <td>1.000000</td>\n",
              "      <td>582.000000</td>\n",
              "      <td>1.000000</td>\n",
              "      <td>45.000000</td>\n",
              "      <td>1.000000</td>\n",
              "      <td>303500.000000</td>\n",
              "      <td>1.40000</td>\n",
              "      <td>140.000000</td>\n",
              "      <td>1.000000</td>\n",
              "      <td>1.00000</td>\n",
              "      <td>203.000000</td>\n",
              "      <td>1.00000</td>\n",
              "    </tr>\n",
              "    <tr>\n",
              "      <th>max</th>\n",
              "      <td>95.000000</td>\n",
              "      <td>1.000000</td>\n",
              "      <td>7861.000000</td>\n",
              "      <td>1.000000</td>\n",
              "      <td>80.000000</td>\n",
              "      <td>1.000000</td>\n",
              "      <td>850000.000000</td>\n",
              "      <td>9.40000</td>\n",
              "      <td>148.000000</td>\n",
              "      <td>1.000000</td>\n",
              "      <td>1.00000</td>\n",
              "      <td>285.000000</td>\n",
              "      <td>1.00000</td>\n",
              "    </tr>\n",
              "  </tbody>\n",
              "</table>\n",
              "</div>"
            ],
            "text/plain": [
              "              age     anaemia  ...        time  DEATH_EVENT\n",
              "count  299.000000  299.000000  ...  299.000000    299.00000\n",
              "mean    60.833893    0.431438  ...  130.260870      0.32107\n",
              "std     11.894809    0.496107  ...   77.614208      0.46767\n",
              "min     40.000000    0.000000  ...    4.000000      0.00000\n",
              "25%     51.000000    0.000000  ...   73.000000      0.00000\n",
              "50%     60.000000    0.000000  ...  115.000000      0.00000\n",
              "75%     70.000000    1.000000  ...  203.000000      1.00000\n",
              "max     95.000000    1.000000  ...  285.000000      1.00000\n",
              "\n",
              "[8 rows x 13 columns]"
            ]
          },
          "metadata": {},
          "execution_count": 5
        }
      ]
    },
    {
      "cell_type": "code",
      "metadata": {
        "colab": {
          "base_uri": "https://localhost:8080/",
          "height": 542
        },
        "id": "PjIwJOmul0S-",
        "outputId": "d23346ef-760b-4a50-9c43-650847b701cc"
      },
      "source": [
        "fig=ff.create_distplot([df['age'].values],['age'])\n",
        "fig.update_layout(title_text='Age Distribution plot')\n",
        "fig.show()"
      ],
      "execution_count": null,
      "outputs": [
        {
          "data": {
            "text/html": [
              "<html>\n",
              "<head><meta charset=\"utf-8\" /></head>\n",
              "<body>\n",
              "    <div>\n",
              "            <script src=\"https://cdnjs.cloudflare.com/ajax/libs/mathjax/2.7.5/MathJax.js?config=TeX-AMS-MML_SVG\"></script><script type=\"text/javascript\">if (window.MathJax) {MathJax.Hub.Config({SVG: {font: \"STIX-Web\"}});}</script>\n",
              "                <script type=\"text/javascript\">window.PlotlyConfig = {MathJaxConfig: 'local'};</script>\n",
              "        <script src=\"https://cdn.plot.ly/plotly-latest.min.js\"></script>    \n",
              "            <div id=\"c064338f-bc80-4da3-941c-6ffcaaf2cf27\" class=\"plotly-graph-div\" style=\"height:525px; width:100%;\"></div>\n",
              "            <script type=\"text/javascript\">\n",
              "                \n",
              "                    window.PLOTLYENV=window.PLOTLYENV || {};\n",
              "                    \n",
              "                if (document.getElementById(\"c064338f-bc80-4da3-941c-6ffcaaf2cf27\")) {\n",
              "                    Plotly.newPlot(\n",
              "                        'c064338f-bc80-4da3-941c-6ffcaaf2cf27',\n",
              "                        [{\"autobinx\": false, \"histnorm\": \"probability density\", \"legendgroup\": \"age\", \"marker\": {\"color\": \"rgb(31, 119, 180)\"}, \"name\": \"age\", \"opacity\": 0.7, \"type\": \"histogram\", \"x\": [75.0, 55.0, 65.0, 50.0, 65.0, 90.0, 75.0, 60.0, 65.0, 80.0, 75.0, 62.0, 45.0, 50.0, 49.0, 82.0, 87.0, 45.0, 70.0, 48.0, 65.0, 65.0, 68.0, 53.0, 75.0, 80.0, 95.0, 70.0, 58.0, 82.0, 94.0, 85.0, 50.0, 50.0, 65.0, 69.0, 90.0, 82.0, 60.0, 60.0, 70.0, 50.0, 70.0, 72.0, 60.0, 50.0, 51.0, 60.0, 80.0, 57.0, 68.0, 53.0, 60.0, 70.0, 60.0, 95.0, 70.0, 60.0, 49.0, 72.0, 45.0, 50.0, 55.0, 45.0, 45.0, 60.0, 42.0, 72.0, 70.0, 65.0, 41.0, 58.0, 85.0, 65.0, 69.0, 60.0, 70.0, 42.0, 75.0, 55.0, 70.0, 67.0, 60.0, 79.0, 59.0, 51.0, 55.0, 65.0, 44.0, 57.0, 70.0, 60.0, 42.0, 60.0, 58.0, 58.0, 63.0, 70.0, 60.0, 63.0, 65.0, 75.0, 80.0, 42.0, 60.0, 72.0, 55.0, 45.0, 63.0, 45.0, 85.0, 55.0, 50.0, 70.0, 60.0, 58.0, 60.0, 85.0, 65.0, 86.0, 60.0, 66.0, 60.0, 60.0, 60.0, 43.0, 46.0, 58.0, 61.0, 53.0, 53.0, 60.0, 46.0, 63.0, 81.0, 75.0, 65.0, 68.0, 62.0, 50.0, 80.0, 46.0, 50.0, 61.0, 72.0, 50.0, 52.0, 64.0, 75.0, 60.0, 72.0, 62.0, 50.0, 50.0, 65.0, 60.0, 52.0, 50.0, 85.0, 59.0, 66.0, 45.0, 63.0, 50.0, 45.0, 80.0, 53.0, 59.0, 65.0, 70.0, 51.0, 52.0, 70.0, 50.0, 65.0, 60.0, 69.0, 49.0, 63.0, 55.0, 40.0, 59.0, 65.0, 75.0, 58.0, 60.667, 50.0, 60.0, 60.667, 40.0, 80.0, 64.0, 50.0, 73.0, 45.0, 77.0, 45.0, 65.0, 50.0, 60.0, 63.0, 45.0, 70.0, 60.0, 78.0, 50.0, 40.0, 85.0, 60.0, 49.0, 70.0, 50.0, 78.0, 48.0, 65.0, 73.0, 70.0, 54.0, 68.0, 55.0, 73.0, 65.0, 42.0, 47.0, 58.0, 75.0, 58.0, 55.0, 65.0, 72.0, 60.0, 70.0, 40.0, 53.0, 53.0, 77.0, 75.0, 70.0, 65.0, 55.0, 70.0, 65.0, 40.0, 73.0, 54.0, 61.0, 55.0, 64.0, 40.0, 53.0, 50.0, 55.0, 50.0, 70.0, 53.0, 52.0, 65.0, 58.0, 45.0, 53.0, 55.0, 62.0, 65.0, 68.0, 61.0, 50.0, 55.0, 56.0, 45.0, 40.0, 44.0, 51.0, 67.0, 42.0, 60.0, 45.0, 70.0, 70.0, 50.0, 55.0, 70.0, 70.0, 42.0, 65.0, 50.0, 55.0, 60.0, 45.0, 65.0, 90.0, 45.0, 60.0, 52.0, 63.0, 62.0, 55.0, 45.0, 45.0, 50.0], \"xaxis\": \"x\", \"xbins\": {\"end\": 95.0, \"size\": 1.0, \"start\": 40.0}, \"yaxis\": \"y\"}, {\"legendgroup\": \"age\", \"marker\": {\"color\": \"rgb(31, 119, 180)\"}, \"mode\": \"lines\", \"name\": \"age\", \"showlegend\": false, \"type\": \"scatter\", \"x\": [40.0, 40.11, 40.22, 40.33, 40.44, 40.55, 40.66, 40.77, 40.88, 40.99, 41.1, 41.21, 41.32, 41.43, 41.54, 41.65, 41.76, 41.87, 41.98, 42.09, 42.2, 42.31, 42.42, 42.53, 42.64, 42.75, 42.86, 42.97, 43.08, 43.19, 43.3, 43.41, 43.52, 43.63, 43.74, 43.85, 43.96, 44.07, 44.18, 44.29, 44.4, 44.51, 44.62, 44.730000000000004, 44.84, 44.95, 45.06, 45.17, 45.28, 45.39, 45.5, 45.61, 45.72, 45.83, 45.94, 46.05, 46.16, 46.269999999999996, 46.38, 46.49, 46.6, 46.71, 46.82, 46.93, 47.04, 47.15, 47.26, 47.37, 47.480000000000004, 47.59, 47.7, 47.81, 47.92, 48.03, 48.14, 48.25, 48.36, 48.47, 48.58, 48.69, 48.8, 48.91, 49.019999999999996, 49.13, 49.24, 49.35, 49.46, 49.57, 49.68, 49.79, 49.9, 50.01, 50.12, 50.230000000000004, 50.34, 50.45, 50.56, 50.67, 50.78, 50.89, 51.0, 51.11, 51.22, 51.33, 51.44, 51.55, 51.66, 51.769999999999996, 51.88, 51.99, 52.1, 52.21, 52.32, 52.43, 52.54, 52.65, 52.76, 52.87, 52.980000000000004, 53.09, 53.2, 53.31, 53.42, 53.53, 53.64, 53.75, 53.86, 53.97, 54.08, 54.19, 54.3, 54.41, 54.519999999999996, 54.63, 54.74, 54.85, 54.96, 55.07, 55.18, 55.29, 55.4, 55.51, 55.62, 55.730000000000004, 55.84, 55.95, 56.06, 56.17, 56.28, 56.39, 56.5, 56.61, 56.72, 56.83, 56.94, 57.05, 57.16, 57.269999999999996, 57.379999999999995, 57.489999999999995, 57.6, 57.71, 57.82, 57.93, 58.04, 58.15, 58.260000000000005, 58.370000000000005, 58.480000000000004, 58.59, 58.7, 58.81, 58.92, 59.03, 59.14, 59.25, 59.36, 59.47, 59.58, 59.69, 59.8, 59.91, 60.019999999999996, 60.129999999999995, 60.239999999999995, 60.35, 60.46, 60.57, 60.68, 60.79, 60.9, 61.010000000000005, 61.120000000000005, 61.230000000000004, 61.34, 61.45, 61.56, 61.67, 61.78, 61.89, 62.0, 62.11, 62.22, 62.33, 62.44, 62.55, 62.66, 62.769999999999996, 62.879999999999995, 62.989999999999995, 63.1, 63.21, 63.32, 63.43, 63.54, 63.65, 63.760000000000005, 63.870000000000005, 63.980000000000004, 64.09, 64.2, 64.31, 64.42, 64.53, 64.64, 64.75, 64.86, 64.97, 65.08, 65.19, 65.3, 65.41, 65.52, 65.63, 65.74, 65.85, 65.96000000000001, 66.07, 66.18, 66.28999999999999, 66.4, 66.51, 66.62, 66.73, 66.84, 66.95, 67.06, 67.17, 67.28, 67.39, 67.5, 67.61, 67.72, 67.83, 67.94, 68.05, 68.16, 68.27, 68.38, 68.49, 68.6, 68.71000000000001, 68.82, 68.93, 69.03999999999999, 69.15, 69.26, 69.37, 69.48, 69.59, 69.7, 69.81, 69.92, 70.03, 70.14, 70.25, 70.36, 70.47, 70.58, 70.69, 70.8, 70.91, 71.02, 71.13, 71.24, 71.35, 71.46000000000001, 71.57, 71.68, 71.78999999999999, 71.9, 72.00999999999999, 72.12, 72.22999999999999, 72.34, 72.45, 72.56, 72.67, 72.78, 72.89, 73.0, 73.11, 73.22, 73.33, 73.44, 73.55, 73.66, 73.77000000000001, 73.88, 73.99000000000001, 74.1, 74.21000000000001, 74.32, 74.43, 74.53999999999999, 74.65, 74.75999999999999, 74.87, 74.97999999999999, 75.09, 75.2, 75.31, 75.42, 75.53, 75.64, 75.75, 75.86, 75.97, 76.08, 76.19, 76.3, 76.41, 76.52000000000001, 76.63, 76.74000000000001, 76.85, 76.96000000000001, 77.07, 77.18, 77.28999999999999, 77.4, 77.50999999999999, 77.62, 77.72999999999999, 77.84, 77.95, 78.06, 78.17, 78.28, 78.39, 78.5, 78.61, 78.72, 78.83, 78.94, 79.05, 79.16, 79.27000000000001, 79.38, 79.49000000000001, 79.6, 79.71000000000001, 79.82, 79.93, 80.03999999999999, 80.15, 80.25999999999999, 80.37, 80.47999999999999, 80.59, 80.7, 80.81, 80.92, 81.03, 81.14, 81.25, 81.36, 81.47, 81.58, 81.69, 81.8, 81.91, 82.02000000000001, 82.13, 82.24000000000001, 82.35, 82.46000000000001, 82.57, 82.68, 82.78999999999999, 82.9, 83.00999999999999, 83.12, 83.22999999999999, 83.34, 83.45, 83.56, 83.67, 83.78, 83.89, 84.0, 84.11, 84.22, 84.33, 84.44, 84.55, 84.66, 84.77000000000001, 84.88, 84.99000000000001, 85.1, 85.21000000000001, 85.32, 85.43, 85.53999999999999, 85.65, 85.75999999999999, 85.87, 85.97999999999999, 86.09, 86.2, 86.31, 86.42, 86.53, 86.64, 86.75, 86.86, 86.97, 87.08, 87.19, 87.3, 87.41, 87.52000000000001, 87.63, 87.74000000000001, 87.85, 87.96000000000001, 88.07, 88.18, 88.28999999999999, 88.4, 88.50999999999999, 88.62, 88.72999999999999, 88.84, 88.95, 89.06, 89.17, 89.28, 89.39, 89.5, 89.61, 89.72, 89.83, 89.94, 90.05, 90.16, 90.27000000000001, 90.38, 90.49000000000001, 90.6, 90.71000000000001, 90.82, 90.93, 91.03999999999999, 91.15, 91.25999999999999, 91.37, 91.47999999999999, 91.59, 91.7, 91.81, 91.92, 92.03, 92.14, 92.25, 92.36, 92.47, 92.58, 92.69, 92.8, 92.91, 93.02000000000001, 93.13, 93.24000000000001, 93.35, 93.46000000000001, 93.57, 93.68, 93.78999999999999, 93.9, 94.00999999999999, 94.12, 94.22999999999999, 94.34, 94.45, 94.56, 94.67, 94.78, 94.89], \"xaxis\": \"x\", \"y\": [0.009278580261905372, 0.009493846344657495, 0.009709942017945493, 0.00992675674458427, 0.010144180923897364, 0.010362106165255597, 0.01058042555715969, 0.010799033930689381, 0.01101782811613167, 0.011236707191591174, 0.01145557272238399, 0.011674328990017647, 0.011892883209567717, 0.012111145734276242, 0.012329030246215256, 0.012546453931888751, 0.012763337641678342, 0.012979606032081807, 0.013195187689743737, 0.013410015236335684, 0.013624025413411527, 0.013837159146439862, 0.014049361587299724, 0.014260582134621636, 0.014470774431457526, 0.014679896339876526, 0.014887909892202775, 0.015094781218740553, 0.015300480451968336, 0.015504981607326244, 0.015708262440870473, 0.015910304284224356, 0.016111091857414266, 0.01631061306034131, 0.016508858743806358, 0.016705822461170517, 0.01690150020190046, 0.017095890108411515, 0.017288992177782854, 0.017480807950075204, 0.017671340185131598, 0.01786059252988337, 0.01804856917831675, 0.01823527452637602, 0.018420712824188796, 0.018604887828092827, 0.01878780245502307, 0.01896945844188092, 0.01914985601254867, 0.019328993555241644, 0.019506867312890128, 0.019683471089231006, 0.0198587959732487, 0.020032830084546312, 0.02020555834214575, 0.02037696225911063, 0.020547019765259834, 0.02071570506009236, 0.02088298849787305, 0.021048836506641314, 0.02121321154269607, 0.021376072081882313, 0.021537372648764954, 0.02169706388451399, 0.021855092654058304, 0.022011402192781478, 0.022165932292742573, 0.022318619528109825, 0.022469397519190856, 0.022618197234142556, 0.022764947327138945, 0.02290957451147841, 0.023052003965815377, 0.023192159771417583, 0.023329965378075312, 0.023465344096026425, 0.023598219611014142, 0.023728516519367797, 0.023856160879784608, 0.02398108077830445, 0.024103206902805888, 0.024222473123208726, 0.02433881707345863, 0.02445218073127989, 0.024562510991625958, 0.02466976022972641, 0.024773886849630288, 0.024874855814173244, 0.024972639152355158, 0.02506721644020215, 0.02515857525130275, 0.025246711573351753, 0.025331630187205054, 0.0254133450051459, 0.025491879365282365, 0.02556726627923923, 0.025639548630570816, 0.025708779321605958, 0.02577502136673453, 0.025838347930462222, 0.02589884230888844, 0.025956597853599477, 0.02601171783732029, 0.026064315261018885, 0.026114512602515825, 0.026162441507011712, 0.02620824242030271, 0.026252064165808643, 0.026294063466890283, 0.02633440441627327, 0.026373257894729114, 0.02641080094148604, 0.026447216079149963, 0.026482690596207628, 0.02651741579046128, 0.026551586177000455, 0.026585398664553506, 0.02661905170427846, 0.026652744415244876, 0.026686675691029154, 0.0267210432919903, 0.026756042927914635, 0.026791867335808146, 0.026828705357687728, 0.026866741023258714, 0.026906152642380134, 0.026947111912206875, 0.02698978304385378, 0.027034321913358576, 0.027080875241625252, 0.02712957980790636, 0.027180561701233168, 0.02723393561403061, 0.027289804181952582, 0.027348257373752998, 0.02740937193475974, 0.02747321088725639, 0.02753982309078389, 0.027609242865073023, 0.027681489677993422, 0.027756567900566173, 0.027834466630734602, 0.0279151595872236, 0.027998605074443676, 0.028084746019011828, 0.028173510078075746, 0.028264809819234432, 0.028358542971457252, 0.028454592746009547, 0.028552828226008912, 0.02865310482284995, 0.028755264797366068, 0.028859137843230683, 0.02896454172975449, 0.029071283000898646, 0.029179157727009495, 0.02928795230548418, 0.02939744430630283, 0.029507403358112673, 0.02961759207032616, 0.029727766986498302, 0.029837679564080725, 0.029947077175512787, 0.03005570412550303, 0.030163302679281207, 0.030269614096558362, 0.030374379665923126, 0.030477341734428644, 0.030578244727178457, 0.030676836151810438, 0.030772867582898787, 0.030866095621444257, 0.030956282824804393, 0.03104319860262308, 0.031126620074554526, 0.031206332885835113, 0.03128213197703912, 0.03135382230465296, 0.031421219509424725, 0.03148415052977627, 0.03154245415791428, 0.031595981536630145, 0.03164459659514006, 0.03168817642268718, 0.03172661157898983, 0.03175980634099016, 0.03178767888571524, 0.031810161409421965, 0.031827200183537026, 0.03183875554824021, 0.03184480184485947, 0.031845327288545736, 0.03184033378298527, 0.03182983667917321, 0.031813864480514834, 0.03179245849674986, 0.031765672449392345, 0.03173357203155955, 0.03169623442521677, 0.03165374777899485, 0.03160621064984717, 0.031553731411892376, 0.03149642763585461, 0.03143442544254774, 0.03136785883387169, 0.031296869004783116, 0.031221603639684917, 0.031142216196638078, 0.031058865182745938, 0.0309717134239922, 0.030880927332730877, 0.030786676175934155, 0.030689131347199444, 0.030588465645407608, 0.030484852562802735, 0.030378465585143885, 0.030269477506448067, 0.03015805976071622, 0.030044381772898643, 0.029928610331226697, 0.029810908982902402, 0.029691437455007616, 0.029570351102362863, 0.02944780038393833, 0.029323930369293802, 0.029198880276398817, 0.029072783042066293, 0.02894576492610931, 0.02881794515021733, 0.02868943557243311, 0.028560340397992733, 0.02843075592718635, 0.028300770340778072, 0.02817046352341412, 0.02803990692533615, 0.027909163462601663, 0.027778287455897856, 0.027647324607921055, 0.027516312019169868, 0.027385278241883967, 0.027254243371731254, 0.02712321917672226, 0.026992209262699754, 0.026861209274618783, 0.026730207132698625, 0.026599183302391183, 0.02646811109697333, 0.02633695701143162, 0.026205681086169507, 0.026074237298930644, 0.025942573983196018, 0.025810634271179807, 0.0256783565594213, 0.02554567499484787, 0.025412519979064716, 0.025278818688522896, 0.025144495608113014, 0.025009473075645817, 0.024873671834600583, 0.02473701159245808, 0.024599411581882856, 0.024460791121980817, 0.02432107017683791, 0.02418016990853792, 0.024038013221870918, 0.02389452529796741, 0.023749634114143648, 0.023603270947301875, 0.023455370858312286, 0.023305873154899796, 0.023154721830673203, 0.023001865978062995, 0.022847260173083642, 0.02269086482999109, 0.022532646524083558, 0.022372578281078817, 0.022210639831695217, 0.022046817830272125, 0.02188110603647778, 0.02171350545937162, 0.021544024463313275, 0.021372678835435855, 0.021199491814628636, 0.021024494082202513, 0.020847723714631155, 0.020669226098985926, 0.020489053811889944, 0.020307266463026528, 0.020123930504430246, 0.01993911900697787, 0.019752911405665294, 0.019565393215422687, 0.019376655719360918, 0.019186795631478567, 0.01899591473596929, 0.018804119505374806, 0.018611520699903912, 0.018418232950310025, 0.018224374326764353, 0.01803006589619392, 0.017835431270569004, 0.01764059614862227, 0.017445687853463093, 0.017250834868519742, 0.017056166374190582, 0.016861811787527988, 0.01666790030719989, 0.016474560465890627, 0.016281919692203464, 0.0160901038840196, 0.015899236995155098, 0.01570944063702948, 0.015520833696934475, 0.01533353197435288, 0.01514764783664002, 0.014963289895237599, 0.014780562703447448, 0.014599566476644128, 0.014420396835665431, 0.014243144573972374, 0.014067895449031744, 0.013894729998232314, 0.013723723379513648, 0.01355494523675311, 0.013388459589830955, 0.013224324749172288, 0.013062593254449136, 0.012903311837016785, 0.012746521405555104, 0.012592257054290094, 0.012440548093081477, 0.01229141809857908, 0.012144884985577045, 0.01200096109762613, 0.011859653315903999, 0.011720963185289942, 0.011584887056543832, 0.01145141624345082, 0.011320537193759934, 0.011192231672720064, 0.011066476957997376, 0.01094324604474721, 0.010822507859605895, 0.010704227482370578, 0.01058836637413867, 0.010474882610693625, 0.010363731119938656, 0.010254863922205707, 0.010148230372292863, 0.010043777402117494, 0.009941449762910516, 0.009841190265917867, 0.00974294002062271, 0.00964663866955076, 0.009552224618775172, 0.009459635263293268, 0.00936880720650775, 0.009279676473105063, 0.009192178714690285, 0.009106249407600154, 0.00902182404238603, 0.008938838304523794, 0.008857228245978517, 0.008776930447318042, 0.008697882170139361, 0.008620021499637847, 0.00854328747721667, 0.008467620223096805, 0.008392961048951788, 0.008319252560650052, 0.008246438751245738, 0.008174465084411213, 0.008103278568556421, 0.008032827821924268, 0.007963063128994863, 0.007893936488567642, 0.007825401653923519, 0.007757414165496954, 0.00768993137651024, 0.0076229124720401465, 0.007556318481999343, 0.0074901122885222, 0.00742425862824703, 0.0073587240899838195, 0.007293477108248606, 0.007228487953134313, 0.007163728716970581, 0.007099173298204755, 0.007034797382912031, 0.006970578424315065, 0.006906495620663089, 0.006842529891787077, 0.0067786638546129, 0.006714881797877856, 0.006651169656257823, 0.006587514984074654, 0.006523906928714593, 0.006460336203850687, 0.006396795062525256, 0.006333277270112147, 0.006269778077144925, 0.006206294191964679, 0.006142823753112154, 0.0060793663013614775, 0.006015922751270003, 0.005952495362097937, 0.005889087707934709, 0.0058257046468567835, 0.005762352288931347, 0.00569903796287567, 0.005635770181180627, 0.005572558603508478, 0.005509413998181917, 0.005446348201590358, 0.005383374075353624, 0.005320505461098057, 0.0052577571327211015, 0.0051951447460409726, 0.005132684785753476, 0.005070394509644003, 0.005008291890030977, 0.004946395552446826, 0.004884724711592638, 0.004823299104634323, 0.00476213892193891, 0.004701264735381415, 0.004640697424382732, 0.004580458099869764, 0.004520568026377118, 0.004461048542536883, 0.0044019209802293804, 0.0043432065826900824, 0.004284926421890163, 0.00422710131552638, 0.004169751743972376, 0.004112897767557151, 0.004056558944546444, 0.004000754250211554, 0.003945501997373194, 0.0038908197588115585, 0.0038367242919308724, 0.0037832314660637607, 0.0037303561927925955, 0.003678112359656292, 0.00362651276759746, 0.0035755690724907268, 0.003525291731074747, 0.0034756899515916064, 0.0034267716494149445, 0.0033785434079252464, 0.0033310104448647927, 0.0032841765843786078, 0.003238044234919531, 0.0031926143731663913, 0.0031478865340742444, 0.003103858807145323, 0.003060527838977364, 0.0030178888421152476, 0.0029759356101998944, 0.0029346605393763235, 0.002894054655892255, 0.002854107649786433, 0.002814807914536257, 0.002776142592503758, 0.0027380976259900767, 0.002700657813680291, 0.0026638068722337326, 0.002627527502748135, 0.002591801461802102, 0.0025566096367568266, 0.002521932124976104, 0.0024877483166034393, 0.0024540369805171273, 0.0024207763530668587, 0.00238794422918075, 0.002355518055419002, 0.0023234750245393516, 0.0022917921711306166, 0.0022604464678639795, 0.0022294149219074335, 0.0021986746710461395, 0.0021682030790519187, 0.0021379778298470584, 0.002107977020012763, 0.002078179249199037, 0.0020485637080027174, 0.0020191102628915334, 0.001989799537766562, 0.001960612991771248, 0.0019315329929739595, 0.0019025428875713358, 0.0018736270642826798, 0.0018447710136299037, 0.0018159613818242353, 0.001787186019008861, 0.001758434021636694, 0.0017296957687931145, 0.0017009629523064903, 0.001672228600522111, 0.001643487095650001], \"yaxis\": \"y\"}, {\"legendgroup\": \"age\", \"marker\": {\"color\": \"rgb(31, 119, 180)\", \"symbol\": \"line-ns-open\"}, \"mode\": \"markers\", \"name\": \"age\", \"showlegend\": false, \"type\": \"scatter\", \"x\": [75.0, 55.0, 65.0, 50.0, 65.0, 90.0, 75.0, 60.0, 65.0, 80.0, 75.0, 62.0, 45.0, 50.0, 49.0, 82.0, 87.0, 45.0, 70.0, 48.0, 65.0, 65.0, 68.0, 53.0, 75.0, 80.0, 95.0, 70.0, 58.0, 82.0, 94.0, 85.0, 50.0, 50.0, 65.0, 69.0, 90.0, 82.0, 60.0, 60.0, 70.0, 50.0, 70.0, 72.0, 60.0, 50.0, 51.0, 60.0, 80.0, 57.0, 68.0, 53.0, 60.0, 70.0, 60.0, 95.0, 70.0, 60.0, 49.0, 72.0, 45.0, 50.0, 55.0, 45.0, 45.0, 60.0, 42.0, 72.0, 70.0, 65.0, 41.0, 58.0, 85.0, 65.0, 69.0, 60.0, 70.0, 42.0, 75.0, 55.0, 70.0, 67.0, 60.0, 79.0, 59.0, 51.0, 55.0, 65.0, 44.0, 57.0, 70.0, 60.0, 42.0, 60.0, 58.0, 58.0, 63.0, 70.0, 60.0, 63.0, 65.0, 75.0, 80.0, 42.0, 60.0, 72.0, 55.0, 45.0, 63.0, 45.0, 85.0, 55.0, 50.0, 70.0, 60.0, 58.0, 60.0, 85.0, 65.0, 86.0, 60.0, 66.0, 60.0, 60.0, 60.0, 43.0, 46.0, 58.0, 61.0, 53.0, 53.0, 60.0, 46.0, 63.0, 81.0, 75.0, 65.0, 68.0, 62.0, 50.0, 80.0, 46.0, 50.0, 61.0, 72.0, 50.0, 52.0, 64.0, 75.0, 60.0, 72.0, 62.0, 50.0, 50.0, 65.0, 60.0, 52.0, 50.0, 85.0, 59.0, 66.0, 45.0, 63.0, 50.0, 45.0, 80.0, 53.0, 59.0, 65.0, 70.0, 51.0, 52.0, 70.0, 50.0, 65.0, 60.0, 69.0, 49.0, 63.0, 55.0, 40.0, 59.0, 65.0, 75.0, 58.0, 60.667, 50.0, 60.0, 60.667, 40.0, 80.0, 64.0, 50.0, 73.0, 45.0, 77.0, 45.0, 65.0, 50.0, 60.0, 63.0, 45.0, 70.0, 60.0, 78.0, 50.0, 40.0, 85.0, 60.0, 49.0, 70.0, 50.0, 78.0, 48.0, 65.0, 73.0, 70.0, 54.0, 68.0, 55.0, 73.0, 65.0, 42.0, 47.0, 58.0, 75.0, 58.0, 55.0, 65.0, 72.0, 60.0, 70.0, 40.0, 53.0, 53.0, 77.0, 75.0, 70.0, 65.0, 55.0, 70.0, 65.0, 40.0, 73.0, 54.0, 61.0, 55.0, 64.0, 40.0, 53.0, 50.0, 55.0, 50.0, 70.0, 53.0, 52.0, 65.0, 58.0, 45.0, 53.0, 55.0, 62.0, 65.0, 68.0, 61.0, 50.0, 55.0, 56.0, 45.0, 40.0, 44.0, 51.0, 67.0, 42.0, 60.0, 45.0, 70.0, 70.0, 50.0, 55.0, 70.0, 70.0, 42.0, 65.0, 50.0, 55.0, 60.0, 45.0, 65.0, 90.0, 45.0, 60.0, 52.0, 63.0, 62.0, 55.0, 45.0, 45.0, 50.0], \"xaxis\": \"x\", \"y\": [\"age\", \"age\", \"age\", \"age\", \"age\", \"age\", \"age\", \"age\", \"age\", \"age\", \"age\", \"age\", \"age\", \"age\", \"age\", \"age\", \"age\", \"age\", \"age\", \"age\", \"age\", \"age\", \"age\", \"age\", \"age\", \"age\", \"age\", \"age\", \"age\", \"age\", \"age\", \"age\", \"age\", \"age\", \"age\", \"age\", \"age\", \"age\", \"age\", \"age\", \"age\", \"age\", \"age\", \"age\", \"age\", \"age\", \"age\", \"age\", \"age\", \"age\", \"age\", \"age\", \"age\", \"age\", \"age\", \"age\", \"age\", \"age\", \"age\", \"age\", \"age\", \"age\", \"age\", \"age\", \"age\", \"age\", \"age\", \"age\", \"age\", \"age\", \"age\", \"age\", \"age\", \"age\", \"age\", \"age\", \"age\", \"age\", \"age\", \"age\", \"age\", \"age\", \"age\", \"age\", \"age\", \"age\", \"age\", \"age\", \"age\", \"age\", \"age\", \"age\", \"age\", \"age\", \"age\", \"age\", \"age\", \"age\", \"age\", \"age\", \"age\", \"age\", \"age\", \"age\", \"age\", \"age\", \"age\", \"age\", \"age\", \"age\", \"age\", \"age\", \"age\", \"age\", \"age\", \"age\", \"age\", \"age\", \"age\", \"age\", \"age\", \"age\", \"age\", \"age\", \"age\", \"age\", \"age\", \"age\", \"age\", \"age\", \"age\", \"age\", \"age\", \"age\", \"age\", \"age\", \"age\", \"age\", \"age\", \"age\", \"age\", \"age\", \"age\", \"age\", \"age\", \"age\", \"age\", \"age\", \"age\", \"age\", \"age\", \"age\", \"age\", \"age\", \"age\", \"age\", \"age\", \"age\", \"age\", \"age\", \"age\", \"age\", \"age\", \"age\", \"age\", \"age\", \"age\", \"age\", \"age\", \"age\", \"age\", \"age\", \"age\", \"age\", \"age\", \"age\", \"age\", \"age\", \"age\", \"age\", \"age\", \"age\", \"age\", \"age\", \"age\", \"age\", \"age\", \"age\", \"age\", \"age\", \"age\", \"age\", \"age\", \"age\", \"age\", \"age\", \"age\", \"age\", \"age\", \"age\", \"age\", \"age\", \"age\", \"age\", \"age\", \"age\", \"age\", \"age\", \"age\", \"age\", \"age\", \"age\", \"age\", \"age\", \"age\", \"age\", \"age\", \"age\", \"age\", \"age\", \"age\", \"age\", \"age\", \"age\", \"age\", \"age\", \"age\", \"age\", \"age\", \"age\", \"age\", \"age\", \"age\", \"age\", \"age\", \"age\", \"age\", \"age\", \"age\", \"age\", \"age\", \"age\", \"age\", \"age\", \"age\", \"age\", \"age\", \"age\", \"age\", \"age\", \"age\", \"age\", \"age\", \"age\", \"age\", \"age\", \"age\", \"age\", \"age\", \"age\", \"age\", \"age\", \"age\", \"age\", \"age\", \"age\", \"age\", \"age\", \"age\", \"age\", \"age\", \"age\", \"age\", \"age\", \"age\", \"age\", \"age\", \"age\", \"age\", \"age\", \"age\", \"age\", \"age\", \"age\", \"age\", \"age\", \"age\", \"age\", \"age\", \"age\", \"age\", \"age\", \"age\", \"age\", \"age\", \"age\", \"age\", \"age\", \"age\"], \"yaxis\": \"y2\"}],\n",
              "                        {\"barmode\": \"overlay\", \"hovermode\": \"closest\", \"legend\": {\"traceorder\": \"reversed\"}, \"template\": {\"data\": {\"bar\": [{\"error_x\": {\"color\": \"#2a3f5f\"}, \"error_y\": {\"color\": \"#2a3f5f\"}, \"marker\": {\"line\": {\"color\": \"#E5ECF6\", \"width\": 0.5}}, \"type\": \"bar\"}], \"barpolar\": [{\"marker\": {\"line\": {\"color\": \"#E5ECF6\", \"width\": 0.5}}, \"type\": \"barpolar\"}], \"carpet\": [{\"aaxis\": {\"endlinecolor\": \"#2a3f5f\", \"gridcolor\": \"white\", \"linecolor\": \"white\", \"minorgridcolor\": \"white\", \"startlinecolor\": \"#2a3f5f\"}, \"baxis\": {\"endlinecolor\": \"#2a3f5f\", \"gridcolor\": \"white\", \"linecolor\": \"white\", \"minorgridcolor\": \"white\", \"startlinecolor\": \"#2a3f5f\"}, \"type\": \"carpet\"}], \"choropleth\": [{\"colorbar\": {\"outlinewidth\": 0, \"ticks\": \"\"}, \"type\": \"choropleth\"}], \"contour\": [{\"colorbar\": {\"outlinewidth\": 0, \"ticks\": \"\"}, \"colorscale\": [[0.0, \"#0d0887\"], [0.1111111111111111, \"#46039f\"], [0.2222222222222222, \"#7201a8\"], [0.3333333333333333, \"#9c179e\"], [0.4444444444444444, \"#bd3786\"], [0.5555555555555556, \"#d8576b\"], [0.6666666666666666, \"#ed7953\"], [0.7777777777777778, \"#fb9f3a\"], [0.8888888888888888, \"#fdca26\"], [1.0, \"#f0f921\"]], \"type\": \"contour\"}], \"contourcarpet\": [{\"colorbar\": {\"outlinewidth\": 0, \"ticks\": \"\"}, \"type\": \"contourcarpet\"}], \"heatmap\": [{\"colorbar\": {\"outlinewidth\": 0, \"ticks\": \"\"}, \"colorscale\": [[0.0, \"#0d0887\"], [0.1111111111111111, \"#46039f\"], [0.2222222222222222, \"#7201a8\"], [0.3333333333333333, \"#9c179e\"], [0.4444444444444444, \"#bd3786\"], [0.5555555555555556, \"#d8576b\"], [0.6666666666666666, \"#ed7953\"], [0.7777777777777778, \"#fb9f3a\"], [0.8888888888888888, \"#fdca26\"], [1.0, \"#f0f921\"]], \"type\": \"heatmap\"}], \"heatmapgl\": [{\"colorbar\": {\"outlinewidth\": 0, \"ticks\": \"\"}, \"colorscale\": [[0.0, \"#0d0887\"], [0.1111111111111111, \"#46039f\"], [0.2222222222222222, \"#7201a8\"], [0.3333333333333333, \"#9c179e\"], [0.4444444444444444, \"#bd3786\"], [0.5555555555555556, \"#d8576b\"], [0.6666666666666666, \"#ed7953\"], [0.7777777777777778, \"#fb9f3a\"], [0.8888888888888888, \"#fdca26\"], [1.0, \"#f0f921\"]], \"type\": \"heatmapgl\"}], \"histogram\": [{\"marker\": {\"colorbar\": {\"outlinewidth\": 0, \"ticks\": \"\"}}, \"type\": \"histogram\"}], \"histogram2d\": [{\"colorbar\": {\"outlinewidth\": 0, \"ticks\": \"\"}, \"colorscale\": [[0.0, \"#0d0887\"], [0.1111111111111111, \"#46039f\"], [0.2222222222222222, \"#7201a8\"], [0.3333333333333333, \"#9c179e\"], [0.4444444444444444, \"#bd3786\"], [0.5555555555555556, \"#d8576b\"], [0.6666666666666666, \"#ed7953\"], [0.7777777777777778, \"#fb9f3a\"], [0.8888888888888888, \"#fdca26\"], [1.0, \"#f0f921\"]], \"type\": \"histogram2d\"}], \"histogram2dcontour\": [{\"colorbar\": {\"outlinewidth\": 0, \"ticks\": \"\"}, \"colorscale\": [[0.0, \"#0d0887\"], [0.1111111111111111, \"#46039f\"], [0.2222222222222222, \"#7201a8\"], [0.3333333333333333, \"#9c179e\"], [0.4444444444444444, \"#bd3786\"], [0.5555555555555556, \"#d8576b\"], [0.6666666666666666, \"#ed7953\"], [0.7777777777777778, \"#fb9f3a\"], [0.8888888888888888, \"#fdca26\"], [1.0, \"#f0f921\"]], \"type\": \"histogram2dcontour\"}], \"mesh3d\": [{\"colorbar\": {\"outlinewidth\": 0, \"ticks\": \"\"}, \"type\": \"mesh3d\"}], \"parcoords\": [{\"line\": {\"colorbar\": {\"outlinewidth\": 0, \"ticks\": \"\"}}, \"type\": \"parcoords\"}], \"pie\": [{\"automargin\": true, \"type\": \"pie\"}], \"scatter\": [{\"marker\": {\"colorbar\": {\"outlinewidth\": 0, \"ticks\": \"\"}}, \"type\": \"scatter\"}], \"scatter3d\": [{\"line\": {\"colorbar\": {\"outlinewidth\": 0, \"ticks\": \"\"}}, \"marker\": {\"colorbar\": {\"outlinewidth\": 0, \"ticks\": \"\"}}, \"type\": \"scatter3d\"}], \"scattercarpet\": [{\"marker\": {\"colorbar\": {\"outlinewidth\": 0, \"ticks\": \"\"}}, \"type\": \"scattercarpet\"}], \"scattergeo\": [{\"marker\": {\"colorbar\": {\"outlinewidth\": 0, \"ticks\": \"\"}}, \"type\": \"scattergeo\"}], \"scattergl\": [{\"marker\": {\"colorbar\": {\"outlinewidth\": 0, \"ticks\": \"\"}}, \"type\": \"scattergl\"}], \"scattermapbox\": [{\"marker\": {\"colorbar\": {\"outlinewidth\": 0, \"ticks\": \"\"}}, \"type\": \"scattermapbox\"}], \"scatterpolar\": [{\"marker\": {\"colorbar\": {\"outlinewidth\": 0, \"ticks\": \"\"}}, \"type\": \"scatterpolar\"}], \"scatterpolargl\": [{\"marker\": {\"colorbar\": {\"outlinewidth\": 0, \"ticks\": \"\"}}, \"type\": \"scatterpolargl\"}], \"scatterternary\": [{\"marker\": {\"colorbar\": {\"outlinewidth\": 0, \"ticks\": \"\"}}, \"type\": \"scatterternary\"}], \"surface\": [{\"colorbar\": {\"outlinewidth\": 0, \"ticks\": \"\"}, \"colorscale\": [[0.0, \"#0d0887\"], [0.1111111111111111, \"#46039f\"], [0.2222222222222222, \"#7201a8\"], [0.3333333333333333, \"#9c179e\"], [0.4444444444444444, \"#bd3786\"], [0.5555555555555556, \"#d8576b\"], [0.6666666666666666, \"#ed7953\"], [0.7777777777777778, \"#fb9f3a\"], [0.8888888888888888, \"#fdca26\"], [1.0, \"#f0f921\"]], \"type\": \"surface\"}], \"table\": [{\"cells\": {\"fill\": {\"color\": \"#EBF0F8\"}, \"line\": {\"color\": \"white\"}}, \"header\": {\"fill\": {\"color\": \"#C8D4E3\"}, \"line\": {\"color\": \"white\"}}, \"type\": \"table\"}]}, \"layout\": {\"annotationdefaults\": {\"arrowcolor\": \"#2a3f5f\", \"arrowhead\": 0, \"arrowwidth\": 1}, \"coloraxis\": {\"colorbar\": {\"outlinewidth\": 0, \"ticks\": \"\"}}, \"colorscale\": {\"diverging\": [[0, \"#8e0152\"], [0.1, \"#c51b7d\"], [0.2, \"#de77ae\"], [0.3, \"#f1b6da\"], [0.4, \"#fde0ef\"], [0.5, \"#f7f7f7\"], [0.6, \"#e6f5d0\"], [0.7, \"#b8e186\"], [0.8, \"#7fbc41\"], [0.9, \"#4d9221\"], [1, \"#276419\"]], \"sequential\": [[0.0, \"#0d0887\"], [0.1111111111111111, \"#46039f\"], [0.2222222222222222, \"#7201a8\"], [0.3333333333333333, \"#9c179e\"], [0.4444444444444444, \"#bd3786\"], [0.5555555555555556, \"#d8576b\"], [0.6666666666666666, \"#ed7953\"], [0.7777777777777778, \"#fb9f3a\"], [0.8888888888888888, \"#fdca26\"], [1.0, \"#f0f921\"]], \"sequentialminus\": [[0.0, \"#0d0887\"], [0.1111111111111111, \"#46039f\"], [0.2222222222222222, \"#7201a8\"], [0.3333333333333333, \"#9c179e\"], [0.4444444444444444, \"#bd3786\"], [0.5555555555555556, \"#d8576b\"], [0.6666666666666666, \"#ed7953\"], [0.7777777777777778, \"#fb9f3a\"], [0.8888888888888888, \"#fdca26\"], [1.0, \"#f0f921\"]]}, \"colorway\": [\"#636efa\", \"#EF553B\", \"#00cc96\", \"#ab63fa\", \"#FFA15A\", \"#19d3f3\", \"#FF6692\", \"#B6E880\", \"#FF97FF\", \"#FECB52\"], \"font\": {\"color\": \"#2a3f5f\"}, \"geo\": {\"bgcolor\": \"white\", \"lakecolor\": \"white\", \"landcolor\": \"#E5ECF6\", \"showlakes\": true, \"showland\": true, \"subunitcolor\": \"white\"}, \"hoverlabel\": {\"align\": \"left\"}, \"hovermode\": \"closest\", \"mapbox\": {\"style\": \"light\"}, \"paper_bgcolor\": \"white\", \"plot_bgcolor\": \"#E5ECF6\", \"polar\": {\"angularaxis\": {\"gridcolor\": \"white\", \"linecolor\": \"white\", \"ticks\": \"\"}, \"bgcolor\": \"#E5ECF6\", \"radialaxis\": {\"gridcolor\": \"white\", \"linecolor\": \"white\", \"ticks\": \"\"}}, \"scene\": {\"xaxis\": {\"backgroundcolor\": \"#E5ECF6\", \"gridcolor\": \"white\", \"gridwidth\": 2, \"linecolor\": \"white\", \"showbackground\": true, \"ticks\": \"\", \"zerolinecolor\": \"white\"}, \"yaxis\": {\"backgroundcolor\": \"#E5ECF6\", \"gridcolor\": \"white\", \"gridwidth\": 2, \"linecolor\": \"white\", \"showbackground\": true, \"ticks\": \"\", \"zerolinecolor\": \"white\"}, \"zaxis\": {\"backgroundcolor\": \"#E5ECF6\", \"gridcolor\": \"white\", \"gridwidth\": 2, \"linecolor\": \"white\", \"showbackground\": true, \"ticks\": \"\", \"zerolinecolor\": \"white\"}}, \"shapedefaults\": {\"line\": {\"color\": \"#2a3f5f\"}}, \"ternary\": {\"aaxis\": {\"gridcolor\": \"white\", \"linecolor\": \"white\", \"ticks\": \"\"}, \"baxis\": {\"gridcolor\": \"white\", \"linecolor\": \"white\", \"ticks\": \"\"}, \"bgcolor\": \"#E5ECF6\", \"caxis\": {\"gridcolor\": \"white\", \"linecolor\": \"white\", \"ticks\": \"\"}}, \"title\": {\"x\": 0.05}, \"xaxis\": {\"automargin\": true, \"gridcolor\": \"white\", \"linecolor\": \"white\", \"ticks\": \"\", \"title\": {\"standoff\": 15}, \"zerolinecolor\": \"white\", \"zerolinewidth\": 2}, \"yaxis\": {\"automargin\": true, \"gridcolor\": \"white\", \"linecolor\": \"white\", \"ticks\": \"\", \"title\": {\"standoff\": 15}, \"zerolinecolor\": \"white\", \"zerolinewidth\": 2}}}, \"title\": {\"text\": \"Age Distribution plot\"}, \"xaxis\": {\"anchor\": \"y2\", \"domain\": [0.0, 1.0], \"zeroline\": false}, \"yaxis\": {\"anchor\": \"free\", \"domain\": [0.35, 1], \"position\": 0.0}, \"yaxis2\": {\"anchor\": \"x\", \"domain\": [0, 0.25], \"dtick\": 1, \"showticklabels\": false}},\n",
              "                        {\"responsive\": true}\n",
              "                    ).then(function(){\n",
              "                            \n",
              "var gd = document.getElementById('c064338f-bc80-4da3-941c-6ffcaaf2cf27');\n",
              "var x = new MutationObserver(function (mutations, observer) {{\n",
              "        var display = window.getComputedStyle(gd).display;\n",
              "        if (!display || display === 'none') {{\n",
              "            console.log([gd, 'removed!']);\n",
              "            Plotly.purge(gd);\n",
              "            observer.disconnect();\n",
              "        }}\n",
              "}});\n",
              "\n",
              "// Listen for the removal of the full notebook cells\n",
              "var notebookContainer = gd.closest('#notebook-container');\n",
              "if (notebookContainer) {{\n",
              "    x.observe(notebookContainer, {childList: true});\n",
              "}}\n",
              "\n",
              "// Listen for the clearing of the current output cell\n",
              "var outputEl = gd.closest('.output');\n",
              "if (outputEl) {{\n",
              "    x.observe(outputEl, {childList: true});\n",
              "}}\n",
              "\n",
              "                        })\n",
              "                };\n",
              "                \n",
              "            </script>\n",
              "        </div>\n",
              "</body>\n",
              "</html>"
            ]
          },
          "metadata": {},
          "output_type": "display_data"
        }
      ]
    },
    {
      "cell_type": "markdown",
      "metadata": {
        "id": "bMKTGb75nsYm"
      },
      "source": [
        "Age wise 40 to 80 the spread is High\n",
        "less that 40 age and higher than 80 age people are very low"
      ]
    },
    {
      "cell_type": "code",
      "metadata": {
        "colab": {
          "base_uri": "https://localhost:8080/",
          "height": 811
        },
        "id": "t7xAZl0Hn3JQ",
        "outputId": "9b0a234e-c8c8-4869-cdc5-997ba4aaadea"
      },
      "source": [
        "male = df[df[\"sex\"]==1]\n",
        "female = df[df[\"sex\"]==0]\n",
        "\n",
        "\n",
        "labels = ['Male - Survived','Male - Not Survived', \"Female -  Survived\", \"Female - Not Survived\"]\n",
        "values = [len(male[df[\"DEATH_EVENT\"]==0]),len(male[df[\"DEATH_EVENT\"]==1]),\n",
        "          len(female[df[\"DEATH_EVENT\"]==0]),len(female[df[\"DEATH_EVENT\"]==1])]\n",
        "fig = go.Figure(data=[go.Pie(labels=labels, values=values, hole=.4)])\n",
        "fig.update_layout(title_text=\"Analysis on Survival - Gender\")\n",
        "fig.show()"
      ],
      "execution_count": null,
      "outputs": [
        {
          "name": "stderr",
          "output_type": "stream",
          "text": [
            "/usr/local/lib/python3.7/dist-packages/ipykernel_launcher.py:6: UserWarning:\n",
            "\n",
            "Boolean Series key will be reindexed to match DataFrame index.\n",
            "\n",
            "/usr/local/lib/python3.7/dist-packages/ipykernel_launcher.py:6: UserWarning:\n",
            "\n",
            "Boolean Series key will be reindexed to match DataFrame index.\n",
            "\n",
            "/usr/local/lib/python3.7/dist-packages/ipykernel_launcher.py:7: UserWarning:\n",
            "\n",
            "Boolean Series key will be reindexed to match DataFrame index.\n",
            "\n",
            "/usr/local/lib/python3.7/dist-packages/ipykernel_launcher.py:7: UserWarning:\n",
            "\n",
            "Boolean Series key will be reindexed to match DataFrame index.\n",
            "\n"
          ]
        },
        {
          "data": {
            "text/html": [
              "<html>\n",
              "<head><meta charset=\"utf-8\" /></head>\n",
              "<body>\n",
              "    <div>\n",
              "            <script src=\"https://cdnjs.cloudflare.com/ajax/libs/mathjax/2.7.5/MathJax.js?config=TeX-AMS-MML_SVG\"></script><script type=\"text/javascript\">if (window.MathJax) {MathJax.Hub.Config({SVG: {font: \"STIX-Web\"}});}</script>\n",
              "                <script type=\"text/javascript\">window.PlotlyConfig = {MathJaxConfig: 'local'};</script>\n",
              "        <script src=\"https://cdn.plot.ly/plotly-latest.min.js\"></script>    \n",
              "            <div id=\"7b775eff-a08f-4b53-b9f2-2697ecf41928\" class=\"plotly-graph-div\" style=\"height:525px; width:100%;\"></div>\n",
              "            <script type=\"text/javascript\">\n",
              "                \n",
              "                    window.PLOTLYENV=window.PLOTLYENV || {};\n",
              "                    \n",
              "                if (document.getElementById(\"7b775eff-a08f-4b53-b9f2-2697ecf41928\")) {\n",
              "                    Plotly.newPlot(\n",
              "                        '7b775eff-a08f-4b53-b9f2-2697ecf41928',\n",
              "                        [{\"hole\": 0.4, \"labels\": [\"Male - Survived\", \"Male - Not Survived\", \"Female -  Survived\", \"Female - Not Survived\"], \"type\": \"pie\", \"values\": [132, 62, 71, 34]}],\n",
              "                        {\"template\": {\"data\": {\"bar\": [{\"error_x\": {\"color\": \"#2a3f5f\"}, \"error_y\": {\"color\": \"#2a3f5f\"}, \"marker\": {\"line\": {\"color\": \"#E5ECF6\", \"width\": 0.5}}, \"type\": \"bar\"}], \"barpolar\": [{\"marker\": {\"line\": {\"color\": \"#E5ECF6\", \"width\": 0.5}}, \"type\": \"barpolar\"}], \"carpet\": [{\"aaxis\": {\"endlinecolor\": \"#2a3f5f\", \"gridcolor\": \"white\", \"linecolor\": \"white\", \"minorgridcolor\": \"white\", \"startlinecolor\": \"#2a3f5f\"}, \"baxis\": {\"endlinecolor\": \"#2a3f5f\", \"gridcolor\": \"white\", \"linecolor\": \"white\", \"minorgridcolor\": \"white\", \"startlinecolor\": \"#2a3f5f\"}, \"type\": \"carpet\"}], \"choropleth\": [{\"colorbar\": {\"outlinewidth\": 0, \"ticks\": \"\"}, \"type\": \"choropleth\"}], \"contour\": [{\"colorbar\": {\"outlinewidth\": 0, \"ticks\": \"\"}, \"colorscale\": [[0.0, \"#0d0887\"], [0.1111111111111111, \"#46039f\"], [0.2222222222222222, \"#7201a8\"], [0.3333333333333333, \"#9c179e\"], [0.4444444444444444, \"#bd3786\"], [0.5555555555555556, \"#d8576b\"], [0.6666666666666666, \"#ed7953\"], [0.7777777777777778, \"#fb9f3a\"], [0.8888888888888888, \"#fdca26\"], [1.0, \"#f0f921\"]], \"type\": \"contour\"}], \"contourcarpet\": [{\"colorbar\": {\"outlinewidth\": 0, \"ticks\": \"\"}, \"type\": \"contourcarpet\"}], \"heatmap\": [{\"colorbar\": {\"outlinewidth\": 0, \"ticks\": \"\"}, \"colorscale\": [[0.0, \"#0d0887\"], [0.1111111111111111, \"#46039f\"], [0.2222222222222222, \"#7201a8\"], [0.3333333333333333, \"#9c179e\"], [0.4444444444444444, \"#bd3786\"], [0.5555555555555556, \"#d8576b\"], [0.6666666666666666, \"#ed7953\"], [0.7777777777777778, \"#fb9f3a\"], [0.8888888888888888, \"#fdca26\"], [1.0, \"#f0f921\"]], \"type\": \"heatmap\"}], \"heatmapgl\": [{\"colorbar\": {\"outlinewidth\": 0, \"ticks\": \"\"}, \"colorscale\": [[0.0, \"#0d0887\"], [0.1111111111111111, \"#46039f\"], [0.2222222222222222, \"#7201a8\"], [0.3333333333333333, \"#9c179e\"], [0.4444444444444444, \"#bd3786\"], [0.5555555555555556, \"#d8576b\"], [0.6666666666666666, \"#ed7953\"], [0.7777777777777778, \"#fb9f3a\"], [0.8888888888888888, \"#fdca26\"], [1.0, \"#f0f921\"]], \"type\": \"heatmapgl\"}], \"histogram\": [{\"marker\": {\"colorbar\": {\"outlinewidth\": 0, \"ticks\": \"\"}}, \"type\": \"histogram\"}], \"histogram2d\": [{\"colorbar\": {\"outlinewidth\": 0, \"ticks\": \"\"}, \"colorscale\": [[0.0, \"#0d0887\"], [0.1111111111111111, \"#46039f\"], [0.2222222222222222, \"#7201a8\"], [0.3333333333333333, \"#9c179e\"], [0.4444444444444444, \"#bd3786\"], [0.5555555555555556, \"#d8576b\"], [0.6666666666666666, \"#ed7953\"], [0.7777777777777778, \"#fb9f3a\"], [0.8888888888888888, \"#fdca26\"], [1.0, \"#f0f921\"]], \"type\": \"histogram2d\"}], \"histogram2dcontour\": [{\"colorbar\": {\"outlinewidth\": 0, \"ticks\": \"\"}, \"colorscale\": [[0.0, \"#0d0887\"], [0.1111111111111111, \"#46039f\"], [0.2222222222222222, \"#7201a8\"], [0.3333333333333333, \"#9c179e\"], [0.4444444444444444, \"#bd3786\"], [0.5555555555555556, \"#d8576b\"], [0.6666666666666666, \"#ed7953\"], [0.7777777777777778, \"#fb9f3a\"], [0.8888888888888888, \"#fdca26\"], [1.0, \"#f0f921\"]], \"type\": \"histogram2dcontour\"}], \"mesh3d\": [{\"colorbar\": {\"outlinewidth\": 0, \"ticks\": \"\"}, \"type\": \"mesh3d\"}], \"parcoords\": [{\"line\": {\"colorbar\": {\"outlinewidth\": 0, \"ticks\": \"\"}}, \"type\": \"parcoords\"}], \"pie\": [{\"automargin\": true, \"type\": \"pie\"}], \"scatter\": [{\"marker\": {\"colorbar\": {\"outlinewidth\": 0, \"ticks\": \"\"}}, \"type\": \"scatter\"}], \"scatter3d\": [{\"line\": {\"colorbar\": {\"outlinewidth\": 0, \"ticks\": \"\"}}, \"marker\": {\"colorbar\": {\"outlinewidth\": 0, \"ticks\": \"\"}}, \"type\": \"scatter3d\"}], \"scattercarpet\": [{\"marker\": {\"colorbar\": {\"outlinewidth\": 0, \"ticks\": \"\"}}, \"type\": \"scattercarpet\"}], \"scattergeo\": [{\"marker\": {\"colorbar\": {\"outlinewidth\": 0, \"ticks\": \"\"}}, \"type\": \"scattergeo\"}], \"scattergl\": [{\"marker\": {\"colorbar\": {\"outlinewidth\": 0, \"ticks\": \"\"}}, \"type\": \"scattergl\"}], \"scattermapbox\": [{\"marker\": {\"colorbar\": {\"outlinewidth\": 0, \"ticks\": \"\"}}, \"type\": \"scattermapbox\"}], \"scatterpolar\": [{\"marker\": {\"colorbar\": {\"outlinewidth\": 0, \"ticks\": \"\"}}, \"type\": \"scatterpolar\"}], \"scatterpolargl\": [{\"marker\": {\"colorbar\": {\"outlinewidth\": 0, \"ticks\": \"\"}}, \"type\": \"scatterpolargl\"}], \"scatterternary\": [{\"marker\": {\"colorbar\": {\"outlinewidth\": 0, \"ticks\": \"\"}}, \"type\": \"scatterternary\"}], \"surface\": [{\"colorbar\": {\"outlinewidth\": 0, \"ticks\": \"\"}, \"colorscale\": [[0.0, \"#0d0887\"], [0.1111111111111111, \"#46039f\"], [0.2222222222222222, \"#7201a8\"], [0.3333333333333333, \"#9c179e\"], [0.4444444444444444, \"#bd3786\"], [0.5555555555555556, \"#d8576b\"], [0.6666666666666666, \"#ed7953\"], [0.7777777777777778, \"#fb9f3a\"], [0.8888888888888888, \"#fdca26\"], [1.0, \"#f0f921\"]], \"type\": \"surface\"}], \"table\": [{\"cells\": {\"fill\": {\"color\": \"#EBF0F8\"}, \"line\": {\"color\": \"white\"}}, \"header\": {\"fill\": {\"color\": \"#C8D4E3\"}, \"line\": {\"color\": \"white\"}}, \"type\": \"table\"}]}, \"layout\": {\"annotationdefaults\": {\"arrowcolor\": \"#2a3f5f\", \"arrowhead\": 0, \"arrowwidth\": 1}, \"coloraxis\": {\"colorbar\": {\"outlinewidth\": 0, \"ticks\": \"\"}}, \"colorscale\": {\"diverging\": [[0, \"#8e0152\"], [0.1, \"#c51b7d\"], [0.2, \"#de77ae\"], [0.3, \"#f1b6da\"], [0.4, \"#fde0ef\"], [0.5, \"#f7f7f7\"], [0.6, \"#e6f5d0\"], [0.7, \"#b8e186\"], [0.8, \"#7fbc41\"], [0.9, \"#4d9221\"], [1, \"#276419\"]], \"sequential\": [[0.0, \"#0d0887\"], [0.1111111111111111, \"#46039f\"], [0.2222222222222222, \"#7201a8\"], [0.3333333333333333, \"#9c179e\"], [0.4444444444444444, \"#bd3786\"], [0.5555555555555556, \"#d8576b\"], [0.6666666666666666, \"#ed7953\"], [0.7777777777777778, \"#fb9f3a\"], [0.8888888888888888, \"#fdca26\"], [1.0, \"#f0f921\"]], \"sequentialminus\": [[0.0, \"#0d0887\"], [0.1111111111111111, \"#46039f\"], [0.2222222222222222, \"#7201a8\"], [0.3333333333333333, \"#9c179e\"], [0.4444444444444444, \"#bd3786\"], [0.5555555555555556, \"#d8576b\"], [0.6666666666666666, \"#ed7953\"], [0.7777777777777778, \"#fb9f3a\"], [0.8888888888888888, \"#fdca26\"], [1.0, \"#f0f921\"]]}, \"colorway\": [\"#636efa\", \"#EF553B\", \"#00cc96\", \"#ab63fa\", \"#FFA15A\", \"#19d3f3\", \"#FF6692\", \"#B6E880\", \"#FF97FF\", \"#FECB52\"], \"font\": {\"color\": \"#2a3f5f\"}, \"geo\": {\"bgcolor\": \"white\", \"lakecolor\": \"white\", \"landcolor\": \"#E5ECF6\", \"showlakes\": true, \"showland\": true, \"subunitcolor\": \"white\"}, \"hoverlabel\": {\"align\": \"left\"}, \"hovermode\": \"closest\", \"mapbox\": {\"style\": \"light\"}, \"paper_bgcolor\": \"white\", \"plot_bgcolor\": \"#E5ECF6\", \"polar\": {\"angularaxis\": {\"gridcolor\": \"white\", \"linecolor\": \"white\", \"ticks\": \"\"}, \"bgcolor\": \"#E5ECF6\", \"radialaxis\": {\"gridcolor\": \"white\", \"linecolor\": \"white\", \"ticks\": \"\"}}, \"scene\": {\"xaxis\": {\"backgroundcolor\": \"#E5ECF6\", \"gridcolor\": \"white\", \"gridwidth\": 2, \"linecolor\": \"white\", \"showbackground\": true, \"ticks\": \"\", \"zerolinecolor\": \"white\"}, \"yaxis\": {\"backgroundcolor\": \"#E5ECF6\", \"gridcolor\": \"white\", \"gridwidth\": 2, \"linecolor\": \"white\", \"showbackground\": true, \"ticks\": \"\", \"zerolinecolor\": \"white\"}, \"zaxis\": {\"backgroundcolor\": \"#E5ECF6\", \"gridcolor\": \"white\", \"gridwidth\": 2, \"linecolor\": \"white\", \"showbackground\": true, \"ticks\": \"\", \"zerolinecolor\": \"white\"}}, \"shapedefaults\": {\"line\": {\"color\": \"#2a3f5f\"}}, \"ternary\": {\"aaxis\": {\"gridcolor\": \"white\", \"linecolor\": \"white\", \"ticks\": \"\"}, \"baxis\": {\"gridcolor\": \"white\", \"linecolor\": \"white\", \"ticks\": \"\"}, \"bgcolor\": \"#E5ECF6\", \"caxis\": {\"gridcolor\": \"white\", \"linecolor\": \"white\", \"ticks\": \"\"}}, \"title\": {\"x\": 0.05}, \"xaxis\": {\"automargin\": true, \"gridcolor\": \"white\", \"linecolor\": \"white\", \"ticks\": \"\", \"title\": {\"standoff\": 15}, \"zerolinecolor\": \"white\", \"zerolinewidth\": 2}, \"yaxis\": {\"automargin\": true, \"gridcolor\": \"white\", \"linecolor\": \"white\", \"ticks\": \"\", \"title\": {\"standoff\": 15}, \"zerolinecolor\": \"white\", \"zerolinewidth\": 2}}}, \"title\": {\"text\": \"Analysis on Survival - Gender\"}},\n",
              "                        {\"responsive\": true}\n",
              "                    ).then(function(){\n",
              "                            \n",
              "var gd = document.getElementById('7b775eff-a08f-4b53-b9f2-2697ecf41928');\n",
              "var x = new MutationObserver(function (mutations, observer) {{\n",
              "        var display = window.getComputedStyle(gd).display;\n",
              "        if (!display || display === 'none') {{\n",
              "            console.log([gd, 'removed!']);\n",
              "            Plotly.purge(gd);\n",
              "            observer.disconnect();\n",
              "        }}\n",
              "}});\n",
              "\n",
              "// Listen for the removal of the full notebook cells\n",
              "var notebookContainer = gd.closest('#notebook-container');\n",
              "if (notebookContainer) {{\n",
              "    x.observe(notebookContainer, {childList: true});\n",
              "}}\n",
              "\n",
              "// Listen for the clearing of the current output cell\n",
              "var outputEl = gd.closest('.output');\n",
              "if (outputEl) {{\n",
              "    x.observe(outputEl, {childList: true});\n",
              "}}\n",
              "\n",
              "                        })\n",
              "                };\n",
              "                \n",
              "            </script>\n",
              "        </div>\n",
              "</body>\n",
              "</html>"
            ]
          },
          "metadata": {},
          "output_type": "display_data"
        }
      ]
    },
    {
      "cell_type": "code",
      "metadata": {
        "colab": {
          "base_uri": "https://localhost:8080/",
          "height": 542
        },
        "id": "-hEzX4aNo2tz",
        "outputId": "d1bea484-4c78-4bed-e46e-2ebd24096e6b"
      },
      "source": [
        "diabetes = df[df[\"diabetes\"]==1][\"age\"]\n",
        "not_diabetes = df[df[\"diabetes\"]==0][\"age\"]\n",
        "hist_data = [diabetes,not_diabetes]\n",
        "group_labels = ['Diabetes', 'Not having Diabetes']\n",
        "fig = ff.create_distplot(hist_data, group_labels, bin_size=0.5)\n",
        "fig.update_layout(title_text=\"Analysis in Age on Diabetes Status\")\n",
        "fig.show()"
      ],
      "execution_count": null,
      "outputs": [
        {
          "data": {
            "text/html": [
              "<html>\n",
              "<head><meta charset=\"utf-8\" /></head>\n",
              "<body>\n",
              "    <div>\n",
              "            <script src=\"https://cdnjs.cloudflare.com/ajax/libs/mathjax/2.7.5/MathJax.js?config=TeX-AMS-MML_SVG\"></script><script type=\"text/javascript\">if (window.MathJax) {MathJax.Hub.Config({SVG: {font: \"STIX-Web\"}});}</script>\n",
              "                <script type=\"text/javascript\">window.PlotlyConfig = {MathJaxConfig: 'local'};</script>\n",
              "        <script src=\"https://cdn.plot.ly/plotly-latest.min.js\"></script>    \n",
              "            <div id=\"595df0d8-8d72-4c81-9be1-0d8108119da0\" class=\"plotly-graph-div\" style=\"height:525px; width:100%;\"></div>\n",
              "            <script type=\"text/javascript\">\n",
              "                \n",
              "                    window.PLOTLYENV=window.PLOTLYENV || {};\n",
              "                    \n",
              "                if (document.getElementById(\"595df0d8-8d72-4c81-9be1-0d8108119da0\")) {\n",
              "                    Plotly.newPlot(\n",
              "                        '595df0d8-8d72-4c81-9be1-0d8108119da0',\n",
              "                        [{\"autobinx\": false, \"histnorm\": \"probability density\", \"legendgroup\": \"Diabetes\", \"marker\": {\"color\": \"rgb(31, 119, 180)\"}, \"name\": \"Diabetes\", \"opacity\": 0.7, \"type\": \"histogram\", \"x\": [65.0, 60.0, 48.0, 65.0, 53.0, 75.0, 80.0, 70.0, 82.0, 94.0, 50.0, 50.0, 65.0, 69.0, 90.0, 82.0, 60.0, 60.0, 50.0, 70.0, 72.0, 60.0, 50.0, 60.0, 60.0, 70.0, 60.0, 72.0, 45.0, 42.0, 65.0, 58.0, 65.0, 42.0, 75.0, 60.0, 59.0, 65.0, 44.0, 70.0, 60.0, 58.0, 63.0, 60.0, 63.0, 45.0, 45.0, 50.0, 60.0, 60.0, 65.0, 66.0, 60.0, 46.0, 58.0, 53.0, 60.0, 65.0, 62.0, 50.0, 62.0, 50.0, 60.0, 50.0, 45.0, 80.0, 59.0, 65.0, 51.0, 65.0, 63.0, 40.0, 59.0, 65.0, 60.667, 60.0, 60.667, 80.0, 50.0, 73.0, 45.0, 50.0, 60.0, 45.0, 50.0, 60.0, 49.0, 70.0, 48.0, 68.0, 55.0, 58.0, 75.0, 65.0, 70.0, 65.0, 54.0, 61.0, 53.0, 55.0, 70.0, 52.0, 58.0, 45.0, 65.0, 68.0, 61.0, 56.0, 45.0, 40.0, 44.0, 51.0, 60.0, 70.0, 50.0, 55.0, 70.0, 55.0, 45.0, 65.0, 45.0, 52.0, 63.0, 62.0, 45.0], \"xaxis\": \"x\", \"xbins\": {\"end\": 94.0, \"size\": 0.5, \"start\": 40.0}, \"yaxis\": \"y\"}, {\"autobinx\": false, \"histnorm\": \"probability density\", \"legendgroup\": \"Not having Diabetes\", \"marker\": {\"color\": \"rgb(255, 127, 14)\"}, \"name\": \"Not having Diabetes\", \"opacity\": 0.7, \"type\": \"histogram\", \"x\": [75.0, 55.0, 65.0, 50.0, 90.0, 75.0, 65.0, 80.0, 75.0, 62.0, 45.0, 50.0, 49.0, 82.0, 87.0, 45.0, 70.0, 65.0, 68.0, 95.0, 58.0, 85.0, 70.0, 51.0, 80.0, 57.0, 68.0, 53.0, 95.0, 70.0, 60.0, 49.0, 50.0, 55.0, 45.0, 45.0, 60.0, 72.0, 70.0, 41.0, 85.0, 69.0, 60.0, 70.0, 55.0, 70.0, 67.0, 79.0, 51.0, 55.0, 57.0, 42.0, 60.0, 58.0, 70.0, 65.0, 75.0, 80.0, 42.0, 60.0, 72.0, 55.0, 63.0, 85.0, 55.0, 70.0, 58.0, 85.0, 86.0, 60.0, 60.0, 60.0, 43.0, 61.0, 53.0, 46.0, 63.0, 81.0, 75.0, 68.0, 50.0, 80.0, 46.0, 61.0, 72.0, 50.0, 52.0, 64.0, 75.0, 60.0, 72.0, 50.0, 65.0, 52.0, 50.0, 85.0, 59.0, 66.0, 45.0, 63.0, 53.0, 70.0, 52.0, 70.0, 50.0, 60.0, 69.0, 49.0, 55.0, 75.0, 58.0, 50.0, 40.0, 64.0, 45.0, 77.0, 65.0, 63.0, 70.0, 60.0, 78.0, 40.0, 85.0, 50.0, 78.0, 65.0, 73.0, 70.0, 54.0, 73.0, 65.0, 42.0, 47.0, 58.0, 55.0, 65.0, 72.0, 60.0, 70.0, 40.0, 53.0, 53.0, 77.0, 75.0, 70.0, 55.0, 40.0, 73.0, 55.0, 64.0, 40.0, 50.0, 50.0, 53.0, 65.0, 53.0, 55.0, 62.0, 50.0, 55.0, 67.0, 42.0, 45.0, 70.0, 70.0, 42.0, 65.0, 50.0, 60.0, 90.0, 60.0, 55.0, 45.0, 50.0], \"xaxis\": \"x\", \"xbins\": {\"end\": 95.0, \"size\": 0.5, \"start\": 40.0}, \"yaxis\": \"y\"}, {\"legendgroup\": \"Diabetes\", \"marker\": {\"color\": \"rgb(31, 119, 180)\"}, \"mode\": \"lines\", \"name\": \"Diabetes\", \"showlegend\": false, \"type\": \"scatter\", \"x\": [40.0, 40.108, 40.216, 40.324, 40.432, 40.54, 40.648, 40.756, 40.864, 40.972, 41.08, 41.188, 41.296, 41.403999999999996, 41.512, 41.62, 41.728, 41.836, 41.944, 42.052, 42.16, 42.268, 42.376, 42.484, 42.592, 42.7, 42.808, 42.916, 43.024, 43.132, 43.24, 43.348, 43.456, 43.564, 43.672, 43.78, 43.888, 43.996, 44.104, 44.212, 44.32, 44.428, 44.536, 44.644, 44.752, 44.86, 44.968, 45.076, 45.184, 45.292, 45.4, 45.508, 45.616, 45.724000000000004, 45.832, 45.94, 46.048, 46.156, 46.264, 46.372, 46.480000000000004, 46.588, 46.696, 46.804, 46.912, 47.019999999999996, 47.128, 47.236, 47.344, 47.452, 47.56, 47.668, 47.775999999999996, 47.884, 47.992, 48.1, 48.208, 48.316, 48.424, 48.532, 48.64, 48.748, 48.856, 48.964, 49.072, 49.18, 49.288, 49.396, 49.504, 49.612, 49.72, 49.828, 49.936, 50.044, 50.152, 50.26, 50.368, 50.476, 50.584, 50.692, 50.8, 50.908, 51.016, 51.124, 51.232, 51.34, 51.448, 51.556, 51.664, 51.772, 51.88, 51.988, 52.096000000000004, 52.204, 52.312, 52.42, 52.528, 52.635999999999996, 52.744, 52.852000000000004, 52.96, 53.068, 53.176, 53.284, 53.391999999999996, 53.5, 53.608000000000004, 53.716, 53.824, 53.932, 54.04, 54.147999999999996, 54.256, 54.364000000000004, 54.472, 54.58, 54.688, 54.796, 54.903999999999996, 55.012, 55.12, 55.228, 55.336, 55.444, 55.552, 55.66, 55.768, 55.876, 55.984, 56.092, 56.2, 56.308, 56.416, 56.524, 56.632000000000005, 56.739999999999995, 56.848, 56.956, 57.064, 57.172, 57.28, 57.388000000000005, 57.495999999999995, 57.604, 57.712, 57.82, 57.928, 58.036, 58.144, 58.251999999999995, 58.36, 58.468, 58.576, 58.684, 58.792, 58.9, 59.007999999999996, 59.116, 59.224000000000004, 59.332, 59.44, 59.548, 59.656, 59.763999999999996, 59.872, 59.980000000000004, 60.088, 60.196, 60.304, 60.412, 60.519999999999996, 60.628, 60.736000000000004, 60.844, 60.952, 61.06, 61.168, 61.275999999999996, 61.384, 61.492000000000004, 61.6, 61.708, 61.816, 61.924, 62.032, 62.14, 62.248000000000005, 62.356, 62.464, 62.572, 62.68, 62.788, 62.896, 63.004000000000005, 63.111999999999995, 63.22, 63.328, 63.436, 63.544, 63.652, 63.760000000000005, 63.867999999999995, 63.976, 64.084, 64.19200000000001, 64.3, 64.408, 64.51599999999999, 64.624, 64.732, 64.84, 64.94800000000001, 65.056, 65.164, 65.27199999999999, 65.38, 65.488, 65.596, 65.70400000000001, 65.812, 65.92, 66.02799999999999, 66.136, 66.244, 66.352, 66.46000000000001, 66.568, 66.676, 66.78399999999999, 66.892, 67.0, 67.108, 67.21600000000001, 67.324, 67.432, 67.53999999999999, 67.648, 67.756, 67.864, 67.97200000000001, 68.08, 68.188, 68.29599999999999, 68.404, 68.512, 68.62, 68.72800000000001, 68.836, 68.944, 69.05199999999999, 69.16, 69.268, 69.376, 69.48400000000001, 69.592, 69.7, 69.80799999999999, 69.916, 70.024, 70.132, 70.24, 70.348, 70.456, 70.564, 70.672, 70.78, 70.888, 70.996, 71.104, 71.212, 71.32, 71.428, 71.536, 71.644, 71.752, 71.86, 71.968, 72.076, 72.184, 72.292, 72.4, 72.50800000000001, 72.616, 72.72399999999999, 72.832, 72.94, 73.048, 73.156, 73.26400000000001, 73.372, 73.47999999999999, 73.588, 73.696, 73.804, 73.912, 74.02000000000001, 74.128, 74.23599999999999, 74.344, 74.452, 74.56, 74.668, 74.77600000000001, 74.884, 74.99199999999999, 75.1, 75.208, 75.316, 75.424, 75.532, 75.64, 75.74799999999999, 75.856, 75.964, 76.072, 76.18, 76.288, 76.396, 76.50399999999999, 76.612, 76.72, 76.828, 76.936, 77.044, 77.152, 77.25999999999999, 77.368, 77.476, 77.584, 77.69200000000001, 77.8, 77.908, 78.01599999999999, 78.124, 78.232, 78.34, 78.44800000000001, 78.556, 78.664, 78.77199999999999, 78.88, 78.988, 79.096, 79.20400000000001, 79.312, 79.42, 79.52799999999999, 79.636, 79.744, 79.852, 79.96000000000001, 80.068, 80.176, 80.28399999999999, 80.392, 80.5, 80.608, 80.71600000000001, 80.824, 80.932, 81.03999999999999, 81.148, 81.256, 81.364, 81.47200000000001, 81.58, 81.688, 81.79599999999999, 81.904, 82.012, 82.12, 82.22800000000001, 82.336, 82.444, 82.55199999999999, 82.66, 82.768, 82.876, 82.98400000000001, 83.092, 83.2, 83.30799999999999, 83.416, 83.524, 83.632, 83.74000000000001, 83.848, 83.956, 84.064, 84.172, 84.28, 84.388, 84.49600000000001, 84.604, 84.712, 84.82, 84.928, 85.036, 85.144, 85.25200000000001, 85.36, 85.468, 85.576, 85.684, 85.792, 85.9, 86.00800000000001, 86.116, 86.22399999999999, 86.332, 86.44, 86.548, 86.656, 86.76400000000001, 86.872, 86.97999999999999, 87.088, 87.196, 87.304, 87.412, 87.52000000000001, 87.628, 87.73599999999999, 87.844, 87.952, 88.06, 88.168, 88.27600000000001, 88.384, 88.49199999999999, 88.6, 88.708, 88.816, 88.924, 89.032, 89.14, 89.24799999999999, 89.356, 89.464, 89.572, 89.68, 89.788, 89.896, 90.00399999999999, 90.112, 90.22, 90.328, 90.436, 90.544, 90.652, 90.75999999999999, 90.868, 90.976, 91.084, 91.19200000000001, 91.3, 91.408, 91.51599999999999, 91.624, 91.732, 91.84, 91.94800000000001, 92.056, 92.164, 92.27199999999999, 92.38, 92.488, 92.596, 92.70400000000001, 92.812, 92.92, 93.02799999999999, 93.136, 93.244, 93.352, 93.46000000000001, 93.568, 93.676, 93.78399999999999, 93.892], \"xaxis\": \"x\", \"y\": [0.009027253567486893, 0.00926913436914501, 0.009513514560650424, 0.00976027029547243, 0.010009273253942502, 0.01026039083733213, 0.010513486376424621, 0.010768419353989707, 0.011025045640485237, 0.011283217742224242, 0.011542785061166549, 0.011803594165414487, 0.012065489069419715, 0.012328311522839308, 0.012591901306916443, 0.012856096537204688, 0.01312073397140565, 0.013385649321047842, 0.01365067756570234, 0.013915653268404944, 0.014180410890941327, 0.014444785107644761, 0.014708611116361469, 0.014971724945254018, 0.015233963754137488, 0.015495166129080223, 0.01575517236904624, 0.016013824763414185, 0.016270967859272747, 0.016526448717470825, 0.016780117156484524, 0.017031825983258437, 0.0172814312102811, 0.017528792258263523, 0.017773772143906665, 0.018016237652365253, 0.018256059494141608, 0.018493112446273198, 0.01872727547781007, 0.01895843185971172, 0.019186469259426315, 0.01941127982054782, 0.01963276022807655, 0.019850811759933588, 0.0200653403255021, 0.020276256492081726, 0.020483475500250377, 0.02068691726922543, 0.020886506393405523, 0.021082172131351926, 0.02127384838853322, 0.021461473695212136, 0.02164499118089152, 0.02182434854676255, 0.02199949803760927, 0.022170396414619622, 0.022337004930532138, 0.0224992893085146, 0.02265721972611821, 0.022810770805586265, 0.02295992161171437, 0.02310465565836423, 0.02324496092462337, 0.023380829881479236, 0.02351225952974239, 0.023639251449805006, 0.02376181186366527, 0.023879951709481193, 0.023993686728744173, 0.02410303756598213, 0.024208029880717723, 0.024308694471219045, 0.024405067409390354, 0.024497190185962452, 0.024585109864953405, 0.024668879246188158, 0.024748557034486304, 0.024824208013956864, 0.024895903225675677, 0.024963720146869803, 0.025027742869592657, 0.025088062276746693, 0.025144776213199306, 0.02519798964964068, 0.025247814836754305, 0.025294371447210695, 0.02533778670295279, 0.02537819548522114, 0.025415740424765864, 0.02545057196971258, 0.025482848428591286, 0.025512735986100273, 0.025540408689261027, 0.02556604840172603, 0.025589844724127557, 0.025611994878502003, 0.025632703554990182, 0.025652182719199244, 0.02567065137881339, 0.025688335308260504, 0.025705466730474583, 0.025722283955042845, 0.02573903097228605, 0.025755957003090874, 0.025773316004593764, 0.02579136613210139, 0.025810369157925502, 0.02583058984810457, 0.025852295298281813, 0.025875754230303836, 0.025901236251398327, 0.025929011078076554, 0.025959347727188588, 0.02599251367683124, 0.02602877400007124, 0.026068390474695627, 0.026111620672435856, 0.026158717031331442, 0.026209925915100143, 0.026265486663562862, 0.026325630638332778, 0.02639058026811678, 0.026460548098092347, 0.026535735847914976, 0.026616333482975364, 0.02670251830356675, 0.026794454056634685, 0.026892290074767542, 0.026996160447044785, 0.027106183226290426, 0.027222459677182956, 0.027345073569549214, 0.02747409052101909, 0.027609557393041332, 0.02775150174405879, 0.027899931343414605, 0.02805483374931096, 0.028216175953869563, 0.028383904098050857, 0.028557943258875385, 0.028738197311062183, 0.02892454886485286, 0.029116859281430957, 0.029314968766974387, 0.029518696545998622, 0.029727841114259284, 0.02994218057108937, 0.030161473030648946, 0.03038545711117045, 0.03061385250088379, 0.03084636059891739, 0.031082665229085656, 0.03132243342409787, 0.03156531627735951, 0.03181094985918635, 0.03205895619391712, 0.03230894429409291, 0.03256051124757561, 0.03281324335320067, 0.03306671730030967, 0.033320501387279794, 0.0335741567739681, 0.033827238762816104, 0.034079298103217165, 0.03432988231363458, 0.03457853701587648, 0.03482480727588188, 0.0350682389453502, 0.03530837999855875, 0.03554478185875487, 0.03577700070858167, 0.03600459877909926, 0.03622714561209883, 0.03644421929056571, 0.03665540763233786, 0.036860309342222085, 0.03705853511806877, 0.037249708706569115, 0.03743346790482303, 0.03760946550402712, 0.03777737017195426, 0.03793686727122768, 0.03808765961074218, 0.038229468127940085, 0.03836203250001629, 0.03848511168249423, 0.03859848437399058, 0.038701949406357385, 0.03879532605976327, 0.03887845430264254, 0.038951194956800717, 0.039013429788318524, 0.03906506152523701, 0.03910601380333439, 0.03913623104162084, 0.039155678249474066, 0.03916434076761884, 0.039162223945416214, 0.039149352757166536, 0.03912577136035274, 0.03909154259894632, 0.039046747455075005, 0.03899148445250099, 0.03892586901549095, 0.03885003278676055, 0.038764122908261825, 0.03866830126863957, 0.03856274372121969, 0.03844763927640932, 0.03832318927238071, 0.038189606527885604, 0.03804711448100284, 0.037895946317556446, 0.03773634409286415, 0.037568557850377354, 0.037392844740667876, 0.0372094681440905, 0.03701869680031834, 0.0368208039478043, 0.03661606647606681, 0.03640476409354235, 0.03618717851357756, 0.03596359266096643, 0.035734289901264156, 0.03549955329493425, 0.035259664878208696, 0.035014904972367575, 0.03476555152296781, 0.034511879470380036, 0.034254160152823974, 0.03399266074292508, 0.033727643718656795, 0.03345936636937473, 0.03318808033749905, 0.032914031196254794, 0.032637458063741666, 0.0323585932534713, 0.032077661961380156, 0.03179488198920827, 0.031510463504017, 0.031224608833508288, 0.03093751229670877, 0.030649360069478476, 0.03036033008421715, 0.030070591963049165, 0.029780306983690212, 0.029489628077117684, 0.029198699856096005, 0.02890765867353893, 0.028616632709625004, 0.028325742086523147, 0.0280350990095263, 0.027744807933338174, 0.02745496575220773, 0.027165662012557885, 0.0268769791467121, 0.02658899272628079, 0.02630177173373313, 0.02601537885064409, 0.025729870761077304, 0.02544529846853738, 0.025161707624898888, 0.024879138869704494, 0.024597628178204798, 0.02431720721650323, 0.02403790370216282, 0.02375974176862897, 0.023482742331824732, 0.023206923457284635, 0.022932300726205463, 0.0226588875988105, 0.022386695773450226, 0.022115735539890692, 0.021846016125277923, 0.02157754603130854, 0.02131033336118451, 0.021044386134983852, 0.02077971259213819, 0.020516321479774464, 0.020254222325747046, 0.019993425695264105, 0.019733943430092438, 0.019475788869410558, 0.019218977051470087, 0.01896352489531989, 0.018709451361944192, 0.018456777594267677, 0.018205527035582435, 0.01795572552605839, 0.017707401377104543, 0.017460585423456593, 0.01721531105297423, 0.01697161421424078, 0.016729533402162187, 0.0164891096218715, 0.016250386331346407, 0.016013409363250047, 0.01577822682660327, 0.015544888988991428, 0.01531344814010028, 0.015083958437460738, 0.014856475735364947, 0.014631057397991597, 0.014407762097849294, 0.014186649600711332, 0.013967780538273175, 0.01375121616981658, 0.013537018134208616, 0.013325248193602797, 0.013115967970240897, 0.01290923867777831, 0.01270512084857327, 0.012503674058390847, 0.012304956649976023, 0.01210902545694646, 0.011915935529446017, 0.011725739862982863, 0.011538489131852575, 0.011354231428517917, 0.011173012010281274, 0.010994873054543523, 0.010819853423898147, 0.01064798844225628, 0.010479309683141626, 0.010313844771232962, 0.010151617198166842, 0.009992646153541567, 0.009836946371992209, 0.009684527997128711, 0.00953539646304923, 0.009389552394059659, 0.009246991523145304, 0.00910770462965334, 0.00897167749655903, 0.008838890887596911, 0.008709320544449893, 0.00858293720409808, 0.008459706636338337, 0.008339589701395006, 0.0082225424274527, 0.008108516107852331, 0.007997457417603602, 0.007889308548781426, 0.007784007364288706, 0.007681487569385208, 0.00758167890030397, 0.007484507329197697, 0.007389895284586199, 0.007297761886403917, 0.007208023194680972, 0.007120592470829445, 0.007035380450447678, 0.00695229562650313, 0.006871244541705506, 0.00679213208883956, 0.006714861817788344, 0.00663933624794675, 0.0065654571846985935, 0.006493126038609945, 0.0064222441459783315, 0.006352713089368944, 0.006284435016767665, 0.00621731295798628, 0.006151251136966069, 0.006086155278644192, 0.006021932909071616, 0.005958493647501935, 0.005895749489207202, 0.0058336150778200094, 0.005772007966050051, 0.005710848863677566, 0.005650061871786739, 0.005589574702266804, 0.0055293188816791065, 0.0054692299386626874, 0.005409247574130121, 0.005349315813587202, 0.0052893831409967, 0.005229402613694216, 0.005169331957955936, 0.0051091336449104715, 0.005048774946581516, 0.004988227971943073, 0.004927469682964543, 0.004866481890718276, 0.004805251231716327, 0.004743769124736914, 0.004682031708492332, 0.004620039760578678, 0.004557798598235262, 0.004495317961523184, 0.004432611879613022, 0.004369698520946049, 0.00430660002810416, 0.0042433423382891204, 0.004179954990372052, 0.00411647091952888, 0.004052926240525797, 0.003989360020761744, 0.003925814044211368, 0.003862332567441016, 0.0037989620688947874, 0.0037357509926631287, 0.003672749487957269, 0.003610009145516017, 0.0035475827321678637, 0.003485523924762434, 0.003423887044668708, 0.003362726794015852, 0.00330209799482438, 0.0032420553321419175, 0.003182653102258615, 0.0031239449670338627, 0.0030659837153168396, 0.003008821032390642, 0.002952507278313173, 0.0028970912759672582, 0.002842620109569198, 0.0027891389343189287, 0.0027366907978067677, 0.0026853164737214528, 0.002635054308333242, 0.0025859400801535233, 0.002538006873099606, 0.0024912849634215273, 0.002445801720574877, 0.0024015815221529544, 0.0023586456829216475, 0.002317012397931999, 0.0022766966996191885, 0.0022377104287330057, 0.002200062218883241, 0.0021637574944253593, 0.0021287984813565405, 0.0020951842308405415, 0.0020629106549314375, 0.0020319705740222244, 0.0020023537755037577, 0.001974047083082677, 0.0019470344361753205, 0.0019212969787657803, 0.001896813157092533, 0.001873558825508186, 0.001851507359840989, 0.0018306297775750992, 0.0018108948641588618, 0.001792269304746369, 0.0017747178206774252, 0.001758203310004496, 0.0017426869913818404, 0.0017281285506421508, 0.0017144862893990283, 0.001701717275029315, 0.0016897774914078874, 0.0016786219897881015, 0.001668205039244051, 0.0016584802761155139, 0.0016494008519228466, 0.0016409195792469761, 0.0016329890750984523, 0.0016255619013295917, 0.001618590701674223, 0.0016120283350307106, 0.001605828004635338, 0.0015999433828044155, 0.0015943287309549993, 0.0015889390146450223, 0.0015837300134042163, 0.0015786584251571572, 0.0015736819650690186, 0.0015687594586727958, 0.0015638509291642498, 0.0015589176787770137, 0.0015539223641753213, 0.0015488290658257845, 0.001543603351332221, 0.0015382123327387564, 0.001532624717826457, 0.0015268108554472547, 0.0015207427749563325, 0.0015143942198199323, 0.0015077406754902833, 0.0015007593916526619, 0.0014934293989617695, 0.0014857315203955375, 0.001477648377364277, 0.0014691643907219396, 0.0014602657768339282, 0.0014509405388626899, 0.0014411784534384359, 0.0014309710528872528, 0.001420311603193519, 0.0014091950778770692, 0.0013976181279689534, 0.0013855790482720258, 0.0013730777400948909, 0.001360115670649441, 0.0013466958293035232, 0.0013328226808814252, 0.0013185021162054513], \"yaxis\": \"y\"}, {\"legendgroup\": \"Not having Diabetes\", \"marker\": {\"color\": \"rgb(255, 127, 14)\"}, \"mode\": \"lines\", \"name\": \"Not having Diabetes\", \"showlegend\": false, \"type\": \"scatter\", \"x\": [40.0, 40.11, 40.22, 40.33, 40.44, 40.55, 40.66, 40.77, 40.88, 40.99, 41.1, 41.21, 41.32, 41.43, 41.54, 41.65, 41.76, 41.87, 41.98, 42.09, 42.2, 42.31, 42.42, 42.53, 42.64, 42.75, 42.86, 42.97, 43.08, 43.19, 43.3, 43.41, 43.52, 43.63, 43.74, 43.85, 43.96, 44.07, 44.18, 44.29, 44.4, 44.51, 44.62, 44.730000000000004, 44.84, 44.95, 45.06, 45.17, 45.28, 45.39, 45.5, 45.61, 45.72, 45.83, 45.94, 46.05, 46.16, 46.269999999999996, 46.38, 46.49, 46.6, 46.71, 46.82, 46.93, 47.04, 47.15, 47.26, 47.37, 47.480000000000004, 47.59, 47.7, 47.81, 47.92, 48.03, 48.14, 48.25, 48.36, 48.47, 48.58, 48.69, 48.8, 48.91, 49.019999999999996, 49.13, 49.24, 49.35, 49.46, 49.57, 49.68, 49.79, 49.9, 50.01, 50.12, 50.230000000000004, 50.34, 50.45, 50.56, 50.67, 50.78, 50.89, 51.0, 51.11, 51.22, 51.33, 51.44, 51.55, 51.66, 51.769999999999996, 51.88, 51.99, 52.1, 52.21, 52.32, 52.43, 52.54, 52.65, 52.76, 52.87, 52.980000000000004, 53.09, 53.2, 53.31, 53.42, 53.53, 53.64, 53.75, 53.86, 53.97, 54.08, 54.19, 54.3, 54.41, 54.519999999999996, 54.63, 54.74, 54.85, 54.96, 55.07, 55.18, 55.29, 55.4, 55.51, 55.62, 55.730000000000004, 55.84, 55.95, 56.06, 56.17, 56.28, 56.39, 56.5, 56.61, 56.72, 56.83, 56.94, 57.05, 57.16, 57.269999999999996, 57.379999999999995, 57.489999999999995, 57.6, 57.71, 57.82, 57.93, 58.04, 58.15, 58.260000000000005, 58.370000000000005, 58.480000000000004, 58.59, 58.7, 58.81, 58.92, 59.03, 59.14, 59.25, 59.36, 59.47, 59.58, 59.69, 59.8, 59.91, 60.019999999999996, 60.129999999999995, 60.239999999999995, 60.35, 60.46, 60.57, 60.68, 60.79, 60.9, 61.010000000000005, 61.120000000000005, 61.230000000000004, 61.34, 61.45, 61.56, 61.67, 61.78, 61.89, 62.0, 62.11, 62.22, 62.33, 62.44, 62.55, 62.66, 62.769999999999996, 62.879999999999995, 62.989999999999995, 63.1, 63.21, 63.32, 63.43, 63.54, 63.65, 63.760000000000005, 63.870000000000005, 63.980000000000004, 64.09, 64.2, 64.31, 64.42, 64.53, 64.64, 64.75, 64.86, 64.97, 65.08, 65.19, 65.3, 65.41, 65.52, 65.63, 65.74, 65.85, 65.96000000000001, 66.07, 66.18, 66.28999999999999, 66.4, 66.51, 66.62, 66.73, 66.84, 66.95, 67.06, 67.17, 67.28, 67.39, 67.5, 67.61, 67.72, 67.83, 67.94, 68.05, 68.16, 68.27, 68.38, 68.49, 68.6, 68.71000000000001, 68.82, 68.93, 69.03999999999999, 69.15, 69.26, 69.37, 69.48, 69.59, 69.7, 69.81, 69.92, 70.03, 70.14, 70.25, 70.36, 70.47, 70.58, 70.69, 70.8, 70.91, 71.02, 71.13, 71.24, 71.35, 71.46000000000001, 71.57, 71.68, 71.78999999999999, 71.9, 72.00999999999999, 72.12, 72.22999999999999, 72.34, 72.45, 72.56, 72.67, 72.78, 72.89, 73.0, 73.11, 73.22, 73.33, 73.44, 73.55, 73.66, 73.77000000000001, 73.88, 73.99000000000001, 74.1, 74.21000000000001, 74.32, 74.43, 74.53999999999999, 74.65, 74.75999999999999, 74.87, 74.97999999999999, 75.09, 75.2, 75.31, 75.42, 75.53, 75.64, 75.75, 75.86, 75.97, 76.08, 76.19, 76.3, 76.41, 76.52000000000001, 76.63, 76.74000000000001, 76.85, 76.96000000000001, 77.07, 77.18, 77.28999999999999, 77.4, 77.50999999999999, 77.62, 77.72999999999999, 77.84, 77.95, 78.06, 78.17, 78.28, 78.39, 78.5, 78.61, 78.72, 78.83, 78.94, 79.05, 79.16, 79.27000000000001, 79.38, 79.49000000000001, 79.6, 79.71000000000001, 79.82, 79.93, 80.03999999999999, 80.15, 80.25999999999999, 80.37, 80.47999999999999, 80.59, 80.7, 80.81, 80.92, 81.03, 81.14, 81.25, 81.36, 81.47, 81.58, 81.69, 81.8, 81.91, 82.02000000000001, 82.13, 82.24000000000001, 82.35, 82.46000000000001, 82.57, 82.68, 82.78999999999999, 82.9, 83.00999999999999, 83.12, 83.22999999999999, 83.34, 83.45, 83.56, 83.67, 83.78, 83.89, 84.0, 84.11, 84.22, 84.33, 84.44, 84.55, 84.66, 84.77000000000001, 84.88, 84.99000000000001, 85.1, 85.21000000000001, 85.32, 85.43, 85.53999999999999, 85.65, 85.75999999999999, 85.87, 85.97999999999999, 86.09, 86.2, 86.31, 86.42, 86.53, 86.64, 86.75, 86.86, 86.97, 87.08, 87.19, 87.3, 87.41, 87.52000000000001, 87.63, 87.74000000000001, 87.85, 87.96000000000001, 88.07, 88.18, 88.28999999999999, 88.4, 88.50999999999999, 88.62, 88.72999999999999, 88.84, 88.95, 89.06, 89.17, 89.28, 89.39, 89.5, 89.61, 89.72, 89.83, 89.94, 90.05, 90.16, 90.27000000000001, 90.38, 90.49000000000001, 90.6, 90.71000000000001, 90.82, 90.93, 91.03999999999999, 91.15, 91.25999999999999, 91.37, 91.47999999999999, 91.59, 91.7, 91.81, 91.92, 92.03, 92.14, 92.25, 92.36, 92.47, 92.58, 92.69, 92.8, 92.91, 93.02000000000001, 93.13, 93.24000000000001, 93.35, 93.46000000000001, 93.57, 93.68, 93.78999999999999, 93.9, 94.00999999999999, 94.12, 94.22999999999999, 94.34, 94.45, 94.56, 94.67, 94.78, 94.89], \"xaxis\": \"x\", \"y\": [0.009568645504194485, 0.009739411604943689, 0.009910384742533826, 0.010081521904886767, 0.01025278222105936, 0.010424127032295314, 0.01059551995343501, 0.010766926924341023, 0.010938316251035638, 0.01110965863629092, 0.011280927199453075, 0.011452097485330685, 0.011623147462021343, 0.011794057507600429, 0.011964810385644708, 0.012135391209612347, 0.012305787396152987, 0.012475988607470455, 0.012645986682913172, 0.012815775560016477, 0.012985351185272598, 0.01315471141495244, 0.013323855906353082, 0.013492785999891413, 0.013661504592511114, 0.013830016002914442, 0.013998325829172358, 0.014166440799308377, 0.014334368615487522, 0.014502117792479442, 0.014669697491096303, 0.014837117347336198, 0.015004387297989908, 0.015171517403491763, 0.015338517668816023, 0.015505397863235893, 0.015672167339775524, 0.01583883485519434, 0.016005408391347568, 0.016171894978768333, 0.016338300523313726, 0.01650462963671044, 0.016670885471823747, 0.016837069563460247, 0.01700318167549401, 0.01716921965508421, 0.017335179294725066, 0.017501054202838418, 0.017666835683584903, 0.017832512626533365, 0.01799807140678505, 0.018163495796107362, 0.018328766885582833, 0.018493863020231437, 0.018658759746009123, 0.01882342976953428, 0.018987842930834234, 0.01915196618934748, 0.019315763623356547, 0.019479196442966043, 0.019642223016677684, 0.019804798911553123, 0.019966876946890665, 0.020128407261281456, 0.02028933739284688, 0.020449612372397754, 0.020609174829195775, 0.02076796510893775, 0.020925921403525668, 0.02108297989212975, 0.021239074892998214, 0.0213941390254166, 0.021548103381169942, 0.021700897704817042, 0.0218524505820433, 0.022002689635319136, 0.022151541726057333, 0.022298933162429677, 0.02244478991197731, 0.022589037818125133, 0.022731602819691943, 0.022872411172473132, 0.023011389671963058, 0.023148465876277675, 0.02328356832833745, 0.023416626776373368, 0.02354757239182657, 0.02367633798372465, 0.02380285820863344, 0.023927069775304916, 0.024048911643165194, 0.024168325213817544, 0.02428525451476627, 0.024399646374604865, 0.02451145058895197, 0.024620620076461024, 0.0247271110242767, 0.024830883022360365, 0.024931899186157937, 0.025030126267138058, 0.02512553475078452, 0.025218098941684235, 0.025307797035412166, 0.025394611176973454, 0.02547852750562584, 0.025559536185966094, 0.025637631425225887, 0.025712811476785342, 0.025785078629972646, 0.025854439186279634, 0.025920903422182763, 0.02598448553881618, 0.026045203598802344, 0.026103079450598494, 0.026158138640771454, 0.02621041031466316, 0.02625992710595707, 0.02630672501570087, 0.026350843281383023, 0.026392324236699002, 0.026431213162679407, 0.026467558130883116, 0.026501409839387643, 0.026532821442333623, 0.02656184837379968, 0.026588548166802926, 0.026612980268231147, 0.026635205850522377, 0.026655287620913067, 0.026673289629075177, 0.026689277073961272, 0.026703316110667764, 0.026715473658117685, 0.02672581720834664, 0.02673441463816092, 0.02674133402391133, 0.026746643460103445, 0.02675041088253533, 0.026752703896622303, 0.026753589611533502, 0.026753134480729187, 0.02675140414944592, 0.026748463309636178, 0.026744375562825055, 0.026739203291300383, 0.026733007538004613, 0.02672584789545067, 0.02671778240393089, 0.026708867459240723, 0.026699157730086073, 0.0266887060852926, 0.026677563530884185, 0.026665779157046324, 0.026653400094940445, 0.026640471483284602, 0.026627036444568392, 0.026613136070721286, 0.026598809418008993, 0.02658409351088703, 0.026569023354499316, 0.026553631955468338, 0.026537950350587154, 0.026522007642986116, 0.026505831045316015, 0.0264894459294586, 0.026472875882248146, 0.02645614276666436, 0.026439266787935598, 0.0264222665639731, 0.02640515919954376, 0.02638796036357666, 0.026370684368991017, 0.026353344254429974, 0.026335951867281365, 0.02631851794737163, 0.026301052210721876, 0.026283563432766877, 0.026266059530447163, 0.02624854764260163, 0.02623103420810506, 0.026213525041217052, 0.02619602540363164, 0.02617854007274453, 0.026161073405683282, 0.026143629398676885, 0.026126211741375846, 0.026108823865767784, 0.0260914689893719, 0.02607415015243448, 0.0260568702488869, 0.026039632050870076, 0.026022438226670656, 0.026005291351958455, 0.02598819391425623, 0.025971148310619415, 0.02595415683854435, 0.025937221680169674, 0.025920344879877846, 0.025903528315445526, 0.02588677366293588, 0.02587008235556394, 0.025853455536807658, 0.025836894008074995, 0.025820398171272622, 0.025803967966658972, 0.02578760280639459, 0.025771301504234193, 0.025755062201834125, 0.025738882292171885, 0.025722758340600442, 0.02570668600407811, 0.02569065994913382, 0.02567467376914019, 0.02565871990148153, 0.02564278954520785, 0.025626872579776104, 0.02561095748547711, 0.02559503126614953, 0.025579079374775233, 0.025563085642543518, 0.025547032211961012, 0.02553089947457017, 0.025514666013820898, 0.025498308553621726, 0.025481801913071846, 0.025465118967850097, 0.02544823061870862, 0.025431105767486743, 0.025413711301027042, 0.02539601208333928, 0.025377970956320113, 0.02535954874929468, 0.025340704297605994, 0.02532139447043259, 0.025301574207970825, 0.02528119656807181, 0.02526021278237608, 0.025238572321940156, 0.025216222972303044, 0.02519311091789043, 0.025169180835606934, 0.025144375997418984, 0.025118638381682587, 0.025091908792925388, 0.025064126989745007, 0.025035231820442955, 0.025005161365970755, 0.024973853089723618, 0.024941243993678596, 0.024907270780338865, 0.02487187001990956, 0.024834978322102113, 0.02479653251193351, 0.024756469808862622, 0.02471472800858356, 0.02467124566677647, 0.02462596228410167, 0.024578818491710057, 0.024529756236535746, 0.02447871896563014, 0.0244256518087983, 0.02437050175879884, 0.024313217848375913, 0.024253751323402684, 0.02419205581142745, 0.024128087484933145, 0.024061805218639726, 0.023993170740203757, 0.023922148773697166, 0.023848707175276675, 0.023772817060489018, 0.023694452922693048, 0.023613592742117957, 0.023530218085117814, 0.023444314193225155, 0.023355870061650984, 0.02326487850692487, 0.02317133622341591, 0.02307524382852383, 0.02297660589637926, 0.022875430979940718, 0.022771731621426938, 0.02266552435107285, 0.022556829674245302, 0.022445672047006465, 0.02233207984025785, 0.022216085292646535, 0.022097724452459982, 0.021977037108779473, 0.02185406671220474, 0.0217288602855014, 0.021601468324561578, 0.021471944690101392, 0.02134034649055454, 0.021206733956647454, 0.02107117030817234, 0.020933721613494143, 0.020794456642353517, 0.020653446712540127, 0.020510765531030935, 0.020366489030194664, 0.020220695199675554, 0.02007346391457291, 0.01992487676053546, 0.019775016856388508, 0.019623968674907948, 0.019471817862348303, 0.019318651057322108, 0.01916455570961575, 0.019009619899511995, 0.01885393215817269, 0.01869758128961458, 0.01854065619479107, 0.018383245698268675, 0.018225438377962776, 0.01806732239836954, 0.017908985347705426, 0.01775051407933526, 0.01759199455784153, 0.017433511710056974, 0.017275149281352757, 0.017116989697443474, 0.016959113931939454, 0.016801601379846966, 0.01664452973718662, 0.016487974886870475, 0.016332010790950542, 0.01617670938932168, 0.01602214050493763, 0.01586837175557012, 0.01571546847211959, 0.015563493623460363, 0.015412507747783251, 0.01526256889037787, 0.0151137325477777, 0.014966051618176485, 0.014819576358005737, 0.014674354344553732, 0.014530430444490905, 0.014387846788159896, 0.014246642749477225, 0.014106854931288904, 0.013968517156015745, 0.01383166046142196, 0.013696313101336195, 0.013562500551156494, 0.013430245517967563, 0.013299567955103266, 0.013170485080988338, 0.013043011402097451, 0.012917158739873981, 0.012792936261456502, 0.01267035051406594, 0.012549405462913752, 0.012430102532496391, 0.01231244065115, 0.012196416298744371, 0.012082023557403026, 0.011969254165143177, 0.01185809757233406, 0.011748541000880828, 0.011640569506043965, 0.011534166040811263, 0.011429311522742715, 0.011325984903212917, 0.011224163238977533, 0.011123821765994003, 0.011024933975426232, 0.010927471691764494, 0.01083140515299031, 0.01073670309271525, 0.010643332824219613, 0.010551260326313726, 0.010460450330940216, 0.010370866412430964, 0.010282471078325202, 0.010195225861650678, 0.010109091414559663, 0.010024027603206228, 0.009939993603740612, 0.009856947999288596, 0.009774848877774038, 0.009693653930433062, 0.009613320550858815, 0.009533805934405105, 0.009455067177769115, 0.00937706137856131, 0.00929974573466378, 0.009223077643167463, 0.009147014798671662, 0.009071515290719994, 0.008996537700141628, 0.008922041194058638, 0.008847985619316108, 0.008774331594087071, 0.008701040597400851, 0.008628075056341502, 0.008555398430662517, 0.008482975294563877, 0.008410771415379966, 0.008338753828929728, 0.008266890911284887, 0.00819515244671903, 0.008123509691606627, 0.00805193543405091, 0.00798040404902967, 0.00790889154885942, 0.007837375628792135, 0.007765835707572709, 0.007694252962800679, 0.0076226103609578644, 0.0075508926819795414, 0.007479086538267858, 0.007407180388064136, 0.007335164543118965, 0.007263031170619211, 0.007190774289354002, 0.007118389760122997, 0.00704587527041477, 0.0069732303134040175, 0.006900456161341606, 0.006827555833432296, 0.0067545340583197375, 0.006681397231319651, 0.006608153366564567, 0.006534812044244858, 0.006461384353152116, 0.006387882828749663, 0.00631432138701552, 0.006240715254319602, 0.006167080893614892, 0.006093435927237022, 0.006019799056621038, 0.0059461899792572085, 0.0058726293032181735, 0.005799138459600044, 0.005725739613227651, 0.005652455571980581, 0.005579309695100766, 0.005506325800846344, 0.005433528073856064, 0.0053609409725893726, 0.005288589137203667, 0.005216497298227008, 0.005144690186378069, 0.00507319244387821, 0.005002028537590865, 0.004931222674313312, 0.004860798718533386, 0.00479078011295032, 0.004721189802043889, 0.004652050158959848, 0.004583382915962565, 0.004515209098687023, 0.004447548964403364, 0.004380421944486754, 0.004313846591264529, 0.004247840529391097, 0.004182420411879056, 0.004117601880892371, 0.004053399533385223, 0.0039898268916468685, 0.003926896378790429, 0.003864619299200505, 0.0038030058239323285, 0.0037420649810324404, 0.003681804650729947, 0.003622231565425262, 0.0035633513143836764, 0.0035051683530200896, 0.003447686016643661, 0.0033909065385115938, 0.003334831072025427, 0.0032794597168863296, 0.003224791549011478, 0.003170824653999657, 0.003117556163922019, 0.0030649822972024865, 0.0030130984013426254, 0.0029618989982373163, 0.0029113778318204013, 0.002861527917773767, 0.002812341595028893, 0.002763810578787276, 0.0027159260147840195, 0.002668678534519397, 0.00262205831118362, 0.0025760551160031657, 0.002530658374740182, 0.0024858572240819945, 0.0024416405676634697, 0.002397997131472676, 0.0023549155183982275, 0.002312384261686709, 0.002270391877088089, 0.0022289269134793217, 0.00218797800176713, 0.002147533901884898, 0.002107583547711032, 0.0020681160897508687], \"yaxis\": \"y\"}, {\"legendgroup\": \"Diabetes\", \"marker\": {\"color\": \"rgb(31, 119, 180)\", \"symbol\": \"line-ns-open\"}, \"mode\": \"markers\", \"name\": \"Diabetes\", \"showlegend\": false, \"type\": \"scatter\", \"x\": [65.0, 60.0, 48.0, 65.0, 53.0, 75.0, 80.0, 70.0, 82.0, 94.0, 50.0, 50.0, 65.0, 69.0, 90.0, 82.0, 60.0, 60.0, 50.0, 70.0, 72.0, 60.0, 50.0, 60.0, 60.0, 70.0, 60.0, 72.0, 45.0, 42.0, 65.0, 58.0, 65.0, 42.0, 75.0, 60.0, 59.0, 65.0, 44.0, 70.0, 60.0, 58.0, 63.0, 60.0, 63.0, 45.0, 45.0, 50.0, 60.0, 60.0, 65.0, 66.0, 60.0, 46.0, 58.0, 53.0, 60.0, 65.0, 62.0, 50.0, 62.0, 50.0, 60.0, 50.0, 45.0, 80.0, 59.0, 65.0, 51.0, 65.0, 63.0, 40.0, 59.0, 65.0, 60.667, 60.0, 60.667, 80.0, 50.0, 73.0, 45.0, 50.0, 60.0, 45.0, 50.0, 60.0, 49.0, 70.0, 48.0, 68.0, 55.0, 58.0, 75.0, 65.0, 70.0, 65.0, 54.0, 61.0, 53.0, 55.0, 70.0, 52.0, 58.0, 45.0, 65.0, 68.0, 61.0, 56.0, 45.0, 40.0, 44.0, 51.0, 60.0, 70.0, 50.0, 55.0, 70.0, 55.0, 45.0, 65.0, 45.0, 52.0, 63.0, 62.0, 45.0], \"xaxis\": \"x\", \"y\": [\"Diabetes\", \"Diabetes\", \"Diabetes\", \"Diabetes\", \"Diabetes\", \"Diabetes\", \"Diabetes\", \"Diabetes\", \"Diabetes\", \"Diabetes\", \"Diabetes\", \"Diabetes\", \"Diabetes\", \"Diabetes\", \"Diabetes\", \"Diabetes\", \"Diabetes\", \"Diabetes\", \"Diabetes\", \"Diabetes\", \"Diabetes\", \"Diabetes\", \"Diabetes\", \"Diabetes\", \"Diabetes\", \"Diabetes\", \"Diabetes\", \"Diabetes\", \"Diabetes\", \"Diabetes\", \"Diabetes\", \"Diabetes\", \"Diabetes\", \"Diabetes\", \"Diabetes\", \"Diabetes\", \"Diabetes\", \"Diabetes\", \"Diabetes\", \"Diabetes\", \"Diabetes\", \"Diabetes\", \"Diabetes\", \"Diabetes\", \"Diabetes\", \"Diabetes\", \"Diabetes\", \"Diabetes\", \"Diabetes\", \"Diabetes\", \"Diabetes\", \"Diabetes\", \"Diabetes\", \"Diabetes\", \"Diabetes\", \"Diabetes\", \"Diabetes\", \"Diabetes\", \"Diabetes\", \"Diabetes\", \"Diabetes\", \"Diabetes\", \"Diabetes\", \"Diabetes\", \"Diabetes\", \"Diabetes\", \"Diabetes\", \"Diabetes\", \"Diabetes\", \"Diabetes\", \"Diabetes\", \"Diabetes\", \"Diabetes\", \"Diabetes\", \"Diabetes\", \"Diabetes\", \"Diabetes\", \"Diabetes\", \"Diabetes\", \"Diabetes\", \"Diabetes\", \"Diabetes\", \"Diabetes\", \"Diabetes\", \"Diabetes\", \"Diabetes\", \"Diabetes\", \"Diabetes\", \"Diabetes\", \"Diabetes\", \"Diabetes\", \"Diabetes\", \"Diabetes\", \"Diabetes\", \"Diabetes\", \"Diabetes\", \"Diabetes\", \"Diabetes\", \"Diabetes\", \"Diabetes\", \"Diabetes\", \"Diabetes\", \"Diabetes\", \"Diabetes\", \"Diabetes\", \"Diabetes\", \"Diabetes\", \"Diabetes\", \"Diabetes\", \"Diabetes\", \"Diabetes\", \"Diabetes\", \"Diabetes\", \"Diabetes\", \"Diabetes\", \"Diabetes\", \"Diabetes\", \"Diabetes\", \"Diabetes\", \"Diabetes\", \"Diabetes\", \"Diabetes\", \"Diabetes\", \"Diabetes\", \"Diabetes\"], \"yaxis\": \"y2\"}, {\"legendgroup\": \"Not having Diabetes\", \"marker\": {\"color\": \"rgb(255, 127, 14)\", \"symbol\": \"line-ns-open\"}, \"mode\": \"markers\", \"name\": \"Not having Diabetes\", \"showlegend\": false, \"type\": \"scatter\", \"x\": [75.0, 55.0, 65.0, 50.0, 90.0, 75.0, 65.0, 80.0, 75.0, 62.0, 45.0, 50.0, 49.0, 82.0, 87.0, 45.0, 70.0, 65.0, 68.0, 95.0, 58.0, 85.0, 70.0, 51.0, 80.0, 57.0, 68.0, 53.0, 95.0, 70.0, 60.0, 49.0, 50.0, 55.0, 45.0, 45.0, 60.0, 72.0, 70.0, 41.0, 85.0, 69.0, 60.0, 70.0, 55.0, 70.0, 67.0, 79.0, 51.0, 55.0, 57.0, 42.0, 60.0, 58.0, 70.0, 65.0, 75.0, 80.0, 42.0, 60.0, 72.0, 55.0, 63.0, 85.0, 55.0, 70.0, 58.0, 85.0, 86.0, 60.0, 60.0, 60.0, 43.0, 61.0, 53.0, 46.0, 63.0, 81.0, 75.0, 68.0, 50.0, 80.0, 46.0, 61.0, 72.0, 50.0, 52.0, 64.0, 75.0, 60.0, 72.0, 50.0, 65.0, 52.0, 50.0, 85.0, 59.0, 66.0, 45.0, 63.0, 53.0, 70.0, 52.0, 70.0, 50.0, 60.0, 69.0, 49.0, 55.0, 75.0, 58.0, 50.0, 40.0, 64.0, 45.0, 77.0, 65.0, 63.0, 70.0, 60.0, 78.0, 40.0, 85.0, 50.0, 78.0, 65.0, 73.0, 70.0, 54.0, 73.0, 65.0, 42.0, 47.0, 58.0, 55.0, 65.0, 72.0, 60.0, 70.0, 40.0, 53.0, 53.0, 77.0, 75.0, 70.0, 55.0, 40.0, 73.0, 55.0, 64.0, 40.0, 50.0, 50.0, 53.0, 65.0, 53.0, 55.0, 62.0, 50.0, 55.0, 67.0, 42.0, 45.0, 70.0, 70.0, 42.0, 65.0, 50.0, 60.0, 90.0, 60.0, 55.0, 45.0, 50.0], \"xaxis\": \"x\", \"y\": [\"Not having Diabetes\", \"Not having Diabetes\", \"Not having Diabetes\", \"Not having Diabetes\", \"Not having Diabetes\", \"Not having Diabetes\", \"Not having Diabetes\", \"Not having Diabetes\", \"Not having Diabetes\", \"Not having Diabetes\", \"Not having Diabetes\", \"Not having Diabetes\", \"Not having Diabetes\", \"Not having Diabetes\", \"Not having Diabetes\", \"Not having Diabetes\", \"Not having Diabetes\", \"Not having Diabetes\", \"Not having Diabetes\", \"Not having Diabetes\", \"Not having Diabetes\", \"Not having Diabetes\", \"Not having Diabetes\", \"Not having Diabetes\", \"Not having Diabetes\", \"Not having Diabetes\", \"Not having Diabetes\", \"Not having Diabetes\", \"Not having Diabetes\", \"Not having Diabetes\", \"Not having Diabetes\", \"Not having Diabetes\", \"Not having Diabetes\", \"Not having Diabetes\", \"Not having Diabetes\", \"Not having Diabetes\", \"Not having Diabetes\", \"Not having Diabetes\", \"Not having Diabetes\", \"Not having Diabetes\", \"Not having Diabetes\", \"Not having Diabetes\", \"Not having Diabetes\", \"Not having Diabetes\", \"Not having Diabetes\", \"Not having Diabetes\", \"Not having Diabetes\", \"Not having Diabetes\", \"Not having Diabetes\", \"Not having Diabetes\", \"Not having Diabetes\", \"Not having Diabetes\", \"Not having Diabetes\", \"Not having Diabetes\", \"Not having Diabetes\", \"Not having Diabetes\", \"Not having Diabetes\", \"Not having Diabetes\", \"Not having Diabetes\", \"Not having Diabetes\", \"Not having Diabetes\", \"Not having Diabetes\", \"Not having Diabetes\", \"Not having Diabetes\", \"Not having Diabetes\", \"Not having Diabetes\", \"Not having Diabetes\", \"Not having Diabetes\", \"Not having Diabetes\", \"Not having Diabetes\", \"Not having Diabetes\", \"Not having Diabetes\", \"Not having Diabetes\", \"Not having Diabetes\", \"Not having Diabetes\", \"Not having Diabetes\", \"Not having Diabetes\", \"Not having Diabetes\", \"Not having Diabetes\", \"Not having Diabetes\", \"Not having Diabetes\", \"Not having Diabetes\", \"Not having Diabetes\", \"Not having Diabetes\", \"Not having Diabetes\", \"Not having Diabetes\", \"Not having Diabetes\", \"Not having Diabetes\", \"Not having Diabetes\", \"Not having Diabetes\", \"Not having Diabetes\", \"Not having Diabetes\", \"Not having Diabetes\", \"Not having Diabetes\", \"Not having Diabetes\", \"Not having Diabetes\", \"Not having Diabetes\", \"Not having Diabetes\", \"Not having Diabetes\", \"Not having Diabetes\", \"Not having Diabetes\", \"Not having Diabetes\", \"Not having Diabetes\", \"Not having Diabetes\", \"Not having Diabetes\", \"Not having Diabetes\", \"Not having Diabetes\", \"Not having Diabetes\", \"Not having Diabetes\", \"Not having Diabetes\", \"Not having Diabetes\", \"Not having Diabetes\", \"Not having Diabetes\", \"Not having Diabetes\", \"Not having Diabetes\", \"Not having Diabetes\", \"Not having Diabetes\", \"Not having Diabetes\", \"Not having Diabetes\", \"Not having Diabetes\", \"Not having Diabetes\", \"Not having Diabetes\", \"Not having Diabetes\", \"Not having Diabetes\", \"Not having Diabetes\", \"Not having Diabetes\", \"Not having Diabetes\", \"Not having Diabetes\", \"Not having Diabetes\", \"Not having Diabetes\", \"Not having Diabetes\", \"Not having Diabetes\", \"Not having Diabetes\", \"Not having Diabetes\", \"Not having Diabetes\", \"Not having Diabetes\", \"Not having Diabetes\", \"Not having Diabetes\", \"Not having Diabetes\", \"Not having Diabetes\", \"Not having Diabetes\", \"Not having Diabetes\", \"Not having Diabetes\", \"Not having Diabetes\", \"Not having Diabetes\", \"Not having Diabetes\", \"Not having Diabetes\", \"Not having Diabetes\", \"Not having Diabetes\", \"Not having Diabetes\", \"Not having Diabetes\", \"Not having Diabetes\", \"Not having Diabetes\", \"Not having Diabetes\", \"Not having Diabetes\", \"Not having Diabetes\", \"Not having Diabetes\", \"Not having Diabetes\", \"Not having Diabetes\", \"Not having Diabetes\", \"Not having Diabetes\", \"Not having Diabetes\", \"Not having Diabetes\", \"Not having Diabetes\", \"Not having Diabetes\", \"Not having Diabetes\", \"Not having Diabetes\", \"Not having Diabetes\", \"Not having Diabetes\", \"Not having Diabetes\", \"Not having Diabetes\", \"Not having Diabetes\", \"Not having Diabetes\", \"Not having Diabetes\"], \"yaxis\": \"y2\"}],\n",
              "                        {\"barmode\": \"overlay\", \"hovermode\": \"closest\", \"legend\": {\"traceorder\": \"reversed\"}, \"template\": {\"data\": {\"bar\": [{\"error_x\": {\"color\": \"#2a3f5f\"}, \"error_y\": {\"color\": \"#2a3f5f\"}, \"marker\": {\"line\": {\"color\": \"#E5ECF6\", \"width\": 0.5}}, \"type\": \"bar\"}], \"barpolar\": [{\"marker\": {\"line\": {\"color\": \"#E5ECF6\", \"width\": 0.5}}, \"type\": \"barpolar\"}], \"carpet\": [{\"aaxis\": {\"endlinecolor\": \"#2a3f5f\", \"gridcolor\": \"white\", \"linecolor\": \"white\", \"minorgridcolor\": \"white\", \"startlinecolor\": \"#2a3f5f\"}, \"baxis\": {\"endlinecolor\": \"#2a3f5f\", \"gridcolor\": \"white\", \"linecolor\": \"white\", \"minorgridcolor\": \"white\", \"startlinecolor\": \"#2a3f5f\"}, \"type\": \"carpet\"}], \"choropleth\": [{\"colorbar\": {\"outlinewidth\": 0, \"ticks\": \"\"}, \"type\": \"choropleth\"}], \"contour\": [{\"colorbar\": {\"outlinewidth\": 0, \"ticks\": \"\"}, \"colorscale\": [[0.0, \"#0d0887\"], [0.1111111111111111, \"#46039f\"], [0.2222222222222222, \"#7201a8\"], [0.3333333333333333, \"#9c179e\"], [0.4444444444444444, \"#bd3786\"], [0.5555555555555556, \"#d8576b\"], [0.6666666666666666, \"#ed7953\"], [0.7777777777777778, \"#fb9f3a\"], [0.8888888888888888, \"#fdca26\"], [1.0, \"#f0f921\"]], \"type\": \"contour\"}], \"contourcarpet\": [{\"colorbar\": {\"outlinewidth\": 0, \"ticks\": \"\"}, \"type\": \"contourcarpet\"}], \"heatmap\": [{\"colorbar\": {\"outlinewidth\": 0, \"ticks\": \"\"}, \"colorscale\": [[0.0, \"#0d0887\"], [0.1111111111111111, \"#46039f\"], [0.2222222222222222, \"#7201a8\"], [0.3333333333333333, \"#9c179e\"], [0.4444444444444444, \"#bd3786\"], [0.5555555555555556, \"#d8576b\"], [0.6666666666666666, \"#ed7953\"], [0.7777777777777778, \"#fb9f3a\"], [0.8888888888888888, \"#fdca26\"], [1.0, \"#f0f921\"]], \"type\": \"heatmap\"}], \"heatmapgl\": [{\"colorbar\": {\"outlinewidth\": 0, \"ticks\": \"\"}, \"colorscale\": [[0.0, \"#0d0887\"], [0.1111111111111111, \"#46039f\"], [0.2222222222222222, \"#7201a8\"], [0.3333333333333333, \"#9c179e\"], [0.4444444444444444, \"#bd3786\"], [0.5555555555555556, \"#d8576b\"], [0.6666666666666666, \"#ed7953\"], [0.7777777777777778, \"#fb9f3a\"], [0.8888888888888888, \"#fdca26\"], [1.0, \"#f0f921\"]], \"type\": \"heatmapgl\"}], \"histogram\": [{\"marker\": {\"colorbar\": {\"outlinewidth\": 0, \"ticks\": \"\"}}, \"type\": \"histogram\"}], \"histogram2d\": [{\"colorbar\": {\"outlinewidth\": 0, \"ticks\": \"\"}, \"colorscale\": [[0.0, \"#0d0887\"], [0.1111111111111111, \"#46039f\"], [0.2222222222222222, \"#7201a8\"], [0.3333333333333333, \"#9c179e\"], [0.4444444444444444, \"#bd3786\"], [0.5555555555555556, \"#d8576b\"], [0.6666666666666666, \"#ed7953\"], [0.7777777777777778, \"#fb9f3a\"], [0.8888888888888888, \"#fdca26\"], [1.0, \"#f0f921\"]], \"type\": \"histogram2d\"}], \"histogram2dcontour\": [{\"colorbar\": {\"outlinewidth\": 0, \"ticks\": \"\"}, \"colorscale\": [[0.0, \"#0d0887\"], [0.1111111111111111, \"#46039f\"], [0.2222222222222222, \"#7201a8\"], [0.3333333333333333, \"#9c179e\"], [0.4444444444444444, \"#bd3786\"], [0.5555555555555556, \"#d8576b\"], [0.6666666666666666, \"#ed7953\"], [0.7777777777777778, \"#fb9f3a\"], [0.8888888888888888, \"#fdca26\"], [1.0, \"#f0f921\"]], \"type\": \"histogram2dcontour\"}], \"mesh3d\": [{\"colorbar\": {\"outlinewidth\": 0, \"ticks\": \"\"}, \"type\": \"mesh3d\"}], \"parcoords\": [{\"line\": {\"colorbar\": {\"outlinewidth\": 0, \"ticks\": \"\"}}, \"type\": \"parcoords\"}], \"pie\": [{\"automargin\": true, \"type\": \"pie\"}], \"scatter\": [{\"marker\": {\"colorbar\": {\"outlinewidth\": 0, \"ticks\": \"\"}}, \"type\": \"scatter\"}], \"scatter3d\": [{\"line\": {\"colorbar\": {\"outlinewidth\": 0, \"ticks\": \"\"}}, \"marker\": {\"colorbar\": {\"outlinewidth\": 0, \"ticks\": \"\"}}, \"type\": \"scatter3d\"}], \"scattercarpet\": [{\"marker\": {\"colorbar\": {\"outlinewidth\": 0, \"ticks\": \"\"}}, \"type\": \"scattercarpet\"}], \"scattergeo\": [{\"marker\": {\"colorbar\": {\"outlinewidth\": 0, \"ticks\": \"\"}}, \"type\": \"scattergeo\"}], \"scattergl\": [{\"marker\": {\"colorbar\": {\"outlinewidth\": 0, \"ticks\": \"\"}}, \"type\": \"scattergl\"}], \"scattermapbox\": [{\"marker\": {\"colorbar\": {\"outlinewidth\": 0, \"ticks\": \"\"}}, \"type\": \"scattermapbox\"}], \"scatterpolar\": [{\"marker\": {\"colorbar\": {\"outlinewidth\": 0, \"ticks\": \"\"}}, \"type\": \"scatterpolar\"}], \"scatterpolargl\": [{\"marker\": {\"colorbar\": {\"outlinewidth\": 0, \"ticks\": \"\"}}, \"type\": \"scatterpolargl\"}], \"scatterternary\": [{\"marker\": {\"colorbar\": {\"outlinewidth\": 0, \"ticks\": \"\"}}, \"type\": \"scatterternary\"}], \"surface\": [{\"colorbar\": {\"outlinewidth\": 0, \"ticks\": \"\"}, \"colorscale\": [[0.0, \"#0d0887\"], [0.1111111111111111, \"#46039f\"], [0.2222222222222222, \"#7201a8\"], [0.3333333333333333, \"#9c179e\"], [0.4444444444444444, \"#bd3786\"], [0.5555555555555556, \"#d8576b\"], [0.6666666666666666, \"#ed7953\"], [0.7777777777777778, \"#fb9f3a\"], [0.8888888888888888, \"#fdca26\"], [1.0, \"#f0f921\"]], \"type\": \"surface\"}], \"table\": [{\"cells\": {\"fill\": {\"color\": \"#EBF0F8\"}, \"line\": {\"color\": \"white\"}}, \"header\": {\"fill\": {\"color\": \"#C8D4E3\"}, \"line\": {\"color\": \"white\"}}, \"type\": \"table\"}]}, \"layout\": {\"annotationdefaults\": {\"arrowcolor\": \"#2a3f5f\", \"arrowhead\": 0, \"arrowwidth\": 1}, \"coloraxis\": {\"colorbar\": {\"outlinewidth\": 0, \"ticks\": \"\"}}, \"colorscale\": {\"diverging\": [[0, \"#8e0152\"], [0.1, \"#c51b7d\"], [0.2, \"#de77ae\"], [0.3, \"#f1b6da\"], [0.4, \"#fde0ef\"], [0.5, \"#f7f7f7\"], [0.6, \"#e6f5d0\"], [0.7, \"#b8e186\"], [0.8, \"#7fbc41\"], [0.9, \"#4d9221\"], [1, \"#276419\"]], \"sequential\": [[0.0, \"#0d0887\"], [0.1111111111111111, \"#46039f\"], [0.2222222222222222, \"#7201a8\"], [0.3333333333333333, \"#9c179e\"], [0.4444444444444444, \"#bd3786\"], [0.5555555555555556, \"#d8576b\"], [0.6666666666666666, \"#ed7953\"], [0.7777777777777778, \"#fb9f3a\"], [0.8888888888888888, \"#fdca26\"], [1.0, \"#f0f921\"]], \"sequentialminus\": [[0.0, \"#0d0887\"], [0.1111111111111111, \"#46039f\"], [0.2222222222222222, \"#7201a8\"], [0.3333333333333333, \"#9c179e\"], [0.4444444444444444, \"#bd3786\"], [0.5555555555555556, \"#d8576b\"], [0.6666666666666666, \"#ed7953\"], [0.7777777777777778, \"#fb9f3a\"], [0.8888888888888888, \"#fdca26\"], [1.0, \"#f0f921\"]]}, \"colorway\": [\"#636efa\", \"#EF553B\", \"#00cc96\", \"#ab63fa\", \"#FFA15A\", \"#19d3f3\", \"#FF6692\", \"#B6E880\", \"#FF97FF\", \"#FECB52\"], \"font\": {\"color\": \"#2a3f5f\"}, \"geo\": {\"bgcolor\": \"white\", \"lakecolor\": \"white\", \"landcolor\": \"#E5ECF6\", \"showlakes\": true, \"showland\": true, \"subunitcolor\": \"white\"}, \"hoverlabel\": {\"align\": \"left\"}, \"hovermode\": \"closest\", \"mapbox\": {\"style\": \"light\"}, \"paper_bgcolor\": \"white\", \"plot_bgcolor\": \"#E5ECF6\", \"polar\": {\"angularaxis\": {\"gridcolor\": \"white\", \"linecolor\": \"white\", \"ticks\": \"\"}, \"bgcolor\": \"#E5ECF6\", \"radialaxis\": {\"gridcolor\": \"white\", \"linecolor\": \"white\", \"ticks\": \"\"}}, \"scene\": {\"xaxis\": {\"backgroundcolor\": \"#E5ECF6\", \"gridcolor\": \"white\", \"gridwidth\": 2, \"linecolor\": \"white\", \"showbackground\": true, \"ticks\": \"\", \"zerolinecolor\": \"white\"}, \"yaxis\": {\"backgroundcolor\": \"#E5ECF6\", \"gridcolor\": \"white\", \"gridwidth\": 2, \"linecolor\": \"white\", \"showbackground\": true, \"ticks\": \"\", \"zerolinecolor\": \"white\"}, \"zaxis\": {\"backgroundcolor\": \"#E5ECF6\", \"gridcolor\": \"white\", \"gridwidth\": 2, \"linecolor\": \"white\", \"showbackground\": true, \"ticks\": \"\", \"zerolinecolor\": \"white\"}}, \"shapedefaults\": {\"line\": {\"color\": \"#2a3f5f\"}}, \"ternary\": {\"aaxis\": {\"gridcolor\": \"white\", \"linecolor\": \"white\", \"ticks\": \"\"}, \"baxis\": {\"gridcolor\": \"white\", \"linecolor\": \"white\", \"ticks\": \"\"}, \"bgcolor\": \"#E5ECF6\", \"caxis\": {\"gridcolor\": \"white\", \"linecolor\": \"white\", \"ticks\": \"\"}}, \"title\": {\"x\": 0.05}, \"xaxis\": {\"automargin\": true, \"gridcolor\": \"white\", \"linecolor\": \"white\", \"ticks\": \"\", \"title\": {\"standoff\": 15}, \"zerolinecolor\": \"white\", \"zerolinewidth\": 2}, \"yaxis\": {\"automargin\": true, \"gridcolor\": \"white\", \"linecolor\": \"white\", \"ticks\": \"\", \"title\": {\"standoff\": 15}, \"zerolinecolor\": \"white\", \"zerolinewidth\": 2}}}, \"title\": {\"text\": \"Analysis in Age on Diabetes Status\"}, \"xaxis\": {\"anchor\": \"y2\", \"domain\": [0.0, 1.0], \"zeroline\": false}, \"yaxis\": {\"anchor\": \"free\", \"domain\": [0.35, 1], \"position\": 0.0}, \"yaxis2\": {\"anchor\": \"x\", \"domain\": [0, 0.25], \"dtick\": 1, \"showticklabels\": false}},\n",
              "                        {\"responsive\": true}\n",
              "                    ).then(function(){\n",
              "                            \n",
              "var gd = document.getElementById('595df0d8-8d72-4c81-9be1-0d8108119da0');\n",
              "var x = new MutationObserver(function (mutations, observer) {{\n",
              "        var display = window.getComputedStyle(gd).display;\n",
              "        if (!display || display === 'none') {{\n",
              "            console.log([gd, 'removed!']);\n",
              "            Plotly.purge(gd);\n",
              "            observer.disconnect();\n",
              "        }}\n",
              "}});\n",
              "\n",
              "// Listen for the removal of the full notebook cells\n",
              "var notebookContainer = gd.closest('#notebook-container');\n",
              "if (notebookContainer) {{\n",
              "    x.observe(notebookContainer, {childList: true});\n",
              "}}\n",
              "\n",
              "// Listen for the clearing of the current output cell\n",
              "var outputEl = gd.closest('.output');\n",
              "if (outputEl) {{\n",
              "    x.observe(outputEl, {childList: true});\n",
              "}}\n",
              "\n",
              "                        })\n",
              "                };\n",
              "                \n",
              "            </script>\n",
              "        </div>\n",
              "</body>\n",
              "</html>"
            ]
          },
          "metadata": {},
          "output_type": "display_data"
        }
      ]
    },
    {
      "cell_type": "code",
      "metadata": {
        "colab": {
          "base_uri": "https://localhost:8080/",
          "height": 542
        },
        "id": "nEOg40LZmi3N",
        "outputId": "1e33e206-6fbb-4fe0-faee-ef58fd05a696"
      },
      "source": [
        "labels = ['No Diabetes','Diabetes']\n",
        "diabetes_yes = df[df['diabetes']==1]\n",
        "diabetes_no = df[df['diabetes']==0]\n",
        "values = [len(diabetes_no), len(diabetes_yes)]\n",
        "fig = go.Figure(data=[go.Pie(labels=labels, values=values, hole=.4)])\n",
        "fig.update_layout(\n",
        "    title_text=\"Analysis on Diabetes\")\n",
        "fig.show()"
      ],
      "execution_count": null,
      "outputs": [
        {
          "data": {
            "text/html": [
              "<html>\n",
              "<head><meta charset=\"utf-8\" /></head>\n",
              "<body>\n",
              "    <div>\n",
              "            <script src=\"https://cdnjs.cloudflare.com/ajax/libs/mathjax/2.7.5/MathJax.js?config=TeX-AMS-MML_SVG\"></script><script type=\"text/javascript\">if (window.MathJax) {MathJax.Hub.Config({SVG: {font: \"STIX-Web\"}});}</script>\n",
              "                <script type=\"text/javascript\">window.PlotlyConfig = {MathJaxConfig: 'local'};</script>\n",
              "        <script src=\"https://cdn.plot.ly/plotly-latest.min.js\"></script>    \n",
              "            <div id=\"eac530ca-bd6e-4692-be3c-aa7bde34d9f1\" class=\"plotly-graph-div\" style=\"height:525px; width:100%;\"></div>\n",
              "            <script type=\"text/javascript\">\n",
              "                \n",
              "                    window.PLOTLYENV=window.PLOTLYENV || {};\n",
              "                    \n",
              "                if (document.getElementById(\"eac530ca-bd6e-4692-be3c-aa7bde34d9f1\")) {\n",
              "                    Plotly.newPlot(\n",
              "                        'eac530ca-bd6e-4692-be3c-aa7bde34d9f1',\n",
              "                        [{\"hole\": 0.4, \"labels\": [\"No Diabetes\", \"Diabetes\"], \"type\": \"pie\", \"values\": [174, 125]}],\n",
              "                        {\"template\": {\"data\": {\"bar\": [{\"error_x\": {\"color\": \"#2a3f5f\"}, \"error_y\": {\"color\": \"#2a3f5f\"}, \"marker\": {\"line\": {\"color\": \"#E5ECF6\", \"width\": 0.5}}, \"type\": \"bar\"}], \"barpolar\": [{\"marker\": {\"line\": {\"color\": \"#E5ECF6\", \"width\": 0.5}}, \"type\": \"barpolar\"}], \"carpet\": [{\"aaxis\": {\"endlinecolor\": \"#2a3f5f\", \"gridcolor\": \"white\", \"linecolor\": \"white\", \"minorgridcolor\": \"white\", \"startlinecolor\": \"#2a3f5f\"}, \"baxis\": {\"endlinecolor\": \"#2a3f5f\", \"gridcolor\": \"white\", \"linecolor\": \"white\", \"minorgridcolor\": \"white\", \"startlinecolor\": \"#2a3f5f\"}, \"type\": \"carpet\"}], \"choropleth\": [{\"colorbar\": {\"outlinewidth\": 0, \"ticks\": \"\"}, \"type\": \"choropleth\"}], \"contour\": [{\"colorbar\": {\"outlinewidth\": 0, \"ticks\": \"\"}, \"colorscale\": [[0.0, \"#0d0887\"], [0.1111111111111111, \"#46039f\"], [0.2222222222222222, \"#7201a8\"], [0.3333333333333333, \"#9c179e\"], [0.4444444444444444, \"#bd3786\"], [0.5555555555555556, \"#d8576b\"], [0.6666666666666666, \"#ed7953\"], [0.7777777777777778, \"#fb9f3a\"], [0.8888888888888888, \"#fdca26\"], [1.0, \"#f0f921\"]], \"type\": \"contour\"}], \"contourcarpet\": [{\"colorbar\": {\"outlinewidth\": 0, \"ticks\": \"\"}, \"type\": \"contourcarpet\"}], \"heatmap\": [{\"colorbar\": {\"outlinewidth\": 0, \"ticks\": \"\"}, \"colorscale\": [[0.0, \"#0d0887\"], [0.1111111111111111, \"#46039f\"], [0.2222222222222222, \"#7201a8\"], [0.3333333333333333, \"#9c179e\"], [0.4444444444444444, \"#bd3786\"], [0.5555555555555556, \"#d8576b\"], [0.6666666666666666, \"#ed7953\"], [0.7777777777777778, \"#fb9f3a\"], [0.8888888888888888, \"#fdca26\"], [1.0, \"#f0f921\"]], \"type\": \"heatmap\"}], \"heatmapgl\": [{\"colorbar\": {\"outlinewidth\": 0, \"ticks\": \"\"}, \"colorscale\": [[0.0, \"#0d0887\"], [0.1111111111111111, \"#46039f\"], [0.2222222222222222, \"#7201a8\"], [0.3333333333333333, \"#9c179e\"], [0.4444444444444444, \"#bd3786\"], [0.5555555555555556, \"#d8576b\"], [0.6666666666666666, \"#ed7953\"], [0.7777777777777778, \"#fb9f3a\"], [0.8888888888888888, \"#fdca26\"], [1.0, \"#f0f921\"]], \"type\": \"heatmapgl\"}], \"histogram\": [{\"marker\": {\"colorbar\": {\"outlinewidth\": 0, \"ticks\": \"\"}}, \"type\": \"histogram\"}], \"histogram2d\": [{\"colorbar\": {\"outlinewidth\": 0, \"ticks\": \"\"}, \"colorscale\": [[0.0, \"#0d0887\"], [0.1111111111111111, \"#46039f\"], [0.2222222222222222, \"#7201a8\"], [0.3333333333333333, \"#9c179e\"], [0.4444444444444444, \"#bd3786\"], [0.5555555555555556, \"#d8576b\"], [0.6666666666666666, \"#ed7953\"], [0.7777777777777778, \"#fb9f3a\"], [0.8888888888888888, \"#fdca26\"], [1.0, \"#f0f921\"]], \"type\": \"histogram2d\"}], \"histogram2dcontour\": [{\"colorbar\": {\"outlinewidth\": 0, \"ticks\": \"\"}, \"colorscale\": [[0.0, \"#0d0887\"], [0.1111111111111111, \"#46039f\"], [0.2222222222222222, \"#7201a8\"], [0.3333333333333333, \"#9c179e\"], [0.4444444444444444, \"#bd3786\"], [0.5555555555555556, \"#d8576b\"], [0.6666666666666666, \"#ed7953\"], [0.7777777777777778, \"#fb9f3a\"], [0.8888888888888888, \"#fdca26\"], [1.0, \"#f0f921\"]], \"type\": \"histogram2dcontour\"}], \"mesh3d\": [{\"colorbar\": {\"outlinewidth\": 0, \"ticks\": \"\"}, \"type\": \"mesh3d\"}], \"parcoords\": [{\"line\": {\"colorbar\": {\"outlinewidth\": 0, \"ticks\": \"\"}}, \"type\": \"parcoords\"}], \"pie\": [{\"automargin\": true, \"type\": \"pie\"}], \"scatter\": [{\"marker\": {\"colorbar\": {\"outlinewidth\": 0, \"ticks\": \"\"}}, \"type\": \"scatter\"}], \"scatter3d\": [{\"line\": {\"colorbar\": {\"outlinewidth\": 0, \"ticks\": \"\"}}, \"marker\": {\"colorbar\": {\"outlinewidth\": 0, \"ticks\": \"\"}}, \"type\": \"scatter3d\"}], \"scattercarpet\": [{\"marker\": {\"colorbar\": {\"outlinewidth\": 0, \"ticks\": \"\"}}, \"type\": \"scattercarpet\"}], \"scattergeo\": [{\"marker\": {\"colorbar\": {\"outlinewidth\": 0, \"ticks\": \"\"}}, \"type\": \"scattergeo\"}], \"scattergl\": [{\"marker\": {\"colorbar\": {\"outlinewidth\": 0, \"ticks\": \"\"}}, \"type\": \"scattergl\"}], \"scattermapbox\": [{\"marker\": {\"colorbar\": {\"outlinewidth\": 0, \"ticks\": \"\"}}, \"type\": \"scattermapbox\"}], \"scatterpolar\": [{\"marker\": {\"colorbar\": {\"outlinewidth\": 0, \"ticks\": \"\"}}, \"type\": \"scatterpolar\"}], \"scatterpolargl\": [{\"marker\": {\"colorbar\": {\"outlinewidth\": 0, \"ticks\": \"\"}}, \"type\": \"scatterpolargl\"}], \"scatterternary\": [{\"marker\": {\"colorbar\": {\"outlinewidth\": 0, \"ticks\": \"\"}}, \"type\": \"scatterternary\"}], \"surface\": [{\"colorbar\": {\"outlinewidth\": 0, \"ticks\": \"\"}, \"colorscale\": [[0.0, \"#0d0887\"], [0.1111111111111111, \"#46039f\"], [0.2222222222222222, \"#7201a8\"], [0.3333333333333333, \"#9c179e\"], [0.4444444444444444, \"#bd3786\"], [0.5555555555555556, \"#d8576b\"], [0.6666666666666666, \"#ed7953\"], [0.7777777777777778, \"#fb9f3a\"], [0.8888888888888888, \"#fdca26\"], [1.0, \"#f0f921\"]], \"type\": \"surface\"}], \"table\": [{\"cells\": {\"fill\": {\"color\": \"#EBF0F8\"}, \"line\": {\"color\": \"white\"}}, \"header\": {\"fill\": {\"color\": \"#C8D4E3\"}, \"line\": {\"color\": \"white\"}}, \"type\": \"table\"}]}, \"layout\": {\"annotationdefaults\": {\"arrowcolor\": \"#2a3f5f\", \"arrowhead\": 0, \"arrowwidth\": 1}, \"coloraxis\": {\"colorbar\": {\"outlinewidth\": 0, \"ticks\": \"\"}}, \"colorscale\": {\"diverging\": [[0, \"#8e0152\"], [0.1, \"#c51b7d\"], [0.2, \"#de77ae\"], [0.3, \"#f1b6da\"], [0.4, \"#fde0ef\"], [0.5, \"#f7f7f7\"], [0.6, \"#e6f5d0\"], [0.7, \"#b8e186\"], [0.8, \"#7fbc41\"], [0.9, \"#4d9221\"], [1, \"#276419\"]], \"sequential\": [[0.0, \"#0d0887\"], [0.1111111111111111, \"#46039f\"], [0.2222222222222222, \"#7201a8\"], [0.3333333333333333, \"#9c179e\"], [0.4444444444444444, \"#bd3786\"], [0.5555555555555556, \"#d8576b\"], [0.6666666666666666, \"#ed7953\"], [0.7777777777777778, \"#fb9f3a\"], [0.8888888888888888, \"#fdca26\"], [1.0, \"#f0f921\"]], \"sequentialminus\": [[0.0, \"#0d0887\"], [0.1111111111111111, \"#46039f\"], [0.2222222222222222, \"#7201a8\"], [0.3333333333333333, \"#9c179e\"], [0.4444444444444444, \"#bd3786\"], [0.5555555555555556, \"#d8576b\"], [0.6666666666666666, \"#ed7953\"], [0.7777777777777778, \"#fb9f3a\"], [0.8888888888888888, \"#fdca26\"], [1.0, \"#f0f921\"]]}, \"colorway\": [\"#636efa\", \"#EF553B\", \"#00cc96\", \"#ab63fa\", \"#FFA15A\", \"#19d3f3\", \"#FF6692\", \"#B6E880\", \"#FF97FF\", \"#FECB52\"], \"font\": {\"color\": \"#2a3f5f\"}, \"geo\": {\"bgcolor\": \"white\", \"lakecolor\": \"white\", \"landcolor\": \"#E5ECF6\", \"showlakes\": true, \"showland\": true, \"subunitcolor\": \"white\"}, \"hoverlabel\": {\"align\": \"left\"}, \"hovermode\": \"closest\", \"mapbox\": {\"style\": \"light\"}, \"paper_bgcolor\": \"white\", \"plot_bgcolor\": \"#E5ECF6\", \"polar\": {\"angularaxis\": {\"gridcolor\": \"white\", \"linecolor\": \"white\", \"ticks\": \"\"}, \"bgcolor\": \"#E5ECF6\", \"radialaxis\": {\"gridcolor\": \"white\", \"linecolor\": \"white\", \"ticks\": \"\"}}, \"scene\": {\"xaxis\": {\"backgroundcolor\": \"#E5ECF6\", \"gridcolor\": \"white\", \"gridwidth\": 2, \"linecolor\": \"white\", \"showbackground\": true, \"ticks\": \"\", \"zerolinecolor\": \"white\"}, \"yaxis\": {\"backgroundcolor\": \"#E5ECF6\", \"gridcolor\": \"white\", \"gridwidth\": 2, \"linecolor\": \"white\", \"showbackground\": true, \"ticks\": \"\", \"zerolinecolor\": \"white\"}, \"zaxis\": {\"backgroundcolor\": \"#E5ECF6\", \"gridcolor\": \"white\", \"gridwidth\": 2, \"linecolor\": \"white\", \"showbackground\": true, \"ticks\": \"\", \"zerolinecolor\": \"white\"}}, \"shapedefaults\": {\"line\": {\"color\": \"#2a3f5f\"}}, \"ternary\": {\"aaxis\": {\"gridcolor\": \"white\", \"linecolor\": \"white\", \"ticks\": \"\"}, \"baxis\": {\"gridcolor\": \"white\", \"linecolor\": \"white\", \"ticks\": \"\"}, \"bgcolor\": \"#E5ECF6\", \"caxis\": {\"gridcolor\": \"white\", \"linecolor\": \"white\", \"ticks\": \"\"}}, \"title\": {\"x\": 0.05}, \"xaxis\": {\"automargin\": true, \"gridcolor\": \"white\", \"linecolor\": \"white\", \"ticks\": \"\", \"title\": {\"standoff\": 15}, \"zerolinecolor\": \"white\", \"zerolinewidth\": 2}, \"yaxis\": {\"automargin\": true, \"gridcolor\": \"white\", \"linecolor\": \"white\", \"ticks\": \"\", \"title\": {\"standoff\": 15}, \"zerolinecolor\": \"white\", \"zerolinewidth\": 2}}}, \"title\": {\"text\": \"Analysis on Diabetes\"}},\n",
              "                        {\"responsive\": true}\n",
              "                    ).then(function(){\n",
              "                            \n",
              "var gd = document.getElementById('eac530ca-bd6e-4692-be3c-aa7bde34d9f1');\n",
              "var x = new MutationObserver(function (mutations, observer) {{\n",
              "        var display = window.getComputedStyle(gd).display;\n",
              "        if (!display || display === 'none') {{\n",
              "            console.log([gd, 'removed!']);\n",
              "            Plotly.purge(gd);\n",
              "            observer.disconnect();\n",
              "        }}\n",
              "}});\n",
              "\n",
              "// Listen for the removal of the full notebook cells\n",
              "var notebookContainer = gd.closest('#notebook-container');\n",
              "if (notebookContainer) {{\n",
              "    x.observe(notebookContainer, {childList: true});\n",
              "}}\n",
              "\n",
              "// Listen for the clearing of the current output cell\n",
              "var outputEl = gd.closest('.output');\n",
              "if (outputEl) {{\n",
              "    x.observe(outputEl, {childList: true});\n",
              "}}\n",
              "\n",
              "                        })\n",
              "                };\n",
              "                \n",
              "            </script>\n",
              "        </div>\n",
              "</body>\n",
              "</html>"
            ]
          },
          "metadata": {},
          "output_type": "display_data"
        }
      ]
    },
    {
      "cell_type": "markdown",
      "metadata": {
        "id": "jpC4uYtHmqBy"
      },
      "source": [
        "58.2% people don't have diabetes\n",
        "\n",
        "41.8% people have diabetes"
      ]
    },
    {
      "cell_type": "code",
      "metadata": {
        "colab": {
          "background_save": true,
          "base_uri": "https://localhost:8080/",
          "height": 212
        },
        "id": "AHSQc-Jiq8fj",
        "outputId": "c5155f46-3a01-43e7-92c1-c31f1ecbc578"
      },
      "source": [
        "fig = px.box(heart_data, x='sex', y='age', points='all')\n",
        "fig.update_layout(\n",
        "title_text='Gender wise Age spread - Male = 1, Female = 0')\n",
        "fig.show()"
      ],
      "execution_count": null,
      "outputs": [
        {
          "data": {
            "text/html": [
              "<html>\n",
              "<head><meta charset=\"utf-8\" /></head>\n",
              "<body>\n",
              "    <div>\n",
              "            <script src=\"https://cdnjs.cloudflare.com/ajax/libs/mathjax/2.7.5/MathJax.js?config=TeX-AMS-MML_SVG\"></script><script type=\"text/javascript\">if (window.MathJax) {MathJax.Hub.Config({SVG: {font: \"STIX-Web\"}});}</script>\n",
              "                <script type=\"text/javascript\">window.PlotlyConfig = {MathJaxConfig: 'local'};</script>\n",
              "        <script src=\"https://cdn.plot.ly/plotly-latest.min.js\"></script>    \n",
              "            <div id=\"2de57a0c-c492-4a03-9534-26018860500d\" class=\"plotly-graph-div\" style=\"height:525px; width:100%;\"></div>\n",
              "            <script type=\"text/javascript\">\n",
              "                \n",
              "                    window.PLOTLYENV=window.PLOTLYENV || {};\n",
              "                    \n",
              "                if (document.getElementById(\"2de57a0c-c492-4a03-9534-26018860500d\")) {\n",
              "                    Plotly.newPlot(\n",
              "                        '2de57a0c-c492-4a03-9534-26018860500d',\n",
              "                        [{\"alignmentgroup\": \"True\", \"boxpoints\": \"all\", \"hoverlabel\": {\"namelength\": 0}, \"hovertemplate\": \"sex=%{x}<br>age=%{y}\", \"legendgroup\": \"\", \"marker\": {\"color\": \"#636efa\"}, \"name\": \"\", \"notched\": false, \"offsetgroup\": \"\", \"orientation\": \"v\", \"showlegend\": false, \"type\": \"box\", \"x\": [1, 1, 1, 1, 0, 1, 1, 1, 0, 1, 1, 1, 1, 1, 0, 1, 1, 1, 0, 0, 0, 0, 1, 1, 0, 1, 0, 1, 1, 1, 1, 1, 0, 0, 1, 1, 1, 0, 1, 0, 1, 0, 1, 1, 0, 1, 1, 1, 1, 0, 1, 0, 0, 0, 0, 1, 1, 1, 1, 1, 1, 0, 1, 1, 0, 1, 0, 1, 0, 1, 1, 1, 1, 1, 1, 1, 0, 1, 1, 0, 0, 1, 0, 1, 0, 1, 1, 1, 1, 1, 1, 1, 0, 1, 0, 1, 1, 0, 0, 0, 1, 1, 1, 1, 0, 0, 1, 1, 1, 1, 1, 1, 1, 0, 1, 0, 0, 0, 0, 0, 1, 0, 0, 0, 1, 0, 0, 0, 1, 1, 1, 1, 0, 1, 1, 1, 0, 1, 0, 1, 1, 0, 0, 0, 1, 1, 1, 1, 1, 1, 0, 1, 1, 1, 0, 1, 0, 1, 1, 1, 1, 1, 1, 0, 1, 0, 1, 1, 0, 0, 1, 1, 1, 1, 1, 1, 1, 0, 1, 1, 1, 1, 1, 1, 1, 1, 0, 0, 0, 0, 1, 0, 1, 1, 1, 1, 0, 0, 0, 1, 1, 1, 1, 1, 1, 0, 0, 1, 0, 0, 1, 1, 1, 0, 1, 1, 0, 0, 1, 0, 1, 1, 1, 1, 1, 0, 1, 1, 0, 0, 0, 1, 1, 1, 1, 1, 1, 1, 0, 1, 0, 1, 1, 0, 1, 1, 1, 1, 1, 0, 0, 0, 1, 0, 1, 1, 0, 1, 1, 1, 1, 0, 1, 0, 1, 1, 1, 1, 0, 1, 1, 0, 0, 1, 1, 0, 0, 1, 0, 0, 1, 1, 1, 1, 1, 1, 1, 0, 0, 0, 0, 1, 1, 1, 1, 0, 0, 1, 1], \"x0\": \" \", \"xaxis\": \"x\", \"y\": [75.0, 55.0, 65.0, 50.0, 65.0, 90.0, 75.0, 60.0, 65.0, 80.0, 75.0, 62.0, 45.0, 50.0, 49.0, 82.0, 87.0, 45.0, 70.0, 48.0, 65.0, 65.0, 68.0, 53.0, 75.0, 80.0, 95.0, 70.0, 58.0, 82.0, 94.0, 85.0, 50.0, 50.0, 65.0, 69.0, 90.0, 82.0, 60.0, 60.0, 70.0, 50.0, 70.0, 72.0, 60.0, 50.0, 51.0, 60.0, 80.0, 57.0, 68.0, 53.0, 60.0, 70.0, 60.0, 95.0, 70.0, 60.0, 49.0, 72.0, 45.0, 50.0, 55.0, 45.0, 45.0, 60.0, 42.0, 72.0, 70.0, 65.0, 41.0, 58.0, 85.0, 65.0, 69.0, 60.0, 70.0, 42.0, 75.0, 55.0, 70.0, 67.0, 60.0, 79.0, 59.0, 51.0, 55.0, 65.0, 44.0, 57.0, 70.0, 60.0, 42.0, 60.0, 58.0, 58.0, 63.0, 70.0, 60.0, 63.0, 65.0, 75.0, 80.0, 42.0, 60.0, 72.0, 55.0, 45.0, 63.0, 45.0, 85.0, 55.0, 50.0, 70.0, 60.0, 58.0, 60.0, 85.0, 65.0, 86.0, 60.0, 66.0, 60.0, 60.0, 60.0, 43.0, 46.0, 58.0, 61.0, 53.0, 53.0, 60.0, 46.0, 63.0, 81.0, 75.0, 65.0, 68.0, 62.0, 50.0, 80.0, 46.0, 50.0, 61.0, 72.0, 50.0, 52.0, 64.0, 75.0, 60.0, 72.0, 62.0, 50.0, 50.0, 65.0, 60.0, 52.0, 50.0, 85.0, 59.0, 66.0, 45.0, 63.0, 50.0, 45.0, 80.0, 53.0, 59.0, 65.0, 70.0, 51.0, 52.0, 70.0, 50.0, 65.0, 60.0, 69.0, 49.0, 63.0, 55.0, 40.0, 59.0, 65.0, 75.0, 58.0, 60.667, 50.0, 60.0, 60.667, 40.0, 80.0, 64.0, 50.0, 73.0, 45.0, 77.0, 45.0, 65.0, 50.0, 60.0, 63.0, 45.0, 70.0, 60.0, 78.0, 50.0, 40.0, 85.0, 60.0, 49.0, 70.0, 50.0, 78.0, 48.0, 65.0, 73.0, 70.0, 54.0, 68.0, 55.0, 73.0, 65.0, 42.0, 47.0, 58.0, 75.0, 58.0, 55.0, 65.0, 72.0, 60.0, 70.0, 40.0, 53.0, 53.0, 77.0, 75.0, 70.0, 65.0, 55.0, 70.0, 65.0, 40.0, 73.0, 54.0, 61.0, 55.0, 64.0, 40.0, 53.0, 50.0, 55.0, 50.0, 70.0, 53.0, 52.0, 65.0, 58.0, 45.0, 53.0, 55.0, 62.0, 65.0, 68.0, 61.0, 50.0, 55.0, 56.0, 45.0, 40.0, 44.0, 51.0, 67.0, 42.0, 60.0, 45.0, 70.0, 70.0, 50.0, 55.0, 70.0, 70.0, 42.0, 65.0, 50.0, 55.0, 60.0, 45.0, 65.0, 90.0, 45.0, 60.0, 52.0, 63.0, 62.0, 55.0, 45.0, 45.0, 50.0], \"y0\": \" \", \"yaxis\": \"y\"}],\n",
              "                        {\"boxmode\": \"group\", \"legend\": {\"tracegroupgap\": 0}, \"margin\": {\"t\": 60}, \"template\": {\"data\": {\"bar\": [{\"error_x\": {\"color\": \"#2a3f5f\"}, \"error_y\": {\"color\": \"#2a3f5f\"}, \"marker\": {\"line\": {\"color\": \"#E5ECF6\", \"width\": 0.5}}, \"type\": \"bar\"}], \"barpolar\": [{\"marker\": {\"line\": {\"color\": \"#E5ECF6\", \"width\": 0.5}}, \"type\": \"barpolar\"}], \"carpet\": [{\"aaxis\": {\"endlinecolor\": \"#2a3f5f\", \"gridcolor\": \"white\", \"linecolor\": \"white\", \"minorgridcolor\": \"white\", \"startlinecolor\": \"#2a3f5f\"}, \"baxis\": {\"endlinecolor\": \"#2a3f5f\", \"gridcolor\": \"white\", \"linecolor\": \"white\", \"minorgridcolor\": \"white\", \"startlinecolor\": \"#2a3f5f\"}, \"type\": \"carpet\"}], \"choropleth\": [{\"colorbar\": {\"outlinewidth\": 0, \"ticks\": \"\"}, \"type\": \"choropleth\"}], \"contour\": [{\"colorbar\": {\"outlinewidth\": 0, \"ticks\": \"\"}, \"colorscale\": [[0.0, \"#0d0887\"], [0.1111111111111111, \"#46039f\"], [0.2222222222222222, \"#7201a8\"], [0.3333333333333333, \"#9c179e\"], [0.4444444444444444, \"#bd3786\"], [0.5555555555555556, \"#d8576b\"], [0.6666666666666666, \"#ed7953\"], [0.7777777777777778, \"#fb9f3a\"], [0.8888888888888888, \"#fdca26\"], [1.0, \"#f0f921\"]], \"type\": \"contour\"}], \"contourcarpet\": [{\"colorbar\": {\"outlinewidth\": 0, \"ticks\": \"\"}, \"type\": \"contourcarpet\"}], \"heatmap\": [{\"colorbar\": {\"outlinewidth\": 0, \"ticks\": \"\"}, \"colorscale\": [[0.0, \"#0d0887\"], [0.1111111111111111, \"#46039f\"], [0.2222222222222222, \"#7201a8\"], [0.3333333333333333, \"#9c179e\"], [0.4444444444444444, \"#bd3786\"], [0.5555555555555556, \"#d8576b\"], [0.6666666666666666, \"#ed7953\"], [0.7777777777777778, \"#fb9f3a\"], [0.8888888888888888, \"#fdca26\"], [1.0, \"#f0f921\"]], \"type\": \"heatmap\"}], \"heatmapgl\": [{\"colorbar\": {\"outlinewidth\": 0, \"ticks\": \"\"}, \"colorscale\": [[0.0, \"#0d0887\"], [0.1111111111111111, \"#46039f\"], [0.2222222222222222, \"#7201a8\"], [0.3333333333333333, \"#9c179e\"], [0.4444444444444444, \"#bd3786\"], [0.5555555555555556, \"#d8576b\"], [0.6666666666666666, \"#ed7953\"], [0.7777777777777778, \"#fb9f3a\"], [0.8888888888888888, \"#fdca26\"], [1.0, \"#f0f921\"]], \"type\": \"heatmapgl\"}], \"histogram\": [{\"marker\": {\"colorbar\": {\"outlinewidth\": 0, \"ticks\": \"\"}}, \"type\": \"histogram\"}], \"histogram2d\": [{\"colorbar\": {\"outlinewidth\": 0, \"ticks\": \"\"}, \"colorscale\": [[0.0, \"#0d0887\"], [0.1111111111111111, \"#46039f\"], [0.2222222222222222, \"#7201a8\"], [0.3333333333333333, \"#9c179e\"], [0.4444444444444444, \"#bd3786\"], [0.5555555555555556, \"#d8576b\"], [0.6666666666666666, \"#ed7953\"], [0.7777777777777778, \"#fb9f3a\"], [0.8888888888888888, \"#fdca26\"], [1.0, \"#f0f921\"]], \"type\": \"histogram2d\"}], \"histogram2dcontour\": [{\"colorbar\": {\"outlinewidth\": 0, \"ticks\": \"\"}, \"colorscale\": [[0.0, \"#0d0887\"], [0.1111111111111111, \"#46039f\"], [0.2222222222222222, \"#7201a8\"], [0.3333333333333333, \"#9c179e\"], [0.4444444444444444, \"#bd3786\"], [0.5555555555555556, \"#d8576b\"], [0.6666666666666666, \"#ed7953\"], [0.7777777777777778, \"#fb9f3a\"], [0.8888888888888888, \"#fdca26\"], [1.0, \"#f0f921\"]], \"type\": \"histogram2dcontour\"}], \"mesh3d\": [{\"colorbar\": {\"outlinewidth\": 0, \"ticks\": \"\"}, \"type\": \"mesh3d\"}], \"parcoords\": [{\"line\": {\"colorbar\": {\"outlinewidth\": 0, \"ticks\": \"\"}}, \"type\": \"parcoords\"}], \"pie\": [{\"automargin\": true, \"type\": \"pie\"}], \"scatter\": [{\"marker\": {\"colorbar\": {\"outlinewidth\": 0, \"ticks\": \"\"}}, \"type\": \"scatter\"}], \"scatter3d\": [{\"line\": {\"colorbar\": {\"outlinewidth\": 0, \"ticks\": \"\"}}, \"marker\": {\"colorbar\": {\"outlinewidth\": 0, \"ticks\": \"\"}}, \"type\": \"scatter3d\"}], \"scattercarpet\": [{\"marker\": {\"colorbar\": {\"outlinewidth\": 0, \"ticks\": \"\"}}, \"type\": \"scattercarpet\"}], \"scattergeo\": [{\"marker\": {\"colorbar\": {\"outlinewidth\": 0, \"ticks\": \"\"}}, \"type\": \"scattergeo\"}], \"scattergl\": [{\"marker\": {\"colorbar\": {\"outlinewidth\": 0, \"ticks\": \"\"}}, \"type\": \"scattergl\"}], \"scattermapbox\": [{\"marker\": {\"colorbar\": {\"outlinewidth\": 0, \"ticks\": \"\"}}, \"type\": \"scattermapbox\"}], \"scatterpolar\": [{\"marker\": {\"colorbar\": {\"outlinewidth\": 0, \"ticks\": \"\"}}, \"type\": \"scatterpolar\"}], \"scatterpolargl\": [{\"marker\": {\"colorbar\": {\"outlinewidth\": 0, \"ticks\": \"\"}}, \"type\": \"scatterpolargl\"}], \"scatterternary\": [{\"marker\": {\"colorbar\": {\"outlinewidth\": 0, \"ticks\": \"\"}}, \"type\": \"scatterternary\"}], \"surface\": [{\"colorbar\": {\"outlinewidth\": 0, \"ticks\": \"\"}, \"colorscale\": [[0.0, \"#0d0887\"], [0.1111111111111111, \"#46039f\"], [0.2222222222222222, \"#7201a8\"], [0.3333333333333333, \"#9c179e\"], [0.4444444444444444, \"#bd3786\"], [0.5555555555555556, \"#d8576b\"], [0.6666666666666666, \"#ed7953\"], [0.7777777777777778, \"#fb9f3a\"], [0.8888888888888888, \"#fdca26\"], [1.0, \"#f0f921\"]], \"type\": \"surface\"}], \"table\": [{\"cells\": {\"fill\": {\"color\": \"#EBF0F8\"}, \"line\": {\"color\": \"white\"}}, \"header\": {\"fill\": {\"color\": \"#C8D4E3\"}, \"line\": {\"color\": \"white\"}}, \"type\": \"table\"}]}, \"layout\": {\"annotationdefaults\": {\"arrowcolor\": \"#2a3f5f\", \"arrowhead\": 0, \"arrowwidth\": 1}, \"coloraxis\": {\"colorbar\": {\"outlinewidth\": 0, \"ticks\": \"\"}}, \"colorscale\": {\"diverging\": [[0, \"#8e0152\"], [0.1, \"#c51b7d\"], [0.2, \"#de77ae\"], [0.3, \"#f1b6da\"], [0.4, \"#fde0ef\"], [0.5, \"#f7f7f7\"], [0.6, \"#e6f5d0\"], [0.7, \"#b8e186\"], [0.8, \"#7fbc41\"], [0.9, \"#4d9221\"], [1, \"#276419\"]], \"sequential\": [[0.0, \"#0d0887\"], [0.1111111111111111, \"#46039f\"], [0.2222222222222222, \"#7201a8\"], [0.3333333333333333, \"#9c179e\"], [0.4444444444444444, \"#bd3786\"], [0.5555555555555556, \"#d8576b\"], [0.6666666666666666, \"#ed7953\"], [0.7777777777777778, \"#fb9f3a\"], [0.8888888888888888, \"#fdca26\"], [1.0, \"#f0f921\"]], \"sequentialminus\": [[0.0, \"#0d0887\"], [0.1111111111111111, \"#46039f\"], [0.2222222222222222, \"#7201a8\"], [0.3333333333333333, \"#9c179e\"], [0.4444444444444444, \"#bd3786\"], [0.5555555555555556, \"#d8576b\"], [0.6666666666666666, \"#ed7953\"], [0.7777777777777778, \"#fb9f3a\"], [0.8888888888888888, \"#fdca26\"], [1.0, \"#f0f921\"]]}, \"colorway\": [\"#636efa\", \"#EF553B\", \"#00cc96\", \"#ab63fa\", \"#FFA15A\", \"#19d3f3\", \"#FF6692\", \"#B6E880\", \"#FF97FF\", \"#FECB52\"], \"font\": {\"color\": \"#2a3f5f\"}, \"geo\": {\"bgcolor\": \"white\", \"lakecolor\": \"white\", \"landcolor\": \"#E5ECF6\", \"showlakes\": true, \"showland\": true, \"subunitcolor\": \"white\"}, \"hoverlabel\": {\"align\": \"left\"}, \"hovermode\": \"closest\", \"mapbox\": {\"style\": \"light\"}, \"paper_bgcolor\": \"white\", \"plot_bgcolor\": \"#E5ECF6\", \"polar\": {\"angularaxis\": {\"gridcolor\": \"white\", \"linecolor\": \"white\", \"ticks\": \"\"}, \"bgcolor\": \"#E5ECF6\", \"radialaxis\": {\"gridcolor\": \"white\", \"linecolor\": \"white\", \"ticks\": \"\"}}, \"scene\": {\"xaxis\": {\"backgroundcolor\": \"#E5ECF6\", \"gridcolor\": \"white\", \"gridwidth\": 2, \"linecolor\": \"white\", \"showbackground\": true, \"ticks\": \"\", \"zerolinecolor\": \"white\"}, \"yaxis\": {\"backgroundcolor\": \"#E5ECF6\", \"gridcolor\": \"white\", \"gridwidth\": 2, \"linecolor\": \"white\", \"showbackground\": true, \"ticks\": \"\", \"zerolinecolor\": \"white\"}, \"zaxis\": {\"backgroundcolor\": \"#E5ECF6\", \"gridcolor\": \"white\", \"gridwidth\": 2, \"linecolor\": \"white\", \"showbackground\": true, \"ticks\": \"\", \"zerolinecolor\": \"white\"}}, \"shapedefaults\": {\"line\": {\"color\": \"#2a3f5f\"}}, \"ternary\": {\"aaxis\": {\"gridcolor\": \"white\", \"linecolor\": \"white\", \"ticks\": \"\"}, \"baxis\": {\"gridcolor\": \"white\", \"linecolor\": \"white\", \"ticks\": \"\"}, \"bgcolor\": \"#E5ECF6\", \"caxis\": {\"gridcolor\": \"white\", \"linecolor\": \"white\", \"ticks\": \"\"}}, \"title\": {\"x\": 0.05}, \"xaxis\": {\"automargin\": true, \"gridcolor\": \"white\", \"linecolor\": \"white\", \"ticks\": \"\", \"title\": {\"standoff\": 15}, \"zerolinecolor\": \"white\", \"zerolinewidth\": 2}, \"yaxis\": {\"automargin\": true, \"gridcolor\": \"white\", \"linecolor\": \"white\", \"ticks\": \"\", \"title\": {\"standoff\": 15}, \"zerolinecolor\": \"white\", \"zerolinewidth\": 2}}}, \"title\": {\"text\": \"Gender wise Age spread - Male = 1, Female = 0\"}, \"xaxis\": {\"anchor\": \"y\", \"domain\": [0.0, 1.0], \"title\": {\"text\": \"sex\"}}, \"yaxis\": {\"anchor\": \"x\", \"domain\": [0.0, 1.0], \"title\": {\"text\": \"age\"}}},\n",
              "                        {\"responsive\": true}\n",
              "                    ).then(function(){\n",
              "                            \n",
              "var gd = document.getElementById('2de57a0c-c492-4a03-9534-26018860500d');\n",
              "var x = new MutationObserver(function (mutations, observer) {{\n",
              "        var display = window.getComputedStyle(gd).display;\n",
              "        if (!display || display === 'none') {{\n",
              "            console.log([gd, 'removed!']);\n",
              "            Plotly.purge(gd);\n",
              "            observer.disconnect();\n",
              "        }}\n",
              "}});\n",
              "\n",
              "// Listen for the removal of the full notebook cells\n",
              "var notebookContainer = gd.closest('#notebook-container');\n",
              "if (notebookContainer) {{\n",
              "    x.observe(notebookContainer, {childList: true});\n",
              "}}\n",
              "\n",
              "// Listen for the clearing of the current output cell\n",
              "var outputEl = gd.closest('.output');\n",
              "if (outputEl) {{\n",
              "    x.observe(outputEl, {childList: true});\n",
              "}}\n",
              "\n",
              "                        })\n",
              "                };\n",
              "                \n",
              "            </script>\n",
              "        </div>\n",
              "</body>\n",
              "</html>"
            ]
          },
          "metadata": {},
          "output_type": "display_data"
        }
      ]
    },
    {
      "cell_type": "code",
      "metadata": {
        "colab": {
          "base_uri": "https://localhost:8080/",
          "height": 542
        },
        "id": "Cqedf99AYI59",
        "outputId": "09b8694e-1a67-40e6-c6a3-7b3732c14592"
      },
      "source": [
        "surv = df[df[\"DEATH_EVENT\"]==0][\"age\"]\n",
        "not_surv = df[df[\"DEATH_EVENT\"]==1][\"age\"]\n",
        "hist_data = [surv,not_surv]\n",
        "group_labels = ['Survived', 'Not Survived']\n",
        "fig = ff.create_distplot(hist_data, group_labels, bin_size=0.5)\n",
        "fig.update_layout(title_text=\"Analysis in Age on Survival Status\")\n",
        "fig.show()"
      ],
      "execution_count": 4,
      "outputs": [
        {
          "output_type": "display_data",
          "data": {
            "text/html": [
              "<html>\n",
              "<head><meta charset=\"utf-8\" /></head>\n",
              "<body>\n",
              "    <div>\n",
              "            <script src=\"https://cdnjs.cloudflare.com/ajax/libs/mathjax/2.7.5/MathJax.js?config=TeX-AMS-MML_SVG\"></script><script type=\"text/javascript\">if (window.MathJax) {MathJax.Hub.Config({SVG: {font: \"STIX-Web\"}});}</script>\n",
              "                <script type=\"text/javascript\">window.PlotlyConfig = {MathJaxConfig: 'local'};</script>\n",
              "        <script src=\"https://cdn.plot.ly/plotly-latest.min.js\"></script>    \n",
              "            <div id=\"97d4cd34-424e-44b6-bc48-34106d3dc358\" class=\"plotly-graph-div\" style=\"height:525px; width:100%;\"></div>\n",
              "            <script type=\"text/javascript\">\n",
              "                \n",
              "                    window.PLOTLYENV=window.PLOTLYENV || {};\n",
              "                    \n",
              "                if (document.getElementById(\"97d4cd34-424e-44b6-bc48-34106d3dc358\")) {\n",
              "                    Plotly.newPlot(\n",
              "                        '97d4cd34-424e-44b6-bc48-34106d3dc358',\n",
              "                        [{\"autobinx\": false, \"histnorm\": \"probability density\", \"legendgroup\": \"Survived\", \"marker\": {\"color\": \"rgb(31, 119, 180)\"}, \"name\": \"Survived\", \"opacity\": 0.7, \"type\": \"histogram\", \"x\": [49.0, 65.0, 53.0, 50.0, 60.0, 72.0, 70.0, 60.0, 55.0, 45.0, 41.0, 58.0, 65.0, 70.0, 42.0, 75.0, 55.0, 70.0, 67.0, 79.0, 51.0, 55.0, 65.0, 44.0, 57.0, 70.0, 60.0, 42.0, 58.0, 58.0, 63.0, 70.0, 60.0, 63.0, 65.0, 75.0, 80.0, 42.0, 60.0, 55.0, 45.0, 63.0, 45.0, 55.0, 50.0, 60.0, 58.0, 60.0, 85.0, 65.0, 60.0, 66.0, 60.0, 60.0, 43.0, 58.0, 61.0, 53.0, 53.0, 60.0, 46.0, 63.0, 81.0, 75.0, 65.0, 68.0, 62.0, 50.0, 46.0, 50.0, 61.0, 50.0, 52.0, 64.0, 60.0, 62.0, 50.0, 50.0, 65.0, 60.0, 52.0, 50.0, 85.0, 59.0, 66.0, 45.0, 63.0, 53.0, 65.0, 70.0, 51.0, 52.0, 70.0, 50.0, 65.0, 60.0, 69.0, 49.0, 63.0, 55.0, 40.0, 60.667, 40.0, 80.0, 64.0, 50.0, 73.0, 45.0, 65.0, 50.0, 60.0, 63.0, 45.0, 70.0, 60.0, 78.0, 50.0, 40.0, 85.0, 60.0, 49.0, 70.0, 50.0, 78.0, 65.0, 73.0, 70.0, 68.0, 55.0, 65.0, 42.0, 47.0, 58.0, 75.0, 58.0, 55.0, 65.0, 72.0, 70.0, 40.0, 53.0, 53.0, 77.0, 75.0, 70.0, 65.0, 55.0, 70.0, 65.0, 40.0, 73.0, 54.0, 61.0, 64.0, 40.0, 53.0, 50.0, 55.0, 50.0, 70.0, 53.0, 52.0, 65.0, 58.0, 45.0, 53.0, 55.0, 62.0, 68.0, 61.0, 50.0, 56.0, 45.0, 40.0, 44.0, 51.0, 67.0, 42.0, 60.0, 45.0, 70.0, 70.0, 50.0, 55.0, 70.0, 70.0, 42.0, 65.0, 50.0, 55.0, 60.0, 45.0, 65.0, 90.0, 45.0, 60.0, 52.0, 63.0, 62.0, 55.0, 45.0, 45.0, 50.0], \"xaxis\": \"x\", \"xbins\": {\"end\": 90.0, \"size\": 0.5, \"start\": 40.0}, \"yaxis\": \"y\"}, {\"autobinx\": false, \"histnorm\": \"probability density\", \"legendgroup\": \"Not Survived\", \"marker\": {\"color\": \"rgb(255, 127, 14)\"}, \"name\": \"Not Survived\", \"opacity\": 0.7, \"type\": \"histogram\", \"x\": [75.0, 55.0, 65.0, 50.0, 65.0, 90.0, 75.0, 60.0, 65.0, 80.0, 75.0, 62.0, 45.0, 50.0, 82.0, 87.0, 45.0, 70.0, 48.0, 65.0, 68.0, 75.0, 80.0, 95.0, 70.0, 58.0, 82.0, 94.0, 85.0, 50.0, 65.0, 69.0, 90.0, 82.0, 60.0, 70.0, 50.0, 70.0, 60.0, 50.0, 51.0, 60.0, 80.0, 57.0, 68.0, 53.0, 60.0, 70.0, 60.0, 95.0, 49.0, 72.0, 45.0, 50.0, 45.0, 60.0, 42.0, 72.0, 70.0, 65.0, 85.0, 69.0, 60.0, 60.0, 59.0, 60.0, 72.0, 85.0, 70.0, 86.0, 60.0, 46.0, 80.0, 72.0, 75.0, 72.0, 50.0, 45.0, 80.0, 59.0, 59.0, 65.0, 75.0, 58.0, 60.667, 50.0, 60.0, 45.0, 77.0, 48.0, 54.0, 73.0, 60.0, 55.0, 65.0, 55.0], \"xaxis\": \"x\", \"xbins\": {\"end\": 95.0, \"size\": 0.5, \"start\": 42.0}, \"yaxis\": \"y\"}, {\"legendgroup\": \"Survived\", \"marker\": {\"color\": \"rgb(31, 119, 180)\"}, \"mode\": \"lines\", \"name\": \"Survived\", \"showlegend\": false, \"type\": \"scatter\", \"x\": [40.0, 40.1, 40.2, 40.3, 40.4, 40.5, 40.6, 40.7, 40.8, 40.9, 41.0, 41.1, 41.2, 41.3, 41.4, 41.5, 41.6, 41.7, 41.8, 41.9, 42.0, 42.1, 42.2, 42.3, 42.4, 42.5, 42.6, 42.7, 42.8, 42.9, 43.0, 43.1, 43.2, 43.3, 43.4, 43.5, 43.6, 43.7, 43.8, 43.9, 44.0, 44.1, 44.2, 44.3, 44.4, 44.5, 44.6, 44.7, 44.8, 44.9, 45.0, 45.1, 45.2, 45.3, 45.4, 45.5, 45.6, 45.7, 45.8, 45.9, 46.0, 46.1, 46.2, 46.3, 46.4, 46.5, 46.6, 46.7, 46.8, 46.9, 47.0, 47.1, 47.2, 47.3, 47.4, 47.5, 47.6, 47.7, 47.8, 47.9, 48.0, 48.1, 48.2, 48.3, 48.4, 48.5, 48.6, 48.7, 48.8, 48.9, 49.0, 49.1, 49.2, 49.3, 49.4, 49.5, 49.6, 49.7, 49.8, 49.9, 50.0, 50.1, 50.2, 50.3, 50.4, 50.5, 50.6, 50.7, 50.8, 50.9, 51.0, 51.1, 51.2, 51.3, 51.4, 51.5, 51.6, 51.7, 51.8, 51.9, 52.0, 52.1, 52.2, 52.3, 52.4, 52.5, 52.6, 52.7, 52.8, 52.9, 53.0, 53.1, 53.2, 53.3, 53.4, 53.5, 53.6, 53.7, 53.8, 53.9, 54.0, 54.1, 54.2, 54.3, 54.4, 54.5, 54.6, 54.7, 54.8, 54.9, 55.0, 55.1, 55.2, 55.3, 55.4, 55.5, 55.6, 55.7, 55.8, 55.9, 56.0, 56.1, 56.2, 56.3, 56.4, 56.5, 56.6, 56.7, 56.8, 56.9, 57.0, 57.1, 57.2, 57.3, 57.4, 57.5, 57.6, 57.7, 57.8, 57.9, 58.0, 58.1, 58.2, 58.3, 58.4, 58.5, 58.6, 58.7, 58.8, 58.9, 59.0, 59.1, 59.2, 59.3, 59.4, 59.5, 59.6, 59.7, 59.8, 59.9, 60.0, 60.1, 60.2, 60.3, 60.4, 60.5, 60.6, 60.7, 60.8, 60.9, 61.0, 61.1, 61.2, 61.3, 61.4, 61.5, 61.6, 61.7, 61.8, 61.9, 62.0, 62.1, 62.2, 62.3, 62.4, 62.5, 62.6, 62.7, 62.8, 62.9, 63.0, 63.1, 63.2, 63.3, 63.4, 63.5, 63.6, 63.7, 63.8, 63.9, 64.0, 64.1, 64.2, 64.3, 64.4, 64.5, 64.6, 64.7, 64.8, 64.9, 65.0, 65.1, 65.2, 65.3, 65.4, 65.5, 65.6, 65.7, 65.8, 65.9, 66.0, 66.1, 66.2, 66.3, 66.4, 66.5, 66.6, 66.7, 66.8, 66.9, 67.0, 67.1, 67.2, 67.3, 67.4, 67.5, 67.6, 67.7, 67.8, 67.9, 68.0, 68.1, 68.2, 68.3, 68.4, 68.5, 68.6, 68.7, 68.8, 68.9, 69.0, 69.1, 69.2, 69.3, 69.4, 69.5, 69.6, 69.7, 69.8, 69.9, 70.0, 70.1, 70.2, 70.3, 70.4, 70.5, 70.6, 70.7, 70.8, 70.9, 71.0, 71.1, 71.2, 71.3, 71.4, 71.5, 71.6, 71.7, 71.8, 71.9, 72.0, 72.1, 72.2, 72.3, 72.4, 72.5, 72.6, 72.7, 72.8, 72.9, 73.0, 73.1, 73.2, 73.3, 73.4, 73.5, 73.6, 73.7, 73.8, 73.9, 74.0, 74.1, 74.2, 74.3, 74.4, 74.5, 74.6, 74.7, 74.8, 74.9, 75.0, 75.1, 75.2, 75.3, 75.4, 75.5, 75.6, 75.7, 75.8, 75.9, 76.0, 76.1, 76.2, 76.3, 76.4, 76.5, 76.6, 76.7, 76.8, 76.9, 77.0, 77.1, 77.2, 77.3, 77.4, 77.5, 77.6, 77.7, 77.8, 77.9, 78.0, 78.1, 78.2, 78.3, 78.4, 78.5, 78.6, 78.7, 78.8, 78.9, 79.0, 79.1, 79.2, 79.3, 79.4, 79.5, 79.6, 79.7, 79.8, 79.9, 80.0, 80.1, 80.2, 80.3, 80.4, 80.5, 80.6, 80.7, 80.8, 80.9, 81.0, 81.1, 81.2, 81.3, 81.4, 81.5, 81.6, 81.7, 81.8, 81.9, 82.0, 82.1, 82.2, 82.3, 82.4, 82.5, 82.6, 82.7, 82.8, 82.9, 83.0, 83.1, 83.2, 83.3, 83.4, 83.5, 83.6, 83.7, 83.8, 83.9, 84.0, 84.1, 84.2, 84.3, 84.4, 84.5, 84.6, 84.7, 84.8, 84.9, 85.0, 85.1, 85.2, 85.3, 85.4, 85.5, 85.6, 85.7, 85.8, 85.9, 86.0, 86.1, 86.2, 86.3, 86.4, 86.5, 86.6, 86.7, 86.8, 86.9, 87.0, 87.1, 87.2, 87.3, 87.4, 87.5, 87.6, 87.7, 87.8, 87.9, 88.0, 88.1, 88.2, 88.3, 88.4, 88.5, 88.6, 88.7, 88.8, 88.9, 89.0, 89.1, 89.2, 89.3, 89.4, 89.5, 89.6, 89.7, 89.8, 89.9], \"xaxis\": \"x\", \"y\": [0.01149768878538961, 0.011714889659373414, 0.011931433112966447, 0.012147201864667343, 0.012362082171629468, 0.012575964130437062, 0.012788741968592384, 0.013000314325686145, 0.013210584523233962, 0.01341946082217658, 0.013626856667055893, 0.01383269091589827, 0.014036888054856584, 0.01423937839668492, 0.014440098262147105, 0.014638990143487246, 0.014836002849123625, 0.015031091628761796, 0.015224218278161526, 0.015415351222835086, 0.015604465580000108, 0.01579154319816214, 0.015976572673755626, 0.016159549344333456, 0.01634047525785785, 0.0165193591177164, 0.016696216203159805, 0.016871068264938303, 0.017043943395997307, 0.017214875877182182, 0.01738390599799627, 0.01755107985255488, 0.017716449110980984, 0.017880070766596215, 0.018042006859371088, 0.018202324176213966, 0.018361093928794283, 0.018518391409717165, 0.01867429562798558, 0.018828888924811084, 0.01898225657095501, 0.01913448634690486, 0.01928566810731168, 0.019435893331231496, 0.019585254659830808, 0.019733845423325277, 0.019881759159028078, 0.020029089122483513, 0.02017592779375376, 0.02032236638101193, 0.020468494323668856, 0.020614398797328022, 0.02076016422291562, 0.020905871782377582, 0.02105159894336371, 0.021197418995338297, 0.021343400599558127, 0.021489607355349043, 0.021636097385086126, 0.021782922940241752, 0.021930130030809736, 0.022077758080343332, 0.0222258396087563, 0.022374399944936823, 0.022523456971105388, 0.022673020900718058, 0.022823094091570625, 0.022973670895601882, 0.023124737546722673, 0.02327627208781592, 0.023428244337859856, 0.023580615899925106, 0.023733340210585253, 0.02388636263106462, 0.024039620580222847, 0.02419304370925154, 0.024346554117726578, 0.024500066610431404, 0.024653488994136007, 0.024806722413289052, 0.024959661723356383, 0.025112195900320586, 0.025264208484644293, 0.025415578057795287, 0.025566178749238395, 0.02571588077161455, 0.025864550981656333, 0.02601205346423251, 0.02615825013676945, 0.02630300137116952, 0.02644616663023559, 0.026587605115515178, 0.026727176423401038, 0.026864741206265766, 0.027000161835366934, 0.02713330306223862, 0.027264032675279166, 0.027392222148262597, 0.02751774727753333, 0.02764048880469552, 0.02776033302167726, 0.027877172355137533, 0.027990905927283708, 0.028101440090288216, 0.028208688931623663, 0.028312574747784217, 0.028413028484018554, 0.02850999013787196, 0.028603409124516702, 0.028693244602039578, 0.028779465755055723, 0.02886205203522331, 0.028940993357445623, 0.02901629025076136, 0.02908795396314648, 0.02915600651966861, 0.029220480733659564, 0.02928142017079119, 0.029338879066161238, 0.029392922194712654, 0.029443624695523616, 0.0294910718507147, 0.02953535881992405, 0.02957659033149771, 0.02961488033173298, 0.029650351593695102, 0.02968313528730087, 0.029713370512526684, 0.02974120379775518, 0.029766788565416303, 0.02979028456721471, 0.029811857291356603, 0.029831677344301873, 0.02984991980966512, 0.02986676358697835, 0.029882390713104175, 0.029896985669149664, 0.0299107346757844, 0.029923824979904437, 0.02993644413560947, 0.02994877928247494, 0.029961016424103978, 0.029973339709930807, 0.029985930723226344, 0.029998967778222, 0.03001262522922014, 0.030027072794502188, 0.03004247489777498, 0.030058990029816365, 0.030076770132887523, 0.030095960010378855, 0.03011669676404381, 0.030139109261050335, 0.0301633176329532, 0.03018943280854404, 0.030217556082392346, 0.030247778720731797, 0.03028018160618266, 0.030314834922632913, 0.030351797881422806, 0.030391118489798485, 0.03043283336241407, 0.030476967576474404, 0.030523534570918345, 0.030572536089850354, 0.030623962170235344, 0.030677791173677575, 0.03073398986191137, 0.030792513515444223, 0.03085330609460338, 0.030916300442054054, 0.030981418525682394, 0.031048571720561007, 0.031117661128553204, 0.031188577933952712, 0.03126120379341001, 0.03133541125825567, 0.03141106422720474, 0.03148801842730879, 0.031566121920916616, 0.03164521563631189, 0.03172513391961785, 0.03180570510548843, 0.031886752104057475, 0.03196809300157256, 0.03204954167211968, 0.03213090839782975, 0.032212000494961195, 0.03229262294327163, 0.03237257901611488, 0.03245167090874829, 0.032529700362385824, 0.03260646928160094, 0.032681780342760015, 0.032755437591256514, 0.03282724702541363, 0.03289701716503007, 0.0329645596026578, 0.03302968953582457, 0.03309222627853706, 0.03315199375053825, 0.033208820942924724, 0.033262542358869614, 0.033312998428339076, 0.03336003589582818, 0.03340350818028635, 0.03344327570653984, 0.033479206207656334, 0.03351117499783213, 0.03353906521551203, 0.033562768036577484, 0.0335821828575599, 0.03359721744895227, 0.03360778807879781, 0.033613819606839006, 0.03361524554960696, 0.03361200811691635, 0.03360405822031385, 0.033591355454105284, 0.03357386804964867, 0.03355157280366571, 0.033524454981376045, 0.0334925081953068, 0.0334557342606729, 0.03341414302825823, 0.03336775219576242, 0.03331658709860216, 0.0332606804811816, 0.033200072249665785, 0.033134809207307665, 0.03306494477339498, 0.032990538686896866, 0.0329116566959002, 0.03282837023393991, 0.03274075608433496, 0.03264889603365507, 0.03255287651545301, 0.032452788245408516, 0.03234872584904385, 0.03224078748318095, 0.03212907445232685, 0.03201369082118563, 0.031894743024512305, 0.03177233947553695, 0.03164659017420358, 0.03151760631648379, 0.031385499906036604, 0.031250383369501124, 0.03111236917671907, 0.030971569467190128, 0.03082809568407297, 0.03068205821704396, 0.030533566055322557, 0.03038272645216975, 0.030229644602148404, 0.03007442333242034, 0.02991716280932752, 0.02975796026147394, 0.02959690972048717, 0.029434101780587574, 0.029269623378043137, 0.02910355759151994, 0.02893598346427072, 0.02876697584901963, 0.028596605276315922, 0.02842493784703157, 0.02825203514957208, 0.028077954202259666, 0.0279027474212272, 0.02772646261403641, 0.027549142999103726, 0.027370827250878724, 0.027191549570582958, 0.027011339782172173, 0.026830223453040175, 0.026648222038837516, 0.02646535305163183, 0.02628163025049279, 0.026097063853443542, 0.025911660769582467, 0.02572542485004623, 0.025538357156360963, 0.025350456244606138, 0.025161718463709935, 0.0249721382660904, 0.024781708528770634, 0.02459042088301437, 0.024398266050466792, 0.024205234183729277, 0.024011315209260108, 0.023816499170469, 0.023620776568861374, 0.023424138701097358, 0.023226577989846633, 0.023028088306358493, 0.022828665282716157, 0.022628306611807748, 0.022427012333127605, 0.022224785102612356, 0.022021630444822624, 0.021817556985898764, 0.021612576665847885, 0.02140670492885861, 0.02119996089048874, 0.020992367480726016, 0.02078395156208715, 0.02057474402208664, 0.020364779839580918, 0.020154098124667875, 0.019942742131998526, 0.01973075924753335, 0.019518200948952347, 0.01930512274009886, 0.019091584060005055, 0.01887764816721052, 0.018663382000241268, 0.018448856015263894, 0.01823414400207057, 0.018019322879678723, 0.017804472472949272, 0.017589675271735123, 0.01737501617416557, 0.017160582215757655, 0.016946462286112664, 0.01673274683501426, 0.016519527569787053, 0.016306897145802815, 0.016094948852038576, 0.015883776293591133, 0.015673473073042846, 0.015464132472548398, 0.015255847138476499, 0.015048708770391536, 0.014842807816101077, 0.014638233174424326, 0.01443507190725786, 0.014233408962424412, 0.014033326908695519, 0.01383490568427297, 0.013638222359905076, 0.013443350917697482, 0.013250362046558982, 0.01305932295509928, 0.012870297202671167, 0.012683344549121602, 0.012498520823690988, 0.012315877813371222, 0.012135463170910143, 0.011957320342525583, 0.01178148851527275, 0.011608002583893084, 0.011436893136859997, 0.011268186461231176, 0.01110190456581567, 0.010938065222068635, 0.010776682022039328, 0.010617764452614635, 0.010461317985228535, 0.010307344180138647, 0.01015584080431335, 0.010006801961921292, 0.009860218236370778, 0.009716076842811746, 0.009574361789984501, 0.009435054050278857, 0.009298131736855023, 0.009163570286671956, 0.009031342648270707, 0.008901419473168618, 0.008773769309735741, 0.008648358798446004, 0.008525152867423193, 0.008404114927234776, 0.008285207063924214, 0.008168390229315892, 0.008053624427673526, 0.007940868897844112, 0.007830082290074517, 0.007721222836744965, 0.007614248516324604, 0.007509117209916692, 0.007405786849825718, 0.007304215559644111, 0.0072043617854240785, 0.0071061844175659035, 0.007009642903123677, 0.006914697348295219, 0.006821308610930774, 0.006729438382960678, 0.0066390492627068, 0.006550104817106009, 0.006462569633934709, 0.006376409364182787, 0.0062915907547812224, 0.006208081671942102, 0.0061258511154197726, 0.006044869224049598, 0.005965107272964743, 0.0058865376629318455, 0.005809133902282667, 0.005732870581951977, 0.005657723344159749, 0.0055836688453007105, 0.005510684713624069, 0.005438749502302019, 0.0053678426384973004, 0.0052979443690470765, 0.0052290357033832075, 0.005161098354307669, 0.005094114677236156, 0.005028067608513309, 0.0049629406033891346, 0.004898717574228964, 0.004835382829508014, 0.004772921014116975, 0.004711317051477596, 0.00465055608793579, 0.00459062343986717, 0.004531504543893205, 0.0044731849105682986, 0.004415650081858401, 0.004358885592689682, 0.004302876936803901, 0.004247609537112557, 0.004193068720698698, 0.0041392396985705255, 0.004086107550226813, 0.004033657213050897, 0.003981873476506853, 0.00393074098107019, 0.003880244221785049, 0.0038303675563016847, 0.00378109521721185, 0.003732411328465589, 0.003684299925621519, 0.0036367449796544525, 0.0035897304240182014, 0.003543240184639305, 0.003497258212498034, 0.003451768518437334, 0.003406755209828091, 0.003362202528710353, 0.00331809489102479, 0.003274416926547055, 0.0032311535191392616, 0.003188289846938179, 0.003145811422107855, 0.003103704129795984, 0.0030619542659480327, 0.003020548573649942, 0.0029794742776907517, 0.002938719117057988, 0.0028982713751033984, 0.002858119907142734, 0.0028182541652804244, 0.0027786642202796397, 0.0027393407803274488, 0.002700275206575763, 0.002661459525369286, 0.0026228864371028748, 0.00258454932168141, 0.002546442240585274, 0.002508559935574176, 0.0024708978240902645, 0.002433451991448523, 0.002396219179928081, 0.0023591967749017353, 0.002322382788162774, 0.0022857758386284044, 0.002249375130615963, 0.0022131804299040454, 0.0021771920378029588, 0.002141410763469539, 0.0021058378947091737, 0.002070475167513006, 0.0020353247345813678, 0.002000389133084595, 0.001965671251910529, 0.0019311742986435965, 0.001896901766513773, 0.0018628574015453823, 0.0018290451701248186, 0.0017954692271945284, 0.001762133885266369, 0.0017290435844325145, 0.001696202863535731, 0.0016636163326433332, 0.0016312886469513157, 0.0015992244822262698, 0.0015674285118737637, 0.00153590538570285, 0.0015046597104370106, 0.001473696032003375, 0.0014430188196133916, 0.0014126324516304674, 0.0013825412032031808, 0.0013527492356264722, 0.0013232605873784026, 0.0012940791667661697, 0.0012652087461025151], \"yaxis\": \"y\"}, {\"legendgroup\": \"Not Survived\", \"marker\": {\"color\": \"rgb(255, 127, 14)\"}, \"mode\": \"lines\", \"name\": \"Not Survived\", \"showlegend\": false, \"type\": \"scatter\", \"x\": [42.0, 42.106, 42.212, 42.318, 42.424, 42.53, 42.636, 42.742, 42.848, 42.954, 43.06, 43.166, 43.272, 43.378, 43.484, 43.59, 43.696, 43.802, 43.908, 44.014, 44.12, 44.226, 44.332, 44.438, 44.544, 44.65, 44.756, 44.862, 44.968, 45.074, 45.18, 45.286, 45.392, 45.498, 45.604, 45.71, 45.816, 45.922, 46.028, 46.134, 46.24, 46.346000000000004, 46.452, 46.558, 46.664, 46.769999999999996, 46.876, 46.982, 47.088, 47.194, 47.3, 47.406, 47.512, 47.618, 47.724000000000004, 47.83, 47.936, 48.042, 48.147999999999996, 48.254, 48.36, 48.466, 48.572, 48.678, 48.784, 48.89, 48.996, 49.102000000000004, 49.208, 49.314, 49.42, 49.525999999999996, 49.632, 49.738, 49.844, 49.95, 50.056, 50.162, 50.268, 50.374, 50.480000000000004, 50.586, 50.692, 50.798, 50.903999999999996, 51.01, 51.116, 51.222, 51.328, 51.434, 51.54, 51.646, 51.752, 51.858000000000004, 51.964, 52.07, 52.176, 52.282, 52.388, 52.494, 52.6, 52.706, 52.812, 52.918, 53.024, 53.13, 53.236000000000004, 53.342, 53.448, 53.554, 53.66, 53.766, 53.872, 53.978, 54.084, 54.19, 54.296, 54.402, 54.507999999999996, 54.614000000000004, 54.72, 54.826, 54.932, 55.038, 55.144, 55.25, 55.356, 55.462, 55.568, 55.674, 55.78, 55.885999999999996, 55.992000000000004, 56.098, 56.204, 56.31, 56.416, 56.522, 56.628, 56.734, 56.84, 56.946, 57.052, 57.158, 57.263999999999996, 57.37, 57.476, 57.582, 57.688, 57.794, 57.9, 58.006, 58.111999999999995, 58.218, 58.324, 58.43, 58.536, 58.641999999999996, 58.748000000000005, 58.854, 58.96, 59.066, 59.172, 59.278, 59.384, 59.489999999999995, 59.596000000000004, 59.702, 59.808, 59.914, 60.019999999999996, 60.126000000000005, 60.232, 60.338, 60.444, 60.55, 60.656, 60.762, 60.867999999999995, 60.974000000000004, 61.08, 61.186, 61.292, 61.397999999999996, 61.504000000000005, 61.61, 61.716, 61.822, 61.928, 62.034, 62.14, 62.245999999999995, 62.352000000000004, 62.458, 62.564, 62.67, 62.775999999999996, 62.882000000000005, 62.988, 63.094, 63.2, 63.306, 63.412, 63.518, 63.623999999999995, 63.730000000000004, 63.836, 63.942, 64.048, 64.154, 64.26, 64.366, 64.47200000000001, 64.578, 64.684, 64.78999999999999, 64.896, 65.002, 65.108, 65.214, 65.32, 65.426, 65.532, 65.638, 65.744, 65.85, 65.956, 66.062, 66.168, 66.274, 66.38, 66.486, 66.592, 66.69800000000001, 66.804, 66.91, 67.01599999999999, 67.122, 67.22800000000001, 67.334, 67.44, 67.54599999999999, 67.652, 67.758, 67.864, 67.97, 68.076, 68.182, 68.288, 68.394, 68.5, 68.606, 68.712, 68.818, 68.924, 69.03, 69.136, 69.242, 69.348, 69.45400000000001, 69.56, 69.666, 69.77199999999999, 69.878, 69.98400000000001, 70.09, 70.196, 70.30199999999999, 70.408, 70.514, 70.62, 70.726, 70.832, 70.938, 71.044, 71.15, 71.256, 71.362, 71.468, 71.574, 71.68, 71.786, 71.892, 71.998, 72.104, 72.21000000000001, 72.316, 72.422, 72.52799999999999, 72.634, 72.74, 72.846, 72.952, 73.05799999999999, 73.164, 73.27, 73.376, 73.482, 73.588, 73.694, 73.8, 73.906, 74.012, 74.118, 74.22399999999999, 74.33, 74.436, 74.542, 74.648, 74.75399999999999, 74.86, 74.96600000000001, 75.072, 75.178, 75.28399999999999, 75.39, 75.49600000000001, 75.602, 75.708, 75.814, 75.92, 76.02600000000001, 76.132, 76.238, 76.344, 76.45, 76.556, 76.662, 76.768, 76.874, 76.97999999999999, 77.086, 77.19200000000001, 77.298, 77.404, 77.50999999999999, 77.616, 77.72200000000001, 77.828, 77.934, 78.03999999999999, 78.146, 78.25200000000001, 78.358, 78.464, 78.57, 78.676, 78.782, 78.888, 78.994, 79.1, 79.206, 79.312, 79.418, 79.524, 79.63, 79.73599999999999, 79.842, 79.94800000000001, 80.054, 80.16, 80.26599999999999, 80.372, 80.47800000000001, 80.584, 80.69, 80.79599999999999, 80.902, 81.00800000000001, 81.114, 81.22, 81.326, 81.432, 81.538, 81.644, 81.75, 81.856, 81.962, 82.068, 82.174, 82.28, 82.386, 82.49199999999999, 82.598, 82.70400000000001, 82.81, 82.916, 83.02199999999999, 83.128, 83.23400000000001, 83.34, 83.446, 83.55199999999999, 83.658, 83.76400000000001, 83.87, 83.976, 84.082, 84.188, 84.294, 84.4, 84.506, 84.612, 84.718, 84.824, 84.93, 85.036, 85.142, 85.24799999999999, 85.354, 85.46000000000001, 85.566, 85.672, 85.77799999999999, 85.884, 85.99000000000001, 86.096, 86.202, 86.30799999999999, 86.414, 86.52000000000001, 86.626, 86.732, 86.838, 86.944, 87.05, 87.156, 87.262, 87.368, 87.47399999999999, 87.58, 87.686, 87.792, 87.898, 88.00399999999999, 88.11, 88.21600000000001, 88.322, 88.428, 88.53399999999999, 88.64, 88.74600000000001, 88.852, 88.958, 89.064, 89.17, 89.27600000000001, 89.382, 89.488, 89.594, 89.7, 89.806, 89.912, 90.018, 90.124, 90.22999999999999, 90.336, 90.44200000000001, 90.548, 90.654, 90.75999999999999, 90.866, 90.97200000000001, 91.078, 91.184, 91.28999999999999, 91.396, 91.50200000000001, 91.608, 91.714, 91.82, 91.926, 92.032, 92.138, 92.244, 92.35, 92.456, 92.562, 92.668, 92.774, 92.88, 92.98599999999999, 93.092, 93.19800000000001, 93.304, 93.41, 93.51599999999999, 93.622, 93.72800000000001, 93.834, 93.94, 94.04599999999999, 94.152, 94.25800000000001, 94.364, 94.47, 94.576, 94.682, 94.788, 94.894], \"xaxis\": \"x\", \"y\": [0.009076922386865093, 0.00924290401603041, 0.009409416358590567, 0.009576392250822626, 0.009743763858907505, 0.009911462765774055, 0.0100794200601547, 0.010247566427720891, 0.0104158322441601, 0.010584147670049027, 0.0107524427473717, 0.010920647497524923, 0.011088692020647014, 0.011256506596100327, 0.011424021783932401, 0.011591168527135202, 0.01175787825451635, 0.011924082983992383, 0.012089715426108486, 0.012254709087585577, 0.012418998374691514, 0.0125825186962298, 0.012745206565935394, 0.012906999704065199, 0.013067837137968073, 0.013227659301416584, 0.013386408132482281, 0.013544027169734048, 0.013700461646539085, 0.013855658583245245, 0.01400956687702454, 0.014162137389157257, 0.014313323029538534, 0.014463078838190077, 0.01461136206356283, 0.014758132237418358, 0.014903351246081107, 0.01504698339785696, 0.015188995486418418, 0.015329356849961624, 0.015468039425946392, 0.015605017801236944, 0.01574026925746674, 0.015873773811460355, 0.016005514250551287, 0.016135476162644526, 0.01626364796088197, 0.016390020902777577, 0.01651458910370102, 0.016637349544597925, 0.01675830207384803, 0.016877449403172855, 0.016994797097518412, 0.017110353558850905, 0.01722413000381683, 0.017336140435233027, 0.01744640160738666, 0.01755493298513968, 0.017661756696847525, 0.017766897481117722, 0.017870382627448736, 0.017972241910806874, 0.018072507520214033, 0.01817121398143625, 0.018268398073879245, 0.01836409874181377, 0.018458357000070456, 0.01855121583436029, 0.018642720096393436, 0.018732916393985503, 0.018821852976357193, 0.01890957961484823, 0.018996147479283566, 0.01908160901024411, 0.01916601778750982, 0.019249428394957656, 0.019331896282210555, 0.01941347762334731, 0.01949422917299578, 0.01957420812014457, 0.01965347194001893, 0.01973207824437783, 0.01981008463059841, 0.0198875485299234, 0.01996452705525426, 0.020041076848880093, 0.02011725393053825, 0.020193113546206672, 0.020268710018032408, 0.020344096595802125, 0.02041932531036282, 0.020494446829399642, 0.020569510315977365, 0.020644563290249045, 0.02071965149473148, 0.020794818763542087, 0.02087010689598536, 0.020945555534868435, 0.021021202049917916, 0.02109708142665733, 0.02117322616109498, 0.02124966616055721, 0.021326428650989306, 0.021403538091029437, 0.021481016093145178, 0.021558881352103813, 0.02163714958102916, 0.021715833455276896, 0.021794942564339788, 0.021874483371972488, 0.021954459184701607, 0.022034870128864507, 0.022115713136294332, 0.02219698193874509, 0.02227866707112341, 0.02236075588356882, 0.022443232562396352, 0.022526078159889606, 0.022609270632903983, 0.022692784890213456, 0.022776592848505875, 0.022860663496905454, 0.02294496296987282, 0.023029454628306738, 0.023114099148645057, 0.023198854619735268, 0.023283676647221002, 0.023368518465164093, 0.023453331054599104, 0.023538063268692608, 0.02362266196415777, 0.023707072138552925, 0.023791237073072718, 0.02387509848042087, 0.023958596657336125, 0.024041670641325952, 0.024124258371147518, 0.02420629685056237, 0.024287722314877466, 0.024368470399777076, 0.024448476311938423, 0.024527675000919277, 0.024606001331798, 0.02468339025804409, 0.024759776994095185, 0.02483509718711518, 0.0249092870874113, 0.024982283716989837, 0.025054025035736435, 0.02512445010471322, 0.02519349924607404, 0.025261114199109085, 0.02532723827194329, 0.025391816488425208, 0.02545479572975993, 0.025516124870455775, 0.02557575490817294, 0.02563363908708288, 0.0256897330143677, 0.025743994769511898, 0.025796385006062374, 0.025846867045557793, 0.025895406963354052, 0.025941973666099582, 0.025986538960642038, 0.026029077614176187, 0.026069567405472494, 0.026107989167054122, 0.026144326818222173, 0.026178567388857293, 0.02621070103395769, 0.02624072103890355, 0.026268623815468607, 0.0262944088886301, 0.02631807887425833, 0.02633963944779729, 0.026359099304076344, 0.02637647010842292, 0.026391766439272695, 0.026405005722502733, 0.026416208157737976, 0.026425396636907728, 0.026432596655353253, 0.026437836215809984, 0.026441145725610685, 0.026442557887476553, 0.026442107584281577, 0.02643983175819484, 0.02643576928462058, 0.02642996084137149, 0.026422448773523313, 0.02641327695441136, 0.02640249064323823, 0.026390136339771855, 0.026376261636618124, 0.02636091506955804, 0.026344145966442616, 0.02632600429513931, 0.026306540511024396, 0.026285805404513213, 0.026263849949116444, 0.026240725150505656, 0.02621648189706411, 0.026191170812390273, 0.026164842110211358, 0.02613754545215297, 0.026109329808797554, 0.026080243324449904, 0.026050333186012912, 0.026019645496358712, 0.02598822515256333, 0.025956115729353017, 0.02592335936809049, 0.025889996671607896, 0.025856066605171504, 0.025821606403840028, 0.025786651486455685, 0.02575123537648143, 0.025715389629875355, 0.025679143770166345, 0.02564252523087107, 0.02560555930536568, 0.0255682691043014, 0.025530675520625733, 0.025492797202246863, 0.025454650532352373, 0.025416249617368332, 0.025377606282519966, 0.025338730074930437, 0.025299628274169768, 0.02526030591014327, 0.025220765788184406, 0.02518100852119664, 0.025141032568665674, 0.025100834282343602, 0.025060407958386627, 0.02501974589570961, 0.02497883846030161, 0.0249376741552314, 0.024896239696055273, 0.024854520091325005, 0.02481249872788108, 0.02477015746060331, 0.024727476706280487, 0.02468443554125123, 0.024641011802459305, 0.024597182191559482, 0.02455292238170512, 0.024508207126642624, 0.024463010371735767, 0.024417305366540572, 0.024371064778550423, 0.024324260807732073, 0.02427686530147442, 0.024228849869575894, 0.024180185998898932, 0.024130845167327244, 0.02408079895666638, 0.024030019164136794, 0.023978477912116665, 0.023926147755801888, 0.02387300178846012, 0.023819013743969292, 0.023764158096341376, 0.023708410155946442, 0.02365174616216612, 0.023594143372219614, 0.023535580145921876, 0.023476036026147666, 0.02341549181479414, 0.023353929644049008, 0.023291333042790813, 0.02322768699796397, 0.023162978010790255, 0.023097194147696152, 0.0230303250858537, 0.0229623621532517, 0.022893298363231347, 0.022823128443440394, 0.022751848859177033, 0.022679457831113588, 0.02260595534740809, 0.022531343170229576, 0.02245562483674017, 0.022378805654594852, 0.022300892692035338, 0.022221894762672154, 0.02214182240506361, 0.02206068785721606, 0.021978505026144384, 0.02189528945264557, 0.021811058271451335, 0.02172583016693881, 0.021639625324589365, 0.02155246537839777, 0.021464373354443067, 0.021375373610842734, 0.021285491774320063, 0.021194754673622685, 0.02110319027003659, 0.021010827585246594, 0.02091769662679889, 0.020823828311426065, 0.020729254386497795, 0.020634007349863093, 0.020538120368352026, 0.02044162719520472, 0.02034456208669584, 0.020246959718221567, 0.020148855100114393, 0.020050283493447948, 0.019951280326090882, 0.01985188110926472, 0.019752121354854796, 0.019652036493718574, 0.019551661795228593, 0.0194510322882801, 0.019350182683985865, 0.019249147300271975, 0.019147959988580068, 0.019046654062870892, 0.018945262231115333, 0.018843816529447274, 0.018742348259142973, 0.018640887926579565, 0.018539465186314306, 0.01843810878741363, 0.01833684652314966, 0.018235705184169195, 0.01813471051522762, 0.018033887175567774, 0.017933258703011216, 0.017832847481816218, 0.017732674714344757, 0.017632760396567772, 0.01753312329742512, 0.017433780942045268, 0.017334749598816306, 0.017236044270288874, 0.01713767868787897, 0.01703966531032801, 0.01694201532586543, 0.01684473865800931, 0.016747843974928598, 0.01665133870228226, 0.0165552290394395, 0.01645951997897704, 0.01636421532934031, 0.016269317740546924, 0.016174828732804406, 0.016080748727905086, 0.01598707708325638, 0.015893812128397265, 0.015800951203847138, 0.01570849070212789, 0.015616426110796078, 0.015524752057318089, 0.015433462355618396, 0.015342550054128068, 0.015252007485159268, 0.015161826315429682, 0.01507199759756055, 0.014982511822370967, 0.014893358971792831, 0.014804528572230089, 0.014716009748188836, 0.01462779127600614, 0.014539861637507756, 0.014452209073428776, 0.01436482163643351, 0.014277687243575896, 0.01419079372804577, 0.01410412889005039, 0.014017680546687297, 0.013931436580668304, 0.013845384987762027, 0.013759513922827048, 0.013673811744315478, 0.013588267057132834, 0.013502868753747026, 0.01341760605344716, 0.01333246853965938, 0.013247446195235333, 0.013162529435636013, 0.013077709139941966, 0.012992976679628176, 0.012908323945050827, 0.012823743369600115, 0.012739227951482164, 0.012654771273100555, 0.012570367518016204, 0.012486011485472036, 0.012401698602477125, 0.012317424933452054, 0.012233187187445685, 0.012148982722939912, 0.012064809550267246, 0.011980666331672805, 0.011896552379058779, 0.011812467649457013, 0.011728412738280574, 0.01164438887041295, 0.011560397889197662, 0.011476442243398298, 0.011392524972203444, 0.011308649688356225, 0.01122482055949315, 0.011141042287781233, 0.011057320087946429, 0.010973659663790429, 0.010890067183296047, 0.010806549252424658, 0.01072311288771208, 0.01063976548777135, 0.010556514803813045, 0.010473368909295925, 0.010390336168821025, 0.01030742520638444, 0.010224644873103959, 0.010142004214535236, 0.010059512437693145, 0.00997717887789353, 0.009895012965529693, 0.009813024192897373, 0.00973122208117984, 0.009649616147703668, 0.00956821587357337, 0.009487030671790823, 0.009406069855962857, 0.009325342609697548, 0.00924485795678599, 0.009164624732264075, 0.009084651554443664, 0.009004946797999708, 0.008925518568195201, 0.008846374676321662, 0.008767522616427995, 0.008688969543406299, 0.008610722252497675, 0.008532787160276457, 0.008455170287165921, 0.008377877241533074, 0.008300913205404613, 0.008224282921840942, 0.008147990683999122, 0.008072040325910022, 0.00799643521498936, 0.007921178246296368, 0.007846271838548134, 0.007771717931891871, 0.007697517987431768, 0.007623672988501073, 0.007550183443664736, 0.00747704939143215, 0.007404270406654223, 0.007331845608573688, 0.007259773670491777, 0.0071880528310104205, 0.007116680906802834, 0.007045655306861656, 0.006974973048168709, 0.006904630772726182, 0.006834624765884871, 0.006764950975901147, 0.0066956050346507, 0.006626582279423525, 0.006557877775721511, 0.00648948634097721, 0.006421402569109112, 0.006353620855827377, 0.006286135424601059, 0.006218940353196387, 0.006152029600694398, 0.006085397034894759, 0.0060190364600119905, 0.005952941644569527, 0.0058871063493974385, 0.005821524355638743, 0.00575618949267079, 0.005691095665848056, 0.005626236883974167, 0.00556160728641234, 0.00549720116974471, 0.0054330130138934675, 0.005369037507618554, 0.00530526957330927, 0.005241704390990079, 0.00517833742146374, 0.005115164428518181, 0.005052181500127124, 0.00498938506857817, 0.004926771929465788, 0.004864339259491182, 0.0048020846330149155, 0.004740006037312643, 0.004678101886489168, 0.0046163710340106825, 0.00455481278381944, 0.0044934269000007805, 0.004432213614976755], \"yaxis\": \"y\"}, {\"legendgroup\": \"Survived\", \"marker\": {\"color\": \"rgb(31, 119, 180)\", \"symbol\": \"line-ns-open\"}, \"mode\": \"markers\", \"name\": \"Survived\", \"showlegend\": false, \"type\": \"scatter\", \"x\": [49.0, 65.0, 53.0, 50.0, 60.0, 72.0, 70.0, 60.0, 55.0, 45.0, 41.0, 58.0, 65.0, 70.0, 42.0, 75.0, 55.0, 70.0, 67.0, 79.0, 51.0, 55.0, 65.0, 44.0, 57.0, 70.0, 60.0, 42.0, 58.0, 58.0, 63.0, 70.0, 60.0, 63.0, 65.0, 75.0, 80.0, 42.0, 60.0, 55.0, 45.0, 63.0, 45.0, 55.0, 50.0, 60.0, 58.0, 60.0, 85.0, 65.0, 60.0, 66.0, 60.0, 60.0, 43.0, 58.0, 61.0, 53.0, 53.0, 60.0, 46.0, 63.0, 81.0, 75.0, 65.0, 68.0, 62.0, 50.0, 46.0, 50.0, 61.0, 50.0, 52.0, 64.0, 60.0, 62.0, 50.0, 50.0, 65.0, 60.0, 52.0, 50.0, 85.0, 59.0, 66.0, 45.0, 63.0, 53.0, 65.0, 70.0, 51.0, 52.0, 70.0, 50.0, 65.0, 60.0, 69.0, 49.0, 63.0, 55.0, 40.0, 60.667, 40.0, 80.0, 64.0, 50.0, 73.0, 45.0, 65.0, 50.0, 60.0, 63.0, 45.0, 70.0, 60.0, 78.0, 50.0, 40.0, 85.0, 60.0, 49.0, 70.0, 50.0, 78.0, 65.0, 73.0, 70.0, 68.0, 55.0, 65.0, 42.0, 47.0, 58.0, 75.0, 58.0, 55.0, 65.0, 72.0, 70.0, 40.0, 53.0, 53.0, 77.0, 75.0, 70.0, 65.0, 55.0, 70.0, 65.0, 40.0, 73.0, 54.0, 61.0, 64.0, 40.0, 53.0, 50.0, 55.0, 50.0, 70.0, 53.0, 52.0, 65.0, 58.0, 45.0, 53.0, 55.0, 62.0, 68.0, 61.0, 50.0, 56.0, 45.0, 40.0, 44.0, 51.0, 67.0, 42.0, 60.0, 45.0, 70.0, 70.0, 50.0, 55.0, 70.0, 70.0, 42.0, 65.0, 50.0, 55.0, 60.0, 45.0, 65.0, 90.0, 45.0, 60.0, 52.0, 63.0, 62.0, 55.0, 45.0, 45.0, 50.0], \"xaxis\": \"x\", \"y\": [\"Survived\", \"Survived\", \"Survived\", \"Survived\", \"Survived\", \"Survived\", \"Survived\", \"Survived\", \"Survived\", \"Survived\", \"Survived\", \"Survived\", \"Survived\", \"Survived\", \"Survived\", \"Survived\", \"Survived\", \"Survived\", \"Survived\", \"Survived\", \"Survived\", \"Survived\", \"Survived\", \"Survived\", \"Survived\", \"Survived\", \"Survived\", \"Survived\", \"Survived\", \"Survived\", \"Survived\", \"Survived\", \"Survived\", \"Survived\", \"Survived\", \"Survived\", \"Survived\", \"Survived\", \"Survived\", \"Survived\", \"Survived\", \"Survived\", \"Survived\", \"Survived\", \"Survived\", \"Survived\", \"Survived\", \"Survived\", \"Survived\", \"Survived\", \"Survived\", \"Survived\", \"Survived\", \"Survived\", \"Survived\", \"Survived\", \"Survived\", \"Survived\", \"Survived\", \"Survived\", \"Survived\", \"Survived\", \"Survived\", \"Survived\", \"Survived\", \"Survived\", \"Survived\", \"Survived\", \"Survived\", \"Survived\", \"Survived\", \"Survived\", \"Survived\", \"Survived\", \"Survived\", \"Survived\", \"Survived\", \"Survived\", \"Survived\", \"Survived\", \"Survived\", \"Survived\", \"Survived\", \"Survived\", \"Survived\", \"Survived\", \"Survived\", \"Survived\", \"Survived\", \"Survived\", \"Survived\", \"Survived\", \"Survived\", \"Survived\", \"Survived\", \"Survived\", \"Survived\", \"Survived\", \"Survived\", \"Survived\", \"Survived\", \"Survived\", \"Survived\", \"Survived\", \"Survived\", \"Survived\", \"Survived\", \"Survived\", \"Survived\", \"Survived\", \"Survived\", \"Survived\", \"Survived\", \"Survived\", \"Survived\", \"Survived\", \"Survived\", \"Survived\", \"Survived\", \"Survived\", \"Survived\", \"Survived\", \"Survived\", \"Survived\", \"Survived\", \"Survived\", \"Survived\", \"Survived\", \"Survived\", \"Survived\", \"Survived\", \"Survived\", \"Survived\", \"Survived\", \"Survived\", \"Survived\", \"Survived\", \"Survived\", \"Survived\", \"Survived\", \"Survived\", \"Survived\", \"Survived\", \"Survived\", \"Survived\", \"Survived\", \"Survived\", \"Survived\", \"Survived\", \"Survived\", \"Survived\", \"Survived\", \"Survived\", \"Survived\", \"Survived\", \"Survived\", \"Survived\", \"Survived\", \"Survived\", \"Survived\", \"Survived\", \"Survived\", \"Survived\", \"Survived\", \"Survived\", \"Survived\", \"Survived\", \"Survived\", \"Survived\", \"Survived\", \"Survived\", \"Survived\", \"Survived\", \"Survived\", \"Survived\", \"Survived\", \"Survived\", \"Survived\", \"Survived\", \"Survived\", \"Survived\", \"Survived\", \"Survived\", \"Survived\", \"Survived\", \"Survived\", \"Survived\", \"Survived\", \"Survived\", \"Survived\", \"Survived\", \"Survived\", \"Survived\", \"Survived\", \"Survived\", \"Survived\", \"Survived\", \"Survived\", \"Survived\", \"Survived\", \"Survived\", \"Survived\", \"Survived\"], \"yaxis\": \"y2\"}, {\"legendgroup\": \"Not Survived\", \"marker\": {\"color\": \"rgb(255, 127, 14)\", \"symbol\": \"line-ns-open\"}, \"mode\": \"markers\", \"name\": \"Not Survived\", \"showlegend\": false, \"type\": \"scatter\", \"x\": [75.0, 55.0, 65.0, 50.0, 65.0, 90.0, 75.0, 60.0, 65.0, 80.0, 75.0, 62.0, 45.0, 50.0, 82.0, 87.0, 45.0, 70.0, 48.0, 65.0, 68.0, 75.0, 80.0, 95.0, 70.0, 58.0, 82.0, 94.0, 85.0, 50.0, 65.0, 69.0, 90.0, 82.0, 60.0, 70.0, 50.0, 70.0, 60.0, 50.0, 51.0, 60.0, 80.0, 57.0, 68.0, 53.0, 60.0, 70.0, 60.0, 95.0, 49.0, 72.0, 45.0, 50.0, 45.0, 60.0, 42.0, 72.0, 70.0, 65.0, 85.0, 69.0, 60.0, 60.0, 59.0, 60.0, 72.0, 85.0, 70.0, 86.0, 60.0, 46.0, 80.0, 72.0, 75.0, 72.0, 50.0, 45.0, 80.0, 59.0, 59.0, 65.0, 75.0, 58.0, 60.667, 50.0, 60.0, 45.0, 77.0, 48.0, 54.0, 73.0, 60.0, 55.0, 65.0, 55.0], \"xaxis\": \"x\", \"y\": [\"Not Survived\", \"Not Survived\", \"Not Survived\", \"Not Survived\", \"Not Survived\", \"Not Survived\", \"Not Survived\", \"Not Survived\", \"Not Survived\", \"Not Survived\", \"Not Survived\", \"Not Survived\", \"Not Survived\", \"Not Survived\", \"Not Survived\", \"Not Survived\", \"Not Survived\", \"Not Survived\", \"Not Survived\", \"Not Survived\", \"Not Survived\", \"Not Survived\", \"Not Survived\", \"Not Survived\", \"Not Survived\", \"Not Survived\", \"Not Survived\", \"Not Survived\", \"Not Survived\", \"Not Survived\", \"Not Survived\", \"Not Survived\", \"Not Survived\", \"Not Survived\", \"Not Survived\", \"Not Survived\", \"Not Survived\", \"Not Survived\", \"Not Survived\", \"Not Survived\", \"Not Survived\", \"Not Survived\", \"Not Survived\", \"Not Survived\", \"Not Survived\", \"Not Survived\", \"Not Survived\", \"Not Survived\", \"Not Survived\", \"Not Survived\", \"Not Survived\", \"Not Survived\", \"Not Survived\", \"Not Survived\", \"Not Survived\", \"Not Survived\", \"Not Survived\", \"Not Survived\", \"Not Survived\", \"Not Survived\", \"Not Survived\", \"Not Survived\", \"Not Survived\", \"Not Survived\", \"Not Survived\", \"Not Survived\", \"Not Survived\", \"Not Survived\", \"Not Survived\", \"Not Survived\", \"Not Survived\", \"Not Survived\", \"Not Survived\", \"Not Survived\", \"Not Survived\", \"Not Survived\", \"Not Survived\", \"Not Survived\", \"Not Survived\", \"Not Survived\", \"Not Survived\", \"Not Survived\", \"Not Survived\", \"Not Survived\", \"Not Survived\", \"Not Survived\", \"Not Survived\", \"Not Survived\", \"Not Survived\", \"Not Survived\", \"Not Survived\", \"Not Survived\", \"Not Survived\", \"Not Survived\", \"Not Survived\", \"Not Survived\"], \"yaxis\": \"y2\"}],\n",
              "                        {\"barmode\": \"overlay\", \"hovermode\": \"closest\", \"legend\": {\"traceorder\": \"reversed\"}, \"template\": {\"data\": {\"bar\": [{\"error_x\": {\"color\": \"#2a3f5f\"}, \"error_y\": {\"color\": \"#2a3f5f\"}, \"marker\": {\"line\": {\"color\": \"#E5ECF6\", \"width\": 0.5}}, \"type\": \"bar\"}], \"barpolar\": [{\"marker\": {\"line\": {\"color\": \"#E5ECF6\", \"width\": 0.5}}, \"type\": \"barpolar\"}], \"carpet\": [{\"aaxis\": {\"endlinecolor\": \"#2a3f5f\", \"gridcolor\": \"white\", \"linecolor\": \"white\", \"minorgridcolor\": \"white\", \"startlinecolor\": \"#2a3f5f\"}, \"baxis\": {\"endlinecolor\": \"#2a3f5f\", \"gridcolor\": \"white\", \"linecolor\": \"white\", \"minorgridcolor\": \"white\", \"startlinecolor\": \"#2a3f5f\"}, \"type\": \"carpet\"}], \"choropleth\": [{\"colorbar\": {\"outlinewidth\": 0, \"ticks\": \"\"}, \"type\": \"choropleth\"}], \"contour\": [{\"colorbar\": {\"outlinewidth\": 0, \"ticks\": \"\"}, \"colorscale\": [[0.0, \"#0d0887\"], [0.1111111111111111, \"#46039f\"], [0.2222222222222222, \"#7201a8\"], [0.3333333333333333, \"#9c179e\"], [0.4444444444444444, \"#bd3786\"], [0.5555555555555556, \"#d8576b\"], [0.6666666666666666, \"#ed7953\"], [0.7777777777777778, \"#fb9f3a\"], [0.8888888888888888, \"#fdca26\"], [1.0, \"#f0f921\"]], \"type\": \"contour\"}], \"contourcarpet\": [{\"colorbar\": {\"outlinewidth\": 0, \"ticks\": \"\"}, \"type\": \"contourcarpet\"}], \"heatmap\": [{\"colorbar\": {\"outlinewidth\": 0, \"ticks\": \"\"}, \"colorscale\": [[0.0, \"#0d0887\"], [0.1111111111111111, \"#46039f\"], [0.2222222222222222, \"#7201a8\"], [0.3333333333333333, \"#9c179e\"], [0.4444444444444444, \"#bd3786\"], [0.5555555555555556, \"#d8576b\"], [0.6666666666666666, \"#ed7953\"], [0.7777777777777778, \"#fb9f3a\"], [0.8888888888888888, \"#fdca26\"], [1.0, \"#f0f921\"]], \"type\": \"heatmap\"}], \"heatmapgl\": [{\"colorbar\": {\"outlinewidth\": 0, \"ticks\": \"\"}, \"colorscale\": [[0.0, \"#0d0887\"], [0.1111111111111111, \"#46039f\"], [0.2222222222222222, \"#7201a8\"], [0.3333333333333333, \"#9c179e\"], [0.4444444444444444, \"#bd3786\"], [0.5555555555555556, \"#d8576b\"], [0.6666666666666666, \"#ed7953\"], [0.7777777777777778, \"#fb9f3a\"], [0.8888888888888888, \"#fdca26\"], [1.0, \"#f0f921\"]], \"type\": \"heatmapgl\"}], \"histogram\": [{\"marker\": {\"colorbar\": {\"outlinewidth\": 0, \"ticks\": \"\"}}, \"type\": \"histogram\"}], \"histogram2d\": [{\"colorbar\": {\"outlinewidth\": 0, \"ticks\": \"\"}, \"colorscale\": [[0.0, \"#0d0887\"], [0.1111111111111111, \"#46039f\"], [0.2222222222222222, \"#7201a8\"], [0.3333333333333333, \"#9c179e\"], [0.4444444444444444, \"#bd3786\"], [0.5555555555555556, \"#d8576b\"], [0.6666666666666666, \"#ed7953\"], [0.7777777777777778, \"#fb9f3a\"], [0.8888888888888888, \"#fdca26\"], [1.0, \"#f0f921\"]], \"type\": \"histogram2d\"}], \"histogram2dcontour\": [{\"colorbar\": {\"outlinewidth\": 0, \"ticks\": \"\"}, \"colorscale\": [[0.0, \"#0d0887\"], [0.1111111111111111, \"#46039f\"], [0.2222222222222222, \"#7201a8\"], [0.3333333333333333, \"#9c179e\"], [0.4444444444444444, \"#bd3786\"], [0.5555555555555556, \"#d8576b\"], [0.6666666666666666, \"#ed7953\"], [0.7777777777777778, \"#fb9f3a\"], [0.8888888888888888, \"#fdca26\"], [1.0, \"#f0f921\"]], \"type\": \"histogram2dcontour\"}], \"mesh3d\": [{\"colorbar\": {\"outlinewidth\": 0, \"ticks\": \"\"}, \"type\": \"mesh3d\"}], \"parcoords\": [{\"line\": {\"colorbar\": {\"outlinewidth\": 0, \"ticks\": \"\"}}, \"type\": \"parcoords\"}], \"pie\": [{\"automargin\": true, \"type\": \"pie\"}], \"scatter\": [{\"marker\": {\"colorbar\": {\"outlinewidth\": 0, \"ticks\": \"\"}}, \"type\": \"scatter\"}], \"scatter3d\": [{\"line\": {\"colorbar\": {\"outlinewidth\": 0, \"ticks\": \"\"}}, \"marker\": {\"colorbar\": {\"outlinewidth\": 0, \"ticks\": \"\"}}, \"type\": \"scatter3d\"}], \"scattercarpet\": [{\"marker\": {\"colorbar\": {\"outlinewidth\": 0, \"ticks\": \"\"}}, \"type\": \"scattercarpet\"}], \"scattergeo\": [{\"marker\": {\"colorbar\": {\"outlinewidth\": 0, \"ticks\": \"\"}}, \"type\": \"scattergeo\"}], \"scattergl\": [{\"marker\": {\"colorbar\": {\"outlinewidth\": 0, \"ticks\": \"\"}}, \"type\": \"scattergl\"}], \"scattermapbox\": [{\"marker\": {\"colorbar\": {\"outlinewidth\": 0, \"ticks\": \"\"}}, \"type\": \"scattermapbox\"}], \"scatterpolar\": [{\"marker\": {\"colorbar\": {\"outlinewidth\": 0, \"ticks\": \"\"}}, \"type\": \"scatterpolar\"}], \"scatterpolargl\": [{\"marker\": {\"colorbar\": {\"outlinewidth\": 0, \"ticks\": \"\"}}, \"type\": \"scatterpolargl\"}], \"scatterternary\": [{\"marker\": {\"colorbar\": {\"outlinewidth\": 0, \"ticks\": \"\"}}, \"type\": \"scatterternary\"}], \"surface\": [{\"colorbar\": {\"outlinewidth\": 0, \"ticks\": \"\"}, \"colorscale\": [[0.0, \"#0d0887\"], [0.1111111111111111, \"#46039f\"], [0.2222222222222222, \"#7201a8\"], [0.3333333333333333, \"#9c179e\"], [0.4444444444444444, \"#bd3786\"], [0.5555555555555556, \"#d8576b\"], [0.6666666666666666, \"#ed7953\"], [0.7777777777777778, \"#fb9f3a\"], [0.8888888888888888, \"#fdca26\"], [1.0, \"#f0f921\"]], \"type\": \"surface\"}], \"table\": [{\"cells\": {\"fill\": {\"color\": \"#EBF0F8\"}, \"line\": {\"color\": \"white\"}}, \"header\": {\"fill\": {\"color\": \"#C8D4E3\"}, \"line\": {\"color\": \"white\"}}, \"type\": \"table\"}]}, \"layout\": {\"annotationdefaults\": {\"arrowcolor\": \"#2a3f5f\", \"arrowhead\": 0, \"arrowwidth\": 1}, \"coloraxis\": {\"colorbar\": {\"outlinewidth\": 0, \"ticks\": \"\"}}, \"colorscale\": {\"diverging\": [[0, \"#8e0152\"], [0.1, \"#c51b7d\"], [0.2, \"#de77ae\"], [0.3, \"#f1b6da\"], [0.4, \"#fde0ef\"], [0.5, \"#f7f7f7\"], [0.6, \"#e6f5d0\"], [0.7, \"#b8e186\"], [0.8, \"#7fbc41\"], [0.9, \"#4d9221\"], [1, \"#276419\"]], \"sequential\": [[0.0, \"#0d0887\"], [0.1111111111111111, \"#46039f\"], [0.2222222222222222, \"#7201a8\"], [0.3333333333333333, \"#9c179e\"], [0.4444444444444444, \"#bd3786\"], [0.5555555555555556, \"#d8576b\"], [0.6666666666666666, \"#ed7953\"], [0.7777777777777778, \"#fb9f3a\"], [0.8888888888888888, \"#fdca26\"], [1.0, \"#f0f921\"]], \"sequentialminus\": [[0.0, \"#0d0887\"], [0.1111111111111111, \"#46039f\"], [0.2222222222222222, \"#7201a8\"], [0.3333333333333333, \"#9c179e\"], [0.4444444444444444, \"#bd3786\"], [0.5555555555555556, \"#d8576b\"], [0.6666666666666666, \"#ed7953\"], [0.7777777777777778, \"#fb9f3a\"], [0.8888888888888888, \"#fdca26\"], [1.0, \"#f0f921\"]]}, \"colorway\": [\"#636efa\", \"#EF553B\", \"#00cc96\", \"#ab63fa\", \"#FFA15A\", \"#19d3f3\", \"#FF6692\", \"#B6E880\", \"#FF97FF\", \"#FECB52\"], \"font\": {\"color\": \"#2a3f5f\"}, \"geo\": {\"bgcolor\": \"white\", \"lakecolor\": \"white\", \"landcolor\": \"#E5ECF6\", \"showlakes\": true, \"showland\": true, \"subunitcolor\": \"white\"}, \"hoverlabel\": {\"align\": \"left\"}, \"hovermode\": \"closest\", \"mapbox\": {\"style\": \"light\"}, \"paper_bgcolor\": \"white\", \"plot_bgcolor\": \"#E5ECF6\", \"polar\": {\"angularaxis\": {\"gridcolor\": \"white\", \"linecolor\": \"white\", \"ticks\": \"\"}, \"bgcolor\": \"#E5ECF6\", \"radialaxis\": {\"gridcolor\": \"white\", \"linecolor\": \"white\", \"ticks\": \"\"}}, \"scene\": {\"xaxis\": {\"backgroundcolor\": \"#E5ECF6\", \"gridcolor\": \"white\", \"gridwidth\": 2, \"linecolor\": \"white\", \"showbackground\": true, \"ticks\": \"\", \"zerolinecolor\": \"white\"}, \"yaxis\": {\"backgroundcolor\": \"#E5ECF6\", \"gridcolor\": \"white\", \"gridwidth\": 2, \"linecolor\": \"white\", \"showbackground\": true, \"ticks\": \"\", \"zerolinecolor\": \"white\"}, \"zaxis\": {\"backgroundcolor\": \"#E5ECF6\", \"gridcolor\": \"white\", \"gridwidth\": 2, \"linecolor\": \"white\", \"showbackground\": true, \"ticks\": \"\", \"zerolinecolor\": \"white\"}}, \"shapedefaults\": {\"line\": {\"color\": \"#2a3f5f\"}}, \"ternary\": {\"aaxis\": {\"gridcolor\": \"white\", \"linecolor\": \"white\", \"ticks\": \"\"}, \"baxis\": {\"gridcolor\": \"white\", \"linecolor\": \"white\", \"ticks\": \"\"}, \"bgcolor\": \"#E5ECF6\", \"caxis\": {\"gridcolor\": \"white\", \"linecolor\": \"white\", \"ticks\": \"\"}}, \"title\": {\"x\": 0.05}, \"xaxis\": {\"automargin\": true, \"gridcolor\": \"white\", \"linecolor\": \"white\", \"ticks\": \"\", \"title\": {\"standoff\": 15}, \"zerolinecolor\": \"white\", \"zerolinewidth\": 2}, \"yaxis\": {\"automargin\": true, \"gridcolor\": \"white\", \"linecolor\": \"white\", \"ticks\": \"\", \"title\": {\"standoff\": 15}, \"zerolinecolor\": \"white\", \"zerolinewidth\": 2}}}, \"title\": {\"text\": \"Analysis in Age on Survival Status\"}, \"xaxis\": {\"anchor\": \"y2\", \"domain\": [0.0, 1.0], \"zeroline\": false}, \"yaxis\": {\"anchor\": \"free\", \"domain\": [0.35, 1], \"position\": 0.0}, \"yaxis2\": {\"anchor\": \"x\", \"domain\": [0, 0.25], \"dtick\": 1, \"showticklabels\": false}},\n",
              "                        {\"responsive\": true}\n",
              "                    ).then(function(){\n",
              "                            \n",
              "var gd = document.getElementById('97d4cd34-424e-44b6-bc48-34106d3dc358');\n",
              "var x = new MutationObserver(function (mutations, observer) {{\n",
              "        var display = window.getComputedStyle(gd).display;\n",
              "        if (!display || display === 'none') {{\n",
              "            console.log([gd, 'removed!']);\n",
              "            Plotly.purge(gd);\n",
              "            observer.disconnect();\n",
              "        }}\n",
              "}});\n",
              "\n",
              "// Listen for the removal of the full notebook cells\n",
              "var notebookContainer = gd.closest('#notebook-container');\n",
              "if (notebookContainer) {{\n",
              "    x.observe(notebookContainer, {childList: true});\n",
              "}}\n",
              "\n",
              "// Listen for the clearing of the current output cell\n",
              "var outputEl = gd.closest('.output');\n",
              "if (outputEl) {{\n",
              "    x.observe(outputEl, {childList: true});\n",
              "}}\n",
              "\n",
              "                        })\n",
              "                };\n",
              "                \n",
              "            </script>\n",
              "        </div>\n",
              "</body>\n",
              "</html>"
            ]
          },
          "metadata": {}
        }
      ]
    },
    {
      "cell_type": "code",
      "metadata": {
        "id": "1jejUazZY6j-"
      },
      "source": [
        "Maximum people died due to Heart failure at the age of 60 and 70\n",
        "\n",
        "Minimum people survied are at the age of 50 and 60"
      ],
      "execution_count": null,
      "outputs": []
    },
    {
      "cell_type": "code",
      "metadata": {
        "colab": {
          "base_uri": "https://localhost:8080/",
          "height": 542
        },
        "id": "xXYNWcAPY_MJ",
        "outputId": "65043276-6273-4782-f019-278111fbdca2"
      },
      "source": [
        "fig=px.violin(df,x='smoking',y='age',color='DEATH_EVENT',points='all',box=True)\n",
        "fig.update_layout(title_text='Analysis in Age and smoking on Survival Status')\n",
        "fig.show()"
      ],
      "execution_count": 6,
      "outputs": [
        {
          "output_type": "display_data",
          "data": {
            "text/html": [
              "<html>\n",
              "<head><meta charset=\"utf-8\" /></head>\n",
              "<body>\n",
              "    <div>\n",
              "            <script src=\"https://cdnjs.cloudflare.com/ajax/libs/mathjax/2.7.5/MathJax.js?config=TeX-AMS-MML_SVG\"></script><script type=\"text/javascript\">if (window.MathJax) {MathJax.Hub.Config({SVG: {font: \"STIX-Web\"}});}</script>\n",
              "                <script type=\"text/javascript\">window.PlotlyConfig = {MathJaxConfig: 'local'};</script>\n",
              "        <script src=\"https://cdn.plot.ly/plotly-latest.min.js\"></script>    \n",
              "            <div id=\"4e5b0647-602b-47b9-9fc3-e9cf09681bef\" class=\"plotly-graph-div\" style=\"height:525px; width:100%;\"></div>\n",
              "            <script type=\"text/javascript\">\n",
              "                \n",
              "                    window.PLOTLYENV=window.PLOTLYENV || {};\n",
              "                    \n",
              "                if (document.getElementById(\"4e5b0647-602b-47b9-9fc3-e9cf09681bef\")) {\n",
              "                    Plotly.newPlot(\n",
              "                        '4e5b0647-602b-47b9-9fc3-e9cf09681bef',\n",
              "                        [{\"alignmentgroup\": \"True\", \"box\": {\"visible\": true}, \"hoverlabel\": {\"namelength\": 0}, \"hovertemplate\": \"DEATH_EVENT=1<br>smoking=%{x}<br>age=%{y}\", \"legendgroup\": \"DEATH_EVENT=1\", \"marker\": {\"color\": \"#636efa\"}, \"name\": \"DEATH_EVENT=1\", \"offsetgroup\": \"DEATH_EVENT=1\", \"orientation\": \"v\", \"points\": \"all\", \"scalegroup\": \"True\", \"showlegend\": true, \"type\": \"violin\", \"x\": [0, 0, 1, 0, 0, 1, 0, 1, 0, 1, 1, 1, 0, 0, 0, 0, 0, 0, 0, 0, 1, 0, 1, 0, 1, 0, 1, 0, 0, 0, 0, 0, 0, 0, 0, 1, 1, 1, 0, 1, 0, 1, 0, 0, 0, 0, 0, 0, 1, 0, 1, 1, 0, 0, 0, 1, 0, 1, 0, 0, 1, 1, 1, 0, 0, 0, 1, 1, 0, 0, 0, 0, 0, 1, 0, 0, 0, 0, 0, 0, 1, 1, 0, 1, 0, 0, 0, 0, 0, 0, 0, 0, 0, 0, 0, 1], \"x0\": \" \", \"xaxis\": \"x\", \"y\": [75.0, 55.0, 65.0, 50.0, 65.0, 90.0, 75.0, 60.0, 65.0, 80.0, 75.0, 62.0, 45.0, 50.0, 82.0, 87.0, 45.0, 70.0, 48.0, 65.0, 68.0, 75.0, 80.0, 95.0, 70.0, 58.0, 82.0, 94.0, 85.0, 50.0, 65.0, 69.0, 90.0, 82.0, 60.0, 70.0, 50.0, 70.0, 60.0, 50.0, 51.0, 60.0, 80.0, 57.0, 68.0, 53.0, 60.0, 70.0, 60.0, 95.0, 49.0, 72.0, 45.0, 50.0, 45.0, 60.0, 42.0, 72.0, 70.0, 65.0, 85.0, 69.0, 60.0, 60.0, 59.0, 60.0, 72.0, 85.0, 70.0, 86.0, 60.0, 46.0, 80.0, 72.0, 75.0, 72.0, 50.0, 45.0, 80.0, 59.0, 59.0, 65.0, 75.0, 58.0, 60.667, 50.0, 60.0, 45.0, 77.0, 48.0, 54.0, 73.0, 60.0, 55.0, 65.0, 55.0], \"y0\": \" \", \"yaxis\": \"y\"}, {\"alignmentgroup\": \"True\", \"box\": {\"visible\": true}, \"hoverlabel\": {\"namelength\": 0}, \"hovertemplate\": \"DEATH_EVENT=0<br>smoking=%{x}<br>age=%{y}\", \"legendgroup\": \"DEATH_EVENT=0\", \"marker\": {\"color\": \"#EF553B\"}, \"name\": \"DEATH_EVENT=0\", \"offsetgroup\": \"DEATH_EVENT=0\", \"orientation\": \"v\", \"points\": \"all\", \"scalegroup\": \"True\", \"showlegend\": true, \"type\": \"violin\", \"x\": [0, 0, 0, 0, 0, 0, 1, 1, 1, 0, 1, 1, 1, 1, 0, 1, 0, 0, 1, 0, 0, 0, 0, 0, 0, 1, 0, 0, 0, 0, 0, 0, 0, 0, 0, 0, 1, 1, 0, 0, 0, 1, 1, 1, 0, 0, 0, 0, 0, 0, 1, 0, 0, 0, 0, 0, 1, 0, 1, 0, 0, 1, 1, 0, 0, 0, 0, 0, 0, 0, 0, 1, 1, 0, 0, 0, 1, 1, 0, 0, 0, 1, 0, 1, 0, 1, 1, 1, 0, 0, 1, 1, 1, 0, 1, 1, 1, 0, 0, 1, 0, 0, 0, 0, 0, 0, 1, 0, 0, 0, 1, 0, 0, 0, 1, 1, 0, 0, 0, 0, 0, 1, 1, 1, 0, 0, 0, 0, 0, 1, 1, 0, 0, 0, 1, 0, 0, 0, 1, 0, 1, 1, 0, 0, 0, 0, 1, 0, 1, 1, 0, 0, 0, 0, 1, 0, 0, 0, 0, 0, 0, 1, 0, 0, 0, 1, 0, 0, 0, 0, 1, 0, 0, 0, 1, 0, 0, 0, 1, 0, 0, 0, 0, 0, 0, 1, 1, 1, 0, 0, 0, 0, 0, 0, 0, 0, 1, 1, 1, 0, 0, 1, 1], \"x0\": \" \", \"xaxis\": \"x\", \"y\": [49.0, 65.0, 53.0, 50.0, 60.0, 72.0, 70.0, 60.0, 55.0, 45.0, 41.0, 58.0, 65.0, 70.0, 42.0, 75.0, 55.0, 70.0, 67.0, 79.0, 51.0, 55.0, 65.0, 44.0, 57.0, 70.0, 60.0, 42.0, 58.0, 58.0, 63.0, 70.0, 60.0, 63.0, 65.0, 75.0, 80.0, 42.0, 60.0, 55.0, 45.0, 63.0, 45.0, 55.0, 50.0, 60.0, 58.0, 60.0, 85.0, 65.0, 60.0, 66.0, 60.0, 60.0, 43.0, 58.0, 61.0, 53.0, 53.0, 60.0, 46.0, 63.0, 81.0, 75.0, 65.0, 68.0, 62.0, 50.0, 46.0, 50.0, 61.0, 50.0, 52.0, 64.0, 60.0, 62.0, 50.0, 50.0, 65.0, 60.0, 52.0, 50.0, 85.0, 59.0, 66.0, 45.0, 63.0, 53.0, 65.0, 70.0, 51.0, 52.0, 70.0, 50.0, 65.0, 60.0, 69.0, 49.0, 63.0, 55.0, 40.0, 60.667, 40.0, 80.0, 64.0, 50.0, 73.0, 45.0, 65.0, 50.0, 60.0, 63.0, 45.0, 70.0, 60.0, 78.0, 50.0, 40.0, 85.0, 60.0, 49.0, 70.0, 50.0, 78.0, 65.0, 73.0, 70.0, 68.0, 55.0, 65.0, 42.0, 47.0, 58.0, 75.0, 58.0, 55.0, 65.0, 72.0, 70.0, 40.0, 53.0, 53.0, 77.0, 75.0, 70.0, 65.0, 55.0, 70.0, 65.0, 40.0, 73.0, 54.0, 61.0, 64.0, 40.0, 53.0, 50.0, 55.0, 50.0, 70.0, 53.0, 52.0, 65.0, 58.0, 45.0, 53.0, 55.0, 62.0, 68.0, 61.0, 50.0, 56.0, 45.0, 40.0, 44.0, 51.0, 67.0, 42.0, 60.0, 45.0, 70.0, 70.0, 50.0, 55.0, 70.0, 70.0, 42.0, 65.0, 50.0, 55.0, 60.0, 45.0, 65.0, 90.0, 45.0, 60.0, 52.0, 63.0, 62.0, 55.0, 45.0, 45.0, 50.0], \"y0\": \" \", \"yaxis\": \"y\"}],\n",
              "                        {\"legend\": {\"tracegroupgap\": 0}, \"margin\": {\"t\": 60}, \"template\": {\"data\": {\"bar\": [{\"error_x\": {\"color\": \"#2a3f5f\"}, \"error_y\": {\"color\": \"#2a3f5f\"}, \"marker\": {\"line\": {\"color\": \"#E5ECF6\", \"width\": 0.5}}, \"type\": \"bar\"}], \"barpolar\": [{\"marker\": {\"line\": {\"color\": \"#E5ECF6\", \"width\": 0.5}}, \"type\": \"barpolar\"}], \"carpet\": [{\"aaxis\": {\"endlinecolor\": \"#2a3f5f\", \"gridcolor\": \"white\", \"linecolor\": \"white\", \"minorgridcolor\": \"white\", \"startlinecolor\": \"#2a3f5f\"}, \"baxis\": {\"endlinecolor\": \"#2a3f5f\", \"gridcolor\": \"white\", \"linecolor\": \"white\", \"minorgridcolor\": \"white\", \"startlinecolor\": \"#2a3f5f\"}, \"type\": \"carpet\"}], \"choropleth\": [{\"colorbar\": {\"outlinewidth\": 0, \"ticks\": \"\"}, \"type\": \"choropleth\"}], \"contour\": [{\"colorbar\": {\"outlinewidth\": 0, \"ticks\": \"\"}, \"colorscale\": [[0.0, \"#0d0887\"], [0.1111111111111111, \"#46039f\"], [0.2222222222222222, \"#7201a8\"], [0.3333333333333333, \"#9c179e\"], [0.4444444444444444, \"#bd3786\"], [0.5555555555555556, \"#d8576b\"], [0.6666666666666666, \"#ed7953\"], [0.7777777777777778, \"#fb9f3a\"], [0.8888888888888888, \"#fdca26\"], [1.0, \"#f0f921\"]], \"type\": \"contour\"}], \"contourcarpet\": [{\"colorbar\": {\"outlinewidth\": 0, \"ticks\": \"\"}, \"type\": \"contourcarpet\"}], \"heatmap\": [{\"colorbar\": {\"outlinewidth\": 0, \"ticks\": \"\"}, \"colorscale\": [[0.0, \"#0d0887\"], [0.1111111111111111, \"#46039f\"], [0.2222222222222222, \"#7201a8\"], [0.3333333333333333, \"#9c179e\"], [0.4444444444444444, \"#bd3786\"], [0.5555555555555556, \"#d8576b\"], [0.6666666666666666, \"#ed7953\"], [0.7777777777777778, \"#fb9f3a\"], [0.8888888888888888, \"#fdca26\"], [1.0, \"#f0f921\"]], \"type\": \"heatmap\"}], \"heatmapgl\": [{\"colorbar\": {\"outlinewidth\": 0, \"ticks\": \"\"}, \"colorscale\": [[0.0, \"#0d0887\"], [0.1111111111111111, \"#46039f\"], [0.2222222222222222, \"#7201a8\"], [0.3333333333333333, \"#9c179e\"], [0.4444444444444444, \"#bd3786\"], [0.5555555555555556, \"#d8576b\"], [0.6666666666666666, \"#ed7953\"], [0.7777777777777778, \"#fb9f3a\"], [0.8888888888888888, \"#fdca26\"], [1.0, \"#f0f921\"]], \"type\": \"heatmapgl\"}], \"histogram\": [{\"marker\": {\"colorbar\": {\"outlinewidth\": 0, \"ticks\": \"\"}}, \"type\": \"histogram\"}], \"histogram2d\": [{\"colorbar\": {\"outlinewidth\": 0, \"ticks\": \"\"}, \"colorscale\": [[0.0, \"#0d0887\"], [0.1111111111111111, \"#46039f\"], [0.2222222222222222, \"#7201a8\"], [0.3333333333333333, \"#9c179e\"], [0.4444444444444444, \"#bd3786\"], [0.5555555555555556, \"#d8576b\"], [0.6666666666666666, \"#ed7953\"], [0.7777777777777778, \"#fb9f3a\"], [0.8888888888888888, \"#fdca26\"], [1.0, \"#f0f921\"]], \"type\": \"histogram2d\"}], \"histogram2dcontour\": [{\"colorbar\": {\"outlinewidth\": 0, \"ticks\": \"\"}, \"colorscale\": [[0.0, \"#0d0887\"], [0.1111111111111111, \"#46039f\"], [0.2222222222222222, \"#7201a8\"], [0.3333333333333333, \"#9c179e\"], [0.4444444444444444, \"#bd3786\"], [0.5555555555555556, \"#d8576b\"], [0.6666666666666666, \"#ed7953\"], [0.7777777777777778, \"#fb9f3a\"], [0.8888888888888888, \"#fdca26\"], [1.0, \"#f0f921\"]], \"type\": \"histogram2dcontour\"}], \"mesh3d\": [{\"colorbar\": {\"outlinewidth\": 0, \"ticks\": \"\"}, \"type\": \"mesh3d\"}], \"parcoords\": [{\"line\": {\"colorbar\": {\"outlinewidth\": 0, \"ticks\": \"\"}}, \"type\": \"parcoords\"}], \"pie\": [{\"automargin\": true, \"type\": \"pie\"}], \"scatter\": [{\"marker\": {\"colorbar\": {\"outlinewidth\": 0, \"ticks\": \"\"}}, \"type\": \"scatter\"}], \"scatter3d\": [{\"line\": {\"colorbar\": {\"outlinewidth\": 0, \"ticks\": \"\"}}, \"marker\": {\"colorbar\": {\"outlinewidth\": 0, \"ticks\": \"\"}}, \"type\": \"scatter3d\"}], \"scattercarpet\": [{\"marker\": {\"colorbar\": {\"outlinewidth\": 0, \"ticks\": \"\"}}, \"type\": \"scattercarpet\"}], \"scattergeo\": [{\"marker\": {\"colorbar\": {\"outlinewidth\": 0, \"ticks\": \"\"}}, \"type\": \"scattergeo\"}], \"scattergl\": [{\"marker\": {\"colorbar\": {\"outlinewidth\": 0, \"ticks\": \"\"}}, \"type\": \"scattergl\"}], \"scattermapbox\": [{\"marker\": {\"colorbar\": {\"outlinewidth\": 0, \"ticks\": \"\"}}, \"type\": \"scattermapbox\"}], \"scatterpolar\": [{\"marker\": {\"colorbar\": {\"outlinewidth\": 0, \"ticks\": \"\"}}, \"type\": \"scatterpolar\"}], \"scatterpolargl\": [{\"marker\": {\"colorbar\": {\"outlinewidth\": 0, \"ticks\": \"\"}}, \"type\": \"scatterpolargl\"}], \"scatterternary\": [{\"marker\": {\"colorbar\": {\"outlinewidth\": 0, \"ticks\": \"\"}}, \"type\": \"scatterternary\"}], \"surface\": [{\"colorbar\": {\"outlinewidth\": 0, \"ticks\": \"\"}, \"colorscale\": [[0.0, \"#0d0887\"], [0.1111111111111111, \"#46039f\"], [0.2222222222222222, \"#7201a8\"], [0.3333333333333333, \"#9c179e\"], [0.4444444444444444, \"#bd3786\"], [0.5555555555555556, \"#d8576b\"], [0.6666666666666666, \"#ed7953\"], [0.7777777777777778, \"#fb9f3a\"], [0.8888888888888888, \"#fdca26\"], [1.0, \"#f0f921\"]], \"type\": \"surface\"}], \"table\": [{\"cells\": {\"fill\": {\"color\": \"#EBF0F8\"}, \"line\": {\"color\": \"white\"}}, \"header\": {\"fill\": {\"color\": \"#C8D4E3\"}, \"line\": {\"color\": \"white\"}}, \"type\": \"table\"}]}, \"layout\": {\"annotationdefaults\": {\"arrowcolor\": \"#2a3f5f\", \"arrowhead\": 0, \"arrowwidth\": 1}, \"coloraxis\": {\"colorbar\": {\"outlinewidth\": 0, \"ticks\": \"\"}}, \"colorscale\": {\"diverging\": [[0, \"#8e0152\"], [0.1, \"#c51b7d\"], [0.2, \"#de77ae\"], [0.3, \"#f1b6da\"], [0.4, \"#fde0ef\"], [0.5, \"#f7f7f7\"], [0.6, \"#e6f5d0\"], [0.7, \"#b8e186\"], [0.8, \"#7fbc41\"], [0.9, \"#4d9221\"], [1, \"#276419\"]], \"sequential\": [[0.0, \"#0d0887\"], [0.1111111111111111, \"#46039f\"], [0.2222222222222222, \"#7201a8\"], [0.3333333333333333, \"#9c179e\"], [0.4444444444444444, \"#bd3786\"], [0.5555555555555556, \"#d8576b\"], [0.6666666666666666, \"#ed7953\"], [0.7777777777777778, \"#fb9f3a\"], [0.8888888888888888, \"#fdca26\"], [1.0, \"#f0f921\"]], \"sequentialminus\": [[0.0, \"#0d0887\"], [0.1111111111111111, \"#46039f\"], [0.2222222222222222, \"#7201a8\"], [0.3333333333333333, \"#9c179e\"], [0.4444444444444444, \"#bd3786\"], [0.5555555555555556, \"#d8576b\"], [0.6666666666666666, \"#ed7953\"], [0.7777777777777778, \"#fb9f3a\"], [0.8888888888888888, \"#fdca26\"], [1.0, \"#f0f921\"]]}, \"colorway\": [\"#636efa\", \"#EF553B\", \"#00cc96\", \"#ab63fa\", \"#FFA15A\", \"#19d3f3\", \"#FF6692\", \"#B6E880\", \"#FF97FF\", \"#FECB52\"], \"font\": {\"color\": \"#2a3f5f\"}, \"geo\": {\"bgcolor\": \"white\", \"lakecolor\": \"white\", \"landcolor\": \"#E5ECF6\", \"showlakes\": true, \"showland\": true, \"subunitcolor\": \"white\"}, \"hoverlabel\": {\"align\": \"left\"}, \"hovermode\": \"closest\", \"mapbox\": {\"style\": \"light\"}, \"paper_bgcolor\": \"white\", \"plot_bgcolor\": \"#E5ECF6\", \"polar\": {\"angularaxis\": {\"gridcolor\": \"white\", \"linecolor\": \"white\", \"ticks\": \"\"}, \"bgcolor\": \"#E5ECF6\", \"radialaxis\": {\"gridcolor\": \"white\", \"linecolor\": \"white\", \"ticks\": \"\"}}, \"scene\": {\"xaxis\": {\"backgroundcolor\": \"#E5ECF6\", \"gridcolor\": \"white\", \"gridwidth\": 2, \"linecolor\": \"white\", \"showbackground\": true, \"ticks\": \"\", \"zerolinecolor\": \"white\"}, \"yaxis\": {\"backgroundcolor\": \"#E5ECF6\", \"gridcolor\": \"white\", \"gridwidth\": 2, \"linecolor\": \"white\", \"showbackground\": true, \"ticks\": \"\", \"zerolinecolor\": \"white\"}, \"zaxis\": {\"backgroundcolor\": \"#E5ECF6\", \"gridcolor\": \"white\", \"gridwidth\": 2, \"linecolor\": \"white\", \"showbackground\": true, \"ticks\": \"\", \"zerolinecolor\": \"white\"}}, \"shapedefaults\": {\"line\": {\"color\": \"#2a3f5f\"}}, \"ternary\": {\"aaxis\": {\"gridcolor\": \"white\", \"linecolor\": \"white\", \"ticks\": \"\"}, \"baxis\": {\"gridcolor\": \"white\", \"linecolor\": \"white\", \"ticks\": \"\"}, \"bgcolor\": \"#E5ECF6\", \"caxis\": {\"gridcolor\": \"white\", \"linecolor\": \"white\", \"ticks\": \"\"}}, \"title\": {\"x\": 0.05}, \"xaxis\": {\"automargin\": true, \"gridcolor\": \"white\", \"linecolor\": \"white\", \"ticks\": \"\", \"title\": {\"standoff\": 15}, \"zerolinecolor\": \"white\", \"zerolinewidth\": 2}, \"yaxis\": {\"automargin\": true, \"gridcolor\": \"white\", \"linecolor\": \"white\", \"ticks\": \"\", \"title\": {\"standoff\": 15}, \"zerolinecolor\": \"white\", \"zerolinewidth\": 2}}}, \"title\": {\"text\": \"Analysis in Age and smoking on Survival Status\"}, \"violinmode\": \"group\", \"xaxis\": {\"anchor\": \"y\", \"domain\": [0.0, 1.0], \"title\": {\"text\": \"smoking\"}}, \"yaxis\": {\"anchor\": \"x\", \"domain\": [0.0, 1.0], \"title\": {\"text\": \"age\"}}},\n",
              "                        {\"responsive\": true}\n",
              "                    ).then(function(){\n",
              "                            \n",
              "var gd = document.getElementById('4e5b0647-602b-47b9-9fc3-e9cf09681bef');\n",
              "var x = new MutationObserver(function (mutations, observer) {{\n",
              "        var display = window.getComputedStyle(gd).display;\n",
              "        if (!display || display === 'none') {{\n",
              "            console.log([gd, 'removed!']);\n",
              "            Plotly.purge(gd);\n",
              "            observer.disconnect();\n",
              "        }}\n",
              "}});\n",
              "\n",
              "// Listen for the removal of the full notebook cells\n",
              "var notebookContainer = gd.closest('#notebook-container');\n",
              "if (notebookContainer) {{\n",
              "    x.observe(notebookContainer, {childList: true});\n",
              "}}\n",
              "\n",
              "// Listen for the clearing of the current output cell\n",
              "var outputEl = gd.closest('.output');\n",
              "if (outputEl) {{\n",
              "    x.observe(outputEl, {childList: true});\n",
              "}}\n",
              "\n",
              "                        })\n",
              "                };\n",
              "                \n",
              "            </script>\n",
              "        </div>\n",
              "</body>\n",
              "</html>"
            ]
          },
          "metadata": {}
        }
      ]
    }
  ]
}